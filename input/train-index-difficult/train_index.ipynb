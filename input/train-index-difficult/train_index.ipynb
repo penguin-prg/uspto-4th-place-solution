{
 "cells": [
  {
   "cell_type": "code",
   "execution_count": 1,
   "metadata": {},
   "outputs": [],
   "source": [
    "import os\n",
    "import sys\n",
    "\n",
    "PACKAGE_DIR = \"/kaggle/src\"\n",
    "sys.path.append(PACKAGE_DIR)\n",
    "sys.path.append(os.path.join(PACKAGE_DIR, \"Penguin-ML-Library\"))"
   ]
  },
  {
   "cell_type": "code",
   "execution_count": 2,
   "metadata": {},
   "outputs": [
    {
     "name": "stdout",
     "output_type": "stream",
     "text": [
      "Processing /kaggle/input/whoosh-wheel-2-7-4/Whoosh-2.7.4-py2.py3-none-any.whl\n",
      "Requirement already satisfied: cached-property in /opt/conda/lib/python3.10/site-packages (from Whoosh==2.7.4) (1.5.2)\n",
      "Whoosh is already installed with the same version as the provided wheel. Use --force-reinstall to force an installation of the wheel.\n"
     ]
    },
    {
     "name": "stderr",
     "output_type": "stream",
     "text": [
      "\u001b[33mWARNING: Running pip as the 'root' user can result in broken permissions and conflicting behaviour with the system package manager. It is recommended to use a virtual environment instead: https://pip.pypa.io/warnings/venv\u001b[0m\u001b[33m\n",
      "\u001b[0m"
     ]
    }
   ],
   "source": [
    "import whoosh_utils"
   ]
  },
  {
   "cell_type": "code",
   "execution_count": 3,
   "metadata": {},
   "outputs": [],
   "source": [
    "import bz2\n",
    "import json\n",
    "\n",
    "\n",
    "def save_list_bz2(data, filename):\n",
    "    serialized_data = json.dumps(data)\n",
    "    compressed_data = bz2.compress(serialized_data.encode(\"utf-8\"))\n",
    "\n",
    "    with open(filename, \"wb\") as f:\n",
    "        f.write(compressed_data)\n",
    "\n",
    "\n",
    "def load_list_bz2(filename):\n",
    "    with open(filename, \"rb\") as f:\n",
    "        compressed_data = f.read()\n",
    "        decompressed_data = bz2.decompress(compressed_data)\n",
    "        return json.loads(decompressed_data.decode(\"utf-8\"))"
   ]
  },
  {
   "cell_type": "code",
   "execution_count": 4,
   "metadata": {},
   "outputs": [
    {
     "data": {
      "text/html": [
       "<div><style>\n",
       ".dataframe > thead > tr > th,\n",
       ".dataframe > tbody > tr > td {\n",
       "  text-align: right;\n",
       "  white-space: pre-wrap;\n",
       "}\n",
       "</style>\n",
       "<small>shape: (1, 51)</small><table border=\"1\" class=\"dataframe\"><thead><tr><th>publication_number</th><th>target_0</th><th>target_1</th><th>target_2</th><th>target_3</th><th>target_4</th><th>target_5</th><th>target_6</th><th>target_7</th><th>target_8</th><th>target_9</th><th>target_10</th><th>target_11</th><th>target_12</th><th>target_13</th><th>target_14</th><th>target_15</th><th>target_16</th><th>target_17</th><th>target_18</th><th>target_19</th><th>target_20</th><th>target_21</th><th>target_22</th><th>target_23</th><th>target_24</th><th>target_25</th><th>target_26</th><th>target_27</th><th>target_28</th><th>target_29</th><th>target_30</th><th>target_31</th><th>target_32</th><th>target_33</th><th>target_34</th><th>target_35</th><th>target_36</th><th>target_37</th><th>target_38</th><th>target_39</th><th>target_40</th><th>target_41</th><th>target_42</th><th>target_43</th><th>target_44</th><th>target_45</th><th>target_46</th><th>target_47</th><th>target_48</th><th>target_49</th></tr><tr><td>str</td><td>str</td><td>str</td><td>str</td><td>str</td><td>str</td><td>str</td><td>str</td><td>str</td><td>str</td><td>str</td><td>str</td><td>str</td><td>str</td><td>str</td><td>str</td><td>str</td><td>str</td><td>str</td><td>str</td><td>str</td><td>str</td><td>str</td><td>str</td><td>str</td><td>str</td><td>str</td><td>str</td><td>str</td><td>str</td><td>str</td><td>str</td><td>str</td><td>str</td><td>str</td><td>str</td><td>str</td><td>str</td><td>str</td><td>str</td><td>str</td><td>str</td><td>str</td><td>str</td><td>str</td><td>str</td><td>str</td><td>str</td><td>str</td><td>str</td><td>str</td></tr></thead><tbody><tr><td>&quot;US-2011086809-…</td><td>&quot;US-2006229256-…</td><td>&quot;US-2009192226-…</td><td>&quot;US-2023114071-…</td><td>&quot;US-7754692-B2&quot;</td><td>&quot;US-9345727-B2&quot;</td><td>&quot;US-7829126-B2&quot;</td><td>&quot;US-2012171231-…</td><td>&quot;US-2012171164-…</td><td>&quot;US-2023140478-…</td><td>&quot;US-2021138042-…</td><td>&quot;US-9226914-B2&quot;</td><td>&quot;US-11389403-B2…</td><td>&quot;US-2016029681-…</td><td>&quot;US-10342244-B2…</td><td>&quot;US-2021145782-…</td><td>&quot;US-2007166411-…</td><td>&quot;US-7867541-B2&quot;</td><td>&quot;US-10028519-B2…</td><td>&quot;US-9386794-B2&quot;</td><td>&quot;US-2012171328-…</td><td>&quot;US-2013338228-…</td><td>&quot;US-2023102803-…</td><td>&quot;US-10688070-B2…</td><td>&quot;US-2014308393-…</td><td>&quot;US-2016106799-…</td><td>&quot;US-9370553-B2&quot;</td><td>&quot;US-2014303067-…</td><td>&quot;US-9474766-B2&quot;</td><td>&quot;US-2015157048-…</td><td>&quot;US-2018310605-…</td><td>&quot;US-2023149542-…</td><td>&quot;US-2017105445-…</td><td>&quot;US-2011208153-…</td><td>&quot;US-9345741-B2&quot;</td><td>&quot;US-2022386675-…</td><td>&quot;US-2006229366-…</td><td>&quot;US-9241923-B2&quot;</td><td>&quot;US-11606966-B2…</td><td>&quot;US-2007202052-…</td><td>&quot;US-2012171163-…</td><td>&quot;US-2013230503-…</td><td>&quot;US-2015305359-…</td><td>&quot;US-2010179104-…</td><td>&quot;US-2016015068-…</td><td>&quot;US-2022233488-…</td><td>&quot;US-2020230162-…</td><td>&quot;US-2022168399-…</td><td>&quot;US-9107894-B2&quot;</td><td>&quot;US-2023013644-…</td><td>&quot;US-2014328970-…</td></tr></tbody></table></div>"
      ],
      "text/plain": [
       "shape: (1, 51)\n",
       "┌───────────┬───────────┬───────────┬───────────┬───┬───────────┬───────────┬───────────┬──────────┐\n",
       "│ publicati ┆ target_0  ┆ target_1  ┆ target_2  ┆ … ┆ target_46 ┆ target_47 ┆ target_48 ┆ target_4 │\n",
       "│ on_number ┆ ---       ┆ ---       ┆ ---       ┆   ┆ ---       ┆ ---       ┆ ---       ┆ 9        │\n",
       "│ ---       ┆ str       ┆ str       ┆ str       ┆   ┆ str       ┆ str       ┆ str       ┆ ---      │\n",
       "│ str       ┆           ┆           ┆           ┆   ┆           ┆           ┆           ┆ str      │\n",
       "╞═══════════╪═══════════╪═══════════╪═══════════╪═══╪═══════════╪═══════════╪═══════════╪══════════╡\n",
       "│ US-201108 ┆ US-200622 ┆ US-200919 ┆ US-202311 ┆ … ┆ US-202216 ┆ US-910789 ┆ US-202301 ┆ US-20143 │\n",
       "│ 6809-A1   ┆ 9256-A1   ┆ 2226-A1   ┆ 4071-A1   ┆   ┆ 8399-A1   ┆ 4-B2      ┆ 3644-A1   ┆ 28970-A1 │\n",
       "└───────────┴───────────┴───────────┴───────────┴───┴───────────┴───────────┴───────────┴──────────┘"
      ]
     },
     "execution_count": 4,
     "metadata": {},
     "output_type": "execute_result"
    }
   ],
   "source": [
    "import json\n",
    "\n",
    "import polars as pl\n",
    "\n",
    "train = pl.read_parquet(\"/kaggle/input/uspto-train-data-2500/train2500_seed0.parquet\")\n",
    "train.head(1)"
   ]
  },
  {
   "cell_type": "code",
   "execution_count": 5,
   "metadata": {},
   "outputs": [
    {
     "data": {
      "text/plain": [
       "125705"
      ]
     },
     "execution_count": 5,
     "metadata": {},
     "output_type": "execute_result"
    }
   ],
   "source": [
    "train_patents = train[\"publication_number\"].to_list()\n",
    "for i in range(50):\n",
    "    train_patents += train[f\"target_{i}\"].to_list()\n",
    "train_patents = list(set(train_patents))\n",
    "len(train_patents)"
   ]
  },
  {
   "cell_type": "code",
   "execution_count": 6,
   "metadata": {},
   "outputs": [
    {
     "data": {
      "text/html": [
       "<div><style>\n",
       ".dataframe > thead > tr > th,\n",
       ".dataframe > tbody > tr > td {\n",
       "  text-align: right;\n",
       "  white-space: pre-wrap;\n",
       "}\n",
       "</style>\n",
       "<small>shape: (1, 5)</small><table border=\"1\" class=\"dataframe\"><thead><tr><th>publication_number</th><th>publication_date</th><th>filing_date</th><th>family_id</th><th>cpc_codes</th></tr><tr><td>str</td><td>datetime[μs]</td><td>datetime[μs]</td><td>f64</td><td>list[str]</td></tr></thead><tbody><tr><td>&quot;US-1-A&quot;</td><td>1836-07-13 00:00:00</td><td>null</td><td>2.060279e6</td><td>[&quot;B61C11/04&quot;]</td></tr></tbody></table></div>"
      ],
      "text/plain": [
       "shape: (1, 5)\n",
       "┌────────────────────┬─────────────────────┬──────────────┬────────────┬───────────────┐\n",
       "│ publication_number ┆ publication_date    ┆ filing_date  ┆ family_id  ┆ cpc_codes     │\n",
       "│ ---                ┆ ---                 ┆ ---          ┆ ---        ┆ ---           │\n",
       "│ str                ┆ datetime[μs]        ┆ datetime[μs] ┆ f64        ┆ list[str]     │\n",
       "╞════════════════════╪═════════════════════╪══════════════╪════════════╪═══════════════╡\n",
       "│ US-1-A             ┆ 1836-07-13 00:00:00 ┆ null         ┆ 2.060279e6 ┆ [\"B61C11/04\"] │\n",
       "└────────────────────┴─────────────────────┴──────────────┴────────────┴───────────────┘"
      ]
     },
     "execution_count": 6,
     "metadata": {},
     "output_type": "execute_result"
    }
   ],
   "source": [
    "meta = pl.read_parquet(\"/kaggle/input/uspto-boolean-search-optimization/patent_metadata.parquet\")\n",
    "meta = meta.drop_nulls(subset=[\"publication_date\"])\n",
    "meta.head(1)"
   ]
  },
  {
   "cell_type": "code",
   "execution_count": 7,
   "metadata": {},
   "outputs": [
    {
     "data": {
      "text/plain": [
       "(1000000, 5)"
      ]
     },
     "execution_count": 7,
     "metadata": {},
     "output_type": "execute_result"
    }
   ],
   "source": [
    "INDEX_SIZE = 1_000_000\n",
    "\n",
    "train_meta = meta.filter(meta[\"publication_number\"].is_in(train_patents))\n",
    "other_meta = meta.filter(~meta[\"publication_number\"].is_in(train_patents)).sample(\n",
    "    INDEX_SIZE - len(train_patents),\n",
    "    seed=46,\n",
    ")\n",
    "meta = pl.concat([train_meta, other_meta])\n",
    "meta.shape"
   ]
  },
  {
   "cell_type": "code",
   "execution_count": 8,
   "metadata": {},
   "outputs": [
    {
     "data": {
      "text/html": [
       "<div><style>\n",
       ".dataframe > thead > tr > th,\n",
       ".dataframe > tbody > tr > td {\n",
       "  text-align: right;\n",
       "  white-space: pre-wrap;\n",
       "}\n",
       "</style>\n",
       "<small>shape: (1, 7)</small><table border=\"1\" class=\"dataframe\"><thead><tr><th>publication_number</th><th>publication_date</th><th>filing_date</th><th>family_id</th><th>cpc_codes</th><th>year</th><th>month</th></tr><tr><td>str</td><td>datetime[μs]</td><td>datetime[μs]</td><td>f64</td><td>list[str]</td><td>i32</td><td>u32</td></tr></thead><tbody><tr><td>&quot;US-10000024-B2…</td><td>2018-06-19 00:00:00</td><td>2014-12-31 00:00:00</td><td>5.5301504e7</td><td>[&quot;B29C64/386&quot;, &quot;B29C64/393&quot;, … &quot;G05B2219/49008&quot;]</td><td>2018</td><td>6</td></tr></tbody></table></div>"
      ],
      "text/plain": [
       "shape: (1, 7)\n",
       "┌─────────────────┬─────────────────┬────────────────┬─────────────┬────────────────┬──────┬───────┐\n",
       "│ publication_num ┆ publication_dat ┆ filing_date    ┆ family_id   ┆ cpc_codes      ┆ year ┆ month │\n",
       "│ ber             ┆ e               ┆ ---            ┆ ---         ┆ ---            ┆ ---  ┆ ---   │\n",
       "│ ---             ┆ ---             ┆ datetime[μs]   ┆ f64         ┆ list[str]      ┆ i32  ┆ u32   │\n",
       "│ str             ┆ datetime[μs]    ┆                ┆             ┆                ┆      ┆       │\n",
       "╞═════════════════╪═════════════════╪════════════════╪═════════════╪════════════════╪══════╪═══════╡\n",
       "│ US-10000024-B2  ┆ 2018-06-19      ┆ 2014-12-31     ┆ 5.5301504e7 ┆ [\"B29C64/386\", ┆ 2018 ┆ 6     │\n",
       "│                 ┆ 00:00:00        ┆ 00:00:00       ┆             ┆ \"B29C64/393\",  ┆      ┆       │\n",
       "│                 ┆                 ┆                ┆             ┆ … \"…           ┆      ┆       │\n",
       "└─────────────────┴─────────────────┴────────────────┴─────────────┴────────────────┴──────┴───────┘"
      ]
     },
     "execution_count": 8,
     "metadata": {},
     "output_type": "execute_result"
    }
   ],
   "source": [
    "meta = meta.with_columns(\n",
    "    pl.col(\"publication_date\").dt.year().alias(\"year\"),\n",
    "    pl.col(\"publication_date\").dt.month().alias(\"month\"),\n",
    ")\n",
    "meta.head(1)"
   ]
  },
  {
   "cell_type": "code",
   "execution_count": 9,
   "metadata": {},
   "outputs": [],
   "source": [
    "!rm -rf tmp"
   ]
  },
  {
   "cell_type": "code",
   "execution_count": 10,
   "metadata": {},
   "outputs": [
    {
     "name": "stderr",
     "output_type": "stream",
     "text": [
      "2226it [1:04:59,  1.75s/it]\n"
     ]
    }
   ],
   "source": [
    "import gc\n",
    "import multiprocessing\n",
    "import os\n",
    "\n",
    "from tqdm import tqdm\n",
    "\n",
    "os.makedirs(\"tmp\", exist_ok=True)\n",
    "\n",
    "# with multiprocessing.Pool(5) as p:\n",
    "#     _ = list(tqdm(p.imap(process_patent, meta.group_by([\"year\", \"month\"]))))\n",
    "for (year, month), meta_df in tqdm(meta.group_by([\"year\", \"month\"])):\n",
    "    documents = []\n",
    "    this_patents_numbers = meta_df[\"publication_number\"].to_list()\n",
    "    patents_df = pl.read_parquet(\n",
    "        f\"/kaggle/input/uspto-boolean-search-optimization/patent_data/{year}_{month}.parquet\"\n",
    "    )\n",
    "    common_patents = set(patents_df[\"publication_number\"].to_list()) & set(this_patents_numbers)\n",
    "\n",
    "    patents_df = patents_df.filter(pl.col(\"publication_number\").is_in(common_patents))\n",
    "    meta_df = meta_df.filter(pl.col(\"publication_number\").is_in(common_patents))\n",
    "    patents_df = patents_df.sort(\"publication_number\")\n",
    "    meta_df = meta_df.sort(\"publication_number\")\n",
    "    assert len(patents_df) == len(meta_df)\n",
    "\n",
    "    for pub, ti, abs, cl, des, cpc in zip(\n",
    "        meta_df[\"publication_number\"],\n",
    "        patents_df[\"title\"],\n",
    "        patents_df[\"abstract\"],\n",
    "        patents_df[\"claims\"],\n",
    "        patents_df[\"description\"],\n",
    "        meta_df[\"cpc_codes\"].to_list(),\n",
    "    ):\n",
    "        doc = {\n",
    "            \"publication_number\": pub,\n",
    "            \"title\": ti,\n",
    "            \"abstract\": abs,\n",
    "            \"claims\": cl,\n",
    "            \"description\": des,\n",
    "            \"cpc\": cpc,\n",
    "        }\n",
    "        documents.append(doc)\n",
    "\n",
    "    save_list_bz2(documents, f\"tmp/{year}_{month}.json.bz2\")\n",
    "\n",
    "    del documents\n",
    "    del patents_df\n",
    "    del meta_df\n",
    "    gc.collect()"
   ]
  },
  {
   "cell_type": "code",
   "execution_count": 11,
   "metadata": {},
   "outputs": [],
   "source": [
    "from glob import glob\n",
    "\n",
    "documents = glob(\"tmp/*.json.bz2\")"
   ]
  },
  {
   "cell_type": "code",
   "execution_count": 12,
   "metadata": {},
   "outputs": [
    {
     "name": "stderr",
     "output_type": "stream",
     "text": [
      "100%|██████████| 2226/2226 [3:24:34<00:00,  5.51s/it]   \n"
     ]
    }
   ],
   "source": [
    "output_dir = \"index_2500_1M\"\n",
    "os.makedirs(output_dir, exist_ok=True)\n",
    "whoosh_utils.create_index(output_dir=output_dir, documents=documents)"
   ]
  },
  {
   "cell_type": "code",
   "execution_count": 13,
   "metadata": {},
   "outputs": [
    {
     "data": {
      "text/plain": [
       "['US-5089184-A',\n",
       " 'US-2022168218-A1',\n",
       " 'US-10639852-B2',\n",
       " 'US-8142179-B2',\n",
       " 'US-6139574-A']"
      ]
     },
     "execution_count": 13,
     "metadata": {},
     "output_type": "execute_result"
    }
   ],
   "source": [
    "train_idx = whoosh_utils.load_index(\"index_2500_1M\")\n",
    "searcher = whoosh_utils.get_searcher(train_idx)\n",
    "qp = whoosh_utils.get_query_parser()\n",
    "\n",
    "results = whoosh_utils.execute_query(\"cpc:B29C64/135\", qp, searcher)[:5]\n",
    "results"
   ]
  },
  {
   "cell_type": "code",
   "execution_count": null,
   "metadata": {},
   "outputs": [],
   "source": []
  },
  {
   "cell_type": "code",
   "execution_count": null,
   "metadata": {},
   "outputs": [],
   "source": []
  },
  {
   "cell_type": "code",
   "execution_count": null,
   "metadata": {},
   "outputs": [],
   "source": []
  }
 ],
 "metadata": {
  "kernelspec": {
   "display_name": "base",
   "language": "python",
   "name": "python3"
  },
  "language_info": {
   "codemirror_mode": {
    "name": "ipython",
    "version": 3
   },
   "file_extension": ".py",
   "mimetype": "text/x-python",
   "name": "python",
   "nbconvert_exporter": "python",
   "pygments_lexer": "ipython3",
   "version": "3.10.10"
  }
 },
 "nbformat": 4,
 "nbformat_minor": 2
}
