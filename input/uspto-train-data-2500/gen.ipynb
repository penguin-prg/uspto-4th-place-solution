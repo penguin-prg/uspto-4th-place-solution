{
 "cells": [
  {
   "cell_type": "code",
   "execution_count": 1,
   "metadata": {},
   "outputs": [],
   "source": [
    "import random\n",
    "\n",
    "import numpy as np\n",
    "import polars as pl\n",
    "\n",
    "random.seed(46)"
   ]
  },
  {
   "cell_type": "code",
   "execution_count": 2,
   "metadata": {},
   "outputs": [
    {
     "data": {
      "text/html": [
       "<div><style>\n",
       ".dataframe > thead > tr > th,\n",
       ".dataframe > tbody > tr > td {\n",
       "  text-align: right;\n",
       "  white-space: pre-wrap;\n",
       "}\n",
       "</style>\n",
       "<small>shape: (2, 51)</small><table border=\"1\" class=\"dataframe\"><thead><tr><th>publication_number</th><th>neighbor_0</th><th>neighbor_1</th><th>neighbor_2</th><th>neighbor_3</th><th>neighbor_4</th><th>neighbor_5</th><th>neighbor_6</th><th>neighbor_7</th><th>neighbor_8</th><th>neighbor_9</th><th>neighbor_10</th><th>neighbor_11</th><th>neighbor_12</th><th>neighbor_13</th><th>neighbor_14</th><th>neighbor_15</th><th>neighbor_16</th><th>neighbor_17</th><th>neighbor_18</th><th>neighbor_19</th><th>neighbor_20</th><th>neighbor_21</th><th>neighbor_22</th><th>neighbor_23</th><th>neighbor_24</th><th>neighbor_25</th><th>neighbor_26</th><th>neighbor_27</th><th>neighbor_28</th><th>neighbor_29</th><th>neighbor_30</th><th>neighbor_31</th><th>neighbor_32</th><th>neighbor_33</th><th>neighbor_34</th><th>neighbor_35</th><th>neighbor_36</th><th>neighbor_37</th><th>neighbor_38</th><th>neighbor_39</th><th>neighbor_40</th><th>neighbor_41</th><th>neighbor_42</th><th>neighbor_43</th><th>neighbor_44</th><th>neighbor_45</th><th>neighbor_46</th><th>neighbor_47</th><th>neighbor_48</th><th>neighbor_49</th></tr><tr><td>str</td><td>str</td><td>str</td><td>str</td><td>str</td><td>str</td><td>str</td><td>str</td><td>str</td><td>str</td><td>str</td><td>str</td><td>str</td><td>str</td><td>str</td><td>str</td><td>str</td><td>str</td><td>str</td><td>str</td><td>str</td><td>str</td><td>str</td><td>str</td><td>str</td><td>str</td><td>str</td><td>str</td><td>str</td><td>str</td><td>str</td><td>str</td><td>str</td><td>str</td><td>str</td><td>str</td><td>str</td><td>str</td><td>str</td><td>str</td><td>str</td><td>str</td><td>str</td><td>str</td><td>str</td><td>str</td><td>str</td><td>str</td><td>str</td><td>str</td><td>str</td></tr></thead><tbody><tr><td>&quot;US-1-A&quot;</td><td>&quot;US-189152-A&quot;</td><td>&quot;US-1189501-A&quot;</td><td>&quot;US-409430-A&quot;</td><td>&quot;US-421894-A&quot;</td><td>&quot;US-9052-A&quot;</td><td>&quot;US-435641-A&quot;</td><td>&quot;US-247802-A&quot;</td><td>&quot;US-566579-A&quot;</td><td>&quot;US-148439-A&quot;</td><td>&quot;US-488484-A&quot;</td><td>&quot;US-1003894-A&quot;</td><td>&quot;US-951842-A&quot;</td><td>&quot;US-965846-A&quot;</td><td>&quot;US-733217-A&quot;</td><td>&quot;US-1681171-A&quot;</td><td>&quot;US-339-A&quot;</td><td>&quot;US-1206147-A&quot;</td><td>&quot;US-1213323-A&quot;</td><td>&quot;US-9716-A&quot;</td><td>&quot;US-882618-A&quot;</td><td>&quot;US-1161812-A&quot;</td><td>&quot;US-6321-A&quot;</td><td>&quot;US-3267876-A&quot;</td><td>&quot;US-1136947-A&quot;</td><td>&quot;US-1097810-A&quot;</td><td>&quot;US-939423-A&quot;</td><td>&quot;US-986261-A&quot;</td><td>&quot;US-975048-A&quot;</td><td>&quot;US-95968-A&quot;</td><td>&quot;US-5532-A&quot;</td><td>&quot;US-393896-A&quot;</td><td>&quot;US-156138-A&quot;</td><td>&quot;US-144271-A&quot;</td><td>&quot;US-357649-A&quot;</td><td>&quot;US-1182286-A&quot;</td><td>&quot;US-1342938-A&quot;</td><td>&quot;US-1329037-A&quot;</td><td>&quot;US-42039-A&quot;</td><td>&quot;US-3237572-A&quot;</td><td>&quot;US-462944-A&quot;</td><td>&quot;US-1108807-A&quot;</td><td>&quot;US-1393935-A&quot;</td><td>&quot;US-45450-A&quot;</td><td>&quot;US-381847-A&quot;</td><td>&quot;US-1354714-A&quot;</td><td>&quot;US-661045-A&quot;</td><td>&quot;US-737513-A&quot;</td><td>&quot;US-447255-A&quot;</td><td>&quot;US-1510390-A&quot;</td><td>&quot;US-1075814-A&quot;</td></tr><tr><td>&quot;US-1-P&quot;</td><td>&quot;US-93-P&quot;</td><td>&quot;US-5247-P&quot;</td><td>&quot;US-4994-P&quot;</td><td>&quot;US-79-P&quot;</td><td>&quot;US-32-P&quot;</td><td>&quot;US-1997369-A&quot;</td><td>&quot;US-10157-P&quot;</td><td>&quot;US-5287-P&quot;</td><td>&quot;US-PP13497-P2&quot;</td><td>&quot;US-10575-P&quot;</td><td>&quot;US-4626-P&quot;</td><td>&quot;US-5307-P&quot;</td><td>&quot;US-2202966-A&quot;</td><td>&quot;US-PP13458-P2&quot;</td><td>&quot;US-4462-P&quot;</td><td>&quot;US-PP28503-P3&quot;</td><td>&quot;US-4274-P&quot;</td><td>&quot;US-7619-P&quot;</td><td>&quot;US-PP12859-P2&quot;</td><td>&quot;US-PP20477-P3&quot;</td><td>&quot;US-PP16660-P3&quot;</td><td>&quot;US-4953-P&quot;</td><td>&quot;US-PP12171-P2&quot;</td><td>&quot;US-PP27118-P3&quot;</td><td>&quot;US-1975536-A&quot;</td><td>&quot;US-PP29050-P2&quot;</td><td>&quot;US-4761-P&quot;</td><td>&quot;US-PP30184-P2&quot;</td><td>&quot;US-4489-P&quot;</td><td>&quot;US-2013239269-…</td><td>&quot;US-7003-P&quot;</td><td>&quot;US-4702-P&quot;</td><td>&quot;US-4724-P&quot;</td><td>&quot;US-4979-P&quot;</td><td>&quot;US-7731-P&quot;</td><td>&quot;US-PP28543-P3&quot;</td><td>&quot;US-7882-P&quot;</td><td>&quot;US-PP21792-P3&quot;</td><td>&quot;US-PP31404-P3&quot;</td><td>&quot;US-PP28469-P3&quot;</td><td>&quot;US-11160-P&quot;</td><td>&quot;US-PP27772-P3&quot;</td><td>&quot;US-4163-P&quot;</td><td>&quot;US-PP13496-P2&quot;</td><td>&quot;US-10448-P&quot;</td><td>&quot;US-5873-P&quot;</td><td>&quot;US-PP23739-P3&quot;</td><td>&quot;US-PP21937-P2&quot;</td><td>&quot;US-6339-P&quot;</td><td>&quot;US-10059-P&quot;</td></tr></tbody></table></div>"
      ],
      "text/plain": [
       "shape: (2, 51)\n",
       "┌───────────┬───────────┬───────────┬───────────┬───┬───────────┬───────────┬───────────┬──────────┐\n",
       "│ publicati ┆ neighbor_ ┆ neighbor_ ┆ neighbor_ ┆ … ┆ neighbor_ ┆ neighbor_ ┆ neighbor_ ┆ neighbor │\n",
       "│ on_number ┆ 0         ┆ 1         ┆ 2         ┆   ┆ 46        ┆ 47        ┆ 48        ┆ _49      │\n",
       "│ ---       ┆ ---       ┆ ---       ┆ ---       ┆   ┆ ---       ┆ ---       ┆ ---       ┆ ---      │\n",
       "│ str       ┆ str       ┆ str       ┆ str       ┆   ┆ str       ┆ str       ┆ str       ┆ str      │\n",
       "╞═══════════╪═══════════╪═══════════╪═══════════╪═══╪═══════════╪═══════════╪═══════════╪══════════╡\n",
       "│ US-1-A    ┆ US-189152 ┆ US-118950 ┆ US-409430 ┆ … ┆ US-737513 ┆ US-447255 ┆ US-151039 ┆ US-10758 │\n",
       "│           ┆ -A        ┆ 1-A       ┆ -A        ┆   ┆ -A        ┆ -A        ┆ 0-A       ┆ 14-A     │\n",
       "│ US-1-P    ┆ US-93-P   ┆ US-5247-P ┆ US-4994-P ┆ … ┆ US-PP2373 ┆ US-PP2193 ┆ US-6339-P ┆ US-10059 │\n",
       "│           ┆           ┆           ┆           ┆   ┆ 9-P3      ┆ 7-P2      ┆           ┆ -P       │\n",
       "└───────────┴───────────┴───────────┴───────────┴───┴───────────┴───────────┴───────────┴──────────┘"
      ]
     },
     "execution_count": 2,
     "metadata": {},
     "output_type": "execute_result"
    }
   ],
   "source": [
    "nn_df = pl.read_csv(\"/kaggle/input/uspto-boolean-search-optimization/nearest_neighbors.csv\")\n",
    "nn_df.head(2)"
   ]
  },
  {
   "cell_type": "code",
   "execution_count": 3,
   "metadata": {},
   "outputs": [
    {
     "name": "stdout",
     "output_type": "stream",
     "text": [
      "(13307647, 51)\n"
     ]
    },
    {
     "data": {
      "text/html": [
       "<div><style>\n",
       ".dataframe > thead > tr > th,\n",
       ".dataframe > tbody > tr > td {\n",
       "  text-align: right;\n",
       "  white-space: pre-wrap;\n",
       "}\n",
       "</style>\n",
       "<small>shape: (2, 51)</small><table border=\"1\" class=\"dataframe\"><thead><tr><th>publication_number</th><th>target_0</th><th>target_1</th><th>target_2</th><th>target_3</th><th>target_4</th><th>target_5</th><th>target_6</th><th>target_7</th><th>target_8</th><th>target_9</th><th>target_10</th><th>target_11</th><th>target_12</th><th>target_13</th><th>target_14</th><th>target_15</th><th>target_16</th><th>target_17</th><th>target_18</th><th>target_19</th><th>target_20</th><th>target_21</th><th>target_22</th><th>target_23</th><th>target_24</th><th>target_25</th><th>target_26</th><th>target_27</th><th>target_28</th><th>target_29</th><th>target_30</th><th>target_31</th><th>target_32</th><th>target_33</th><th>target_34</th><th>target_35</th><th>target_36</th><th>target_37</th><th>target_38</th><th>target_39</th><th>target_40</th><th>target_41</th><th>target_42</th><th>target_43</th><th>target_44</th><th>target_45</th><th>target_46</th><th>target_47</th><th>target_48</th><th>target_49</th></tr><tr><td>str</td><td>str</td><td>str</td><td>str</td><td>str</td><td>str</td><td>str</td><td>str</td><td>str</td><td>str</td><td>str</td><td>str</td><td>str</td><td>str</td><td>str</td><td>str</td><td>str</td><td>str</td><td>str</td><td>str</td><td>str</td><td>str</td><td>str</td><td>str</td><td>str</td><td>str</td><td>str</td><td>str</td><td>str</td><td>str</td><td>str</td><td>str</td><td>str</td><td>str</td><td>str</td><td>str</td><td>str</td><td>str</td><td>str</td><td>str</td><td>str</td><td>str</td><td>str</td><td>str</td><td>str</td><td>str</td><td>str</td><td>str</td><td>str</td><td>str</td><td>str</td></tr></thead><tbody><tr><td>&quot;US-1-A&quot;</td><td>&quot;US-189152-A&quot;</td><td>&quot;US-1189501-A&quot;</td><td>&quot;US-409430-A&quot;</td><td>&quot;US-421894-A&quot;</td><td>&quot;US-9052-A&quot;</td><td>&quot;US-435641-A&quot;</td><td>&quot;US-247802-A&quot;</td><td>&quot;US-566579-A&quot;</td><td>&quot;US-148439-A&quot;</td><td>&quot;US-488484-A&quot;</td><td>&quot;US-1003894-A&quot;</td><td>&quot;US-951842-A&quot;</td><td>&quot;US-965846-A&quot;</td><td>&quot;US-733217-A&quot;</td><td>&quot;US-1681171-A&quot;</td><td>&quot;US-339-A&quot;</td><td>&quot;US-1206147-A&quot;</td><td>&quot;US-1213323-A&quot;</td><td>&quot;US-9716-A&quot;</td><td>&quot;US-882618-A&quot;</td><td>&quot;US-1161812-A&quot;</td><td>&quot;US-6321-A&quot;</td><td>&quot;US-3267876-A&quot;</td><td>&quot;US-1136947-A&quot;</td><td>&quot;US-1097810-A&quot;</td><td>&quot;US-939423-A&quot;</td><td>&quot;US-986261-A&quot;</td><td>&quot;US-975048-A&quot;</td><td>&quot;US-95968-A&quot;</td><td>&quot;US-5532-A&quot;</td><td>&quot;US-393896-A&quot;</td><td>&quot;US-156138-A&quot;</td><td>&quot;US-144271-A&quot;</td><td>&quot;US-357649-A&quot;</td><td>&quot;US-1182286-A&quot;</td><td>&quot;US-1342938-A&quot;</td><td>&quot;US-1329037-A&quot;</td><td>&quot;US-42039-A&quot;</td><td>&quot;US-3237572-A&quot;</td><td>&quot;US-462944-A&quot;</td><td>&quot;US-1108807-A&quot;</td><td>&quot;US-1393935-A&quot;</td><td>&quot;US-45450-A&quot;</td><td>&quot;US-381847-A&quot;</td><td>&quot;US-1354714-A&quot;</td><td>&quot;US-661045-A&quot;</td><td>&quot;US-737513-A&quot;</td><td>&quot;US-447255-A&quot;</td><td>&quot;US-1510390-A&quot;</td><td>&quot;US-1075814-A&quot;</td></tr><tr><td>&quot;US-1-P&quot;</td><td>&quot;US-93-P&quot;</td><td>&quot;US-5247-P&quot;</td><td>&quot;US-4994-P&quot;</td><td>&quot;US-79-P&quot;</td><td>&quot;US-32-P&quot;</td><td>&quot;US-1997369-A&quot;</td><td>&quot;US-10157-P&quot;</td><td>&quot;US-5287-P&quot;</td><td>&quot;US-PP13497-P2&quot;</td><td>&quot;US-10575-P&quot;</td><td>&quot;US-4626-P&quot;</td><td>&quot;US-5307-P&quot;</td><td>&quot;US-2202966-A&quot;</td><td>&quot;US-PP13458-P2&quot;</td><td>&quot;US-4462-P&quot;</td><td>&quot;US-PP28503-P3&quot;</td><td>&quot;US-4274-P&quot;</td><td>&quot;US-7619-P&quot;</td><td>&quot;US-PP12859-P2&quot;</td><td>&quot;US-PP20477-P3&quot;</td><td>&quot;US-PP16660-P3&quot;</td><td>&quot;US-4953-P&quot;</td><td>&quot;US-PP12171-P2&quot;</td><td>&quot;US-PP27118-P3&quot;</td><td>&quot;US-1975536-A&quot;</td><td>&quot;US-PP29050-P2&quot;</td><td>&quot;US-4761-P&quot;</td><td>&quot;US-PP30184-P2&quot;</td><td>&quot;US-4489-P&quot;</td><td>&quot;US-2013239269-…</td><td>&quot;US-7003-P&quot;</td><td>&quot;US-4702-P&quot;</td><td>&quot;US-4724-P&quot;</td><td>&quot;US-4979-P&quot;</td><td>&quot;US-7731-P&quot;</td><td>&quot;US-PP28543-P3&quot;</td><td>&quot;US-7882-P&quot;</td><td>&quot;US-PP21792-P3&quot;</td><td>&quot;US-PP31404-P3&quot;</td><td>&quot;US-PP28469-P3&quot;</td><td>&quot;US-11160-P&quot;</td><td>&quot;US-PP27772-P3&quot;</td><td>&quot;US-4163-P&quot;</td><td>&quot;US-PP13496-P2&quot;</td><td>&quot;US-10448-P&quot;</td><td>&quot;US-5873-P&quot;</td><td>&quot;US-PP23739-P3&quot;</td><td>&quot;US-PP21937-P2&quot;</td><td>&quot;US-6339-P&quot;</td><td>&quot;US-10059-P&quot;</td></tr></tbody></table></div>"
      ],
      "text/plain": [
       "shape: (2, 51)\n",
       "┌───────────┬───────────┬───────────┬───────────┬───┬───────────┬───────────┬───────────┬──────────┐\n",
       "│ publicati ┆ target_0  ┆ target_1  ┆ target_2  ┆ … ┆ target_46 ┆ target_47 ┆ target_48 ┆ target_4 │\n",
       "│ on_number ┆ ---       ┆ ---       ┆ ---       ┆   ┆ ---       ┆ ---       ┆ ---       ┆ 9        │\n",
       "│ ---       ┆ str       ┆ str       ┆ str       ┆   ┆ str       ┆ str       ┆ str       ┆ ---      │\n",
       "│ str       ┆           ┆           ┆           ┆   ┆           ┆           ┆           ┆ str      │\n",
       "╞═══════════╪═══════════╪═══════════╪═══════════╪═══╪═══════════╪═══════════╪═══════════╪══════════╡\n",
       "│ US-1-A    ┆ US-189152 ┆ US-118950 ┆ US-409430 ┆ … ┆ US-737513 ┆ US-447255 ┆ US-151039 ┆ US-10758 │\n",
       "│           ┆ -A        ┆ 1-A       ┆ -A        ┆   ┆ -A        ┆ -A        ┆ 0-A       ┆ 14-A     │\n",
       "│ US-1-P    ┆ US-93-P   ┆ US-5247-P ┆ US-4994-P ┆ … ┆ US-PP2373 ┆ US-PP2193 ┆ US-6339-P ┆ US-10059 │\n",
       "│           ┆           ┆           ┆           ┆   ┆ 9-P3      ┆ 7-P2      ┆           ┆ -P       │\n",
       "└───────────┴───────────┴───────────┴───────────┴───┴───────────┴───────────┴───────────┴──────────┘"
      ]
     },
     "execution_count": 3,
     "metadata": {},
     "output_type": "execute_result"
    }
   ],
   "source": [
    "for i in range(50):\n",
    "    nn_df = nn_df.rename({f\"neighbor_{i}\": f\"target_{i}\"})\n",
    "print(nn_df.shape)\n",
    "nn_df.head(2)"
   ]
  },
  {
   "cell_type": "code",
   "execution_count": 4,
   "metadata": {},
   "outputs": [
    {
     "name": "stdout",
     "output_type": "stream",
     "text": [
      "9457935\n"
     ]
    }
   ],
   "source": [
    "metadata = pl.read_parquet(\n",
    "    \"/kaggle/input/uspto-boolean-search-optimization/patent_metadata.parquet\"\n",
    ")\n",
    "metadata = metadata.with_columns(pl.col(\"publication_date\").dt.year().alias(\"year\"))\n",
    "val_patents = set(metadata.filter(pl.col(\"year\") >= 1975)[\"publication_number\"].to_list())\n",
    "print(len(val_patents))"
   ]
  },
  {
   "cell_type": "code",
   "execution_count": 5,
   "metadata": {},
   "outputs": [
    {
     "name": "stdout",
     "output_type": "stream",
     "text": [
      "9457949\n"
     ]
    }
   ],
   "source": [
    "nn_df = nn_df.filter(pl.col(\"publication_number\").is_in(val_patents))\n",
    "print(len(nn_df))"
   ]
  },
  {
   "cell_type": "code",
   "execution_count": 6,
   "metadata": {},
   "outputs": [],
   "source": [
    "for i in range(10):\n",
    "    nn_df = nn_df.sample(2500, shuffle=True, seed=i)\n",
    "    nn_df.write_parquet(f\"train2500_seed{i}.parquet\")"
   ]
  },
  {
   "cell_type": "code",
   "execution_count": 7,
   "metadata": {},
   "outputs": [],
   "source": [
    "# nn_df.write_parquet(\"train_full.parquet\")"
   ]
  },
  {
   "cell_type": "markdown",
   "metadata": {},
   "source": [
    "---"
   ]
  },
  {
   "cell_type": "code",
   "execution_count": 8,
   "metadata": {},
   "outputs": [],
   "source": [
    "# nn_df = pl.read_csv(\"/kaggle/input/uspto-boolean-search-optimization/nearest_neighbors.csv\")\n",
    "# for i in range(50):\n",
    "#     nn_df = nn_df.rename({f\"neighbor_{i}\": f\"target_{i}\"})\n",
    "\n",
    "# metadata = pl.read_parquet(\n",
    "#     \"/kaggle/input/uspto-boolean-search-optimization/patent_metadata.parquet\"\n",
    "# )\n",
    "# metadata = metadata.with_columns(pl.col(\"publication_date\").dt.year().alias(\"year\"))\n",
    "# val_patents = set(metadata.filter(pl.col(\"year\") < 1975)[\"publication_number\"].to_list())\n",
    "\n",
    "# nn_df = nn_df.filter(pl.col(\"publication_number\").is_in(val_patents))\n",
    "# nn_df.write_parquet(\"train_old.parquet\")"
   ]
  },
  {
   "cell_type": "code",
   "execution_count": null,
   "metadata": {},
   "outputs": [],
   "source": []
  },
  {
   "cell_type": "code",
   "execution_count": null,
   "metadata": {},
   "outputs": [],
   "source": []
  },
  {
   "cell_type": "code",
   "execution_count": null,
   "metadata": {},
   "outputs": [],
   "source": []
  },
  {
   "cell_type": "code",
   "execution_count": null,
   "metadata": {},
   "outputs": [],
   "source": []
  }
 ],
 "metadata": {
  "kernelspec": {
   "display_name": "base",
   "language": "python",
   "name": "python3"
  },
  "language_info": {
   "codemirror_mode": {
    "name": "ipython",
    "version": 3
   },
   "file_extension": ".py",
   "mimetype": "text/x-python",
   "name": "python",
   "nbconvert_exporter": "python",
   "pygments_lexer": "ipython3",
   "version": "3.10.10"
  }
 },
 "nbformat": 4,
 "nbformat_minor": 2
}
