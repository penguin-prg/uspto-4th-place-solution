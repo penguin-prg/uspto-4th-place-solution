{
 "cells": [
  {
   "cell_type": "code",
   "execution_count": 1,
   "metadata": {},
   "outputs": [],
   "source": [
    "import json\n",
    "import multiprocessing\n",
    "import os\n",
    "import re\n",
    "import tempfile\n",
    "from collections import Counter\n",
    "from glob import glob\n",
    "\n",
    "import matplotlib.pyplot as plt\n",
    "import numpy as np\n",
    "import polars as pl\n",
    "import whoosh\n",
    "from tqdm import tqdm\n",
    "from tqdm.contrib.concurrent import process_map\n",
    "from whoosh.analysis import StandardAnalyzer"
   ]
  },
  {
   "cell_type": "code",
   "execution_count": 2,
   "metadata": {},
   "outputs": [],
   "source": [
    "import bz2\n",
    "\n",
    "\n",
    "def save_list_bz2(data, filename):\n",
    "    serialized_data = json.dumps(data)\n",
    "    compressed_data = bz2.compress(serialized_data.encode(\"utf-8\"))\n",
    "\n",
    "    with open(filename, \"wb\") as f:\n",
    "        f.write(compressed_data)\n",
    "\n",
    "\n",
    "def load_list_bz2(filename):\n",
    "    with open(filename, \"rb\") as f:\n",
    "        compressed_data = f.read()\n",
    "        decompressed_data = bz2.decompress(compressed_data)\n",
    "        return json.loads(decompressed_data.decode(\"utf-8\"))"
   ]
  },
  {
   "cell_type": "code",
   "execution_count": 3,
   "metadata": {},
   "outputs": [
    {
     "name": "stderr",
     "output_type": "stream",
     "text": [
      "100%|██████████| 1330765/1330765 [44:11<00:00, 501.92it/s]  \n"
     ]
    }
   ],
   "source": [
    "def process_file(file_path):\n",
    "    # 出力ファイル名の生成\n",
    "    output_dir = \"token_counts\"\n",
    "    output_file = os.path.join(output_dir, os.path.basename(file_path).replace(\".bz2\", \".json\"))\n",
    "\n",
    "    # 既にファイルが存在する場合は処理をスキップ\n",
    "    if os.path.exists(output_file):\n",
    "        return\n",
    "\n",
    "    # データ読み込み\n",
    "    data = load_list_bz2(file_path)\n",
    "\n",
    "    word_counts = {\n",
    "        \"title\": {},\n",
    "        \"abstract\": {},\n",
    "        \"claims\": {},\n",
    "        \"description\": {},\n",
    "    }\n",
    "    for pat_tokens in data.values():\n",
    "        for key, tokens in pat_tokens.items():\n",
    "            tokens = set(tokens)\n",
    "            for token in tokens:\n",
    "                if token not in word_counts[key]:\n",
    "                    word_counts[key][token] = 0\n",
    "                word_counts[key][token] += 1\n",
    "\n",
    "    # 安全なファイル書き込み\n",
    "    safe_write(word_counts, output_file)\n",
    "\n",
    "\n",
    "def safe_write(data, path):\n",
    "    os.makedirs(os.path.dirname(path), exist_ok=True)\n",
    "    with tempfile.NamedTemporaryFile(delete=False, dir=os.path.dirname(path), mode=\"w\") as tmp_file:\n",
    "        json.dump(data, tmp_file)\n",
    "    os.replace(tmp_file.name, path)\n",
    "\n",
    "\n",
    "files = sorted(glob(\"/kaggle/input/all-index/patent2data/*.bz2\"))\n",
    "\n",
    "with multiprocessing.Pool(processes=30) as pool:\n",
    "    list(tqdm(pool.imap(process_file, files), total=len(files)))"
   ]
  },
  {
   "cell_type": "code",
   "execution_count": 4,
   "metadata": {},
   "outputs": [
    {
     "name": "stderr",
     "output_type": "stream",
     "text": [
      "100%|██████████| 1330765/1330765 [1:18:17<00:00, 283.26it/s]\n"
     ]
    }
   ],
   "source": [
    "files = sorted(glob(\"token_counts/*.json\"))\n",
    "token_counts = {\n",
    "    \"title\": Counter(),\n",
    "    \"abstract\": Counter(),\n",
    "    \"description\": Counter(),\n",
    "    \"claims\": Counter(),\n",
    "}\n",
    "for file in tqdm(files):\n",
    "    with open(file) as f:\n",
    "        data = json.load(f)\n",
    "        for key in token_counts:\n",
    "            token_counts[key].update(data[key])"
   ]
  },
  {
   "cell_type": "code",
   "execution_count": 5,
   "metadata": {},
   "outputs": [
    {
     "name": "stdout",
     "output_type": "stream",
     "text": [
      "[('and', 4083374), ('method', 2465608)]\n",
      "[('and', 8575647), ('in', 6491832)]\n",
      "[('and', 13276113), ('in', 12941306)]\n",
      "[('and', 9944834), ('claim', 9085779)]\n"
     ]
    }
   ],
   "source": [
    "print(token_counts[\"title\"].most_common(2))\n",
    "print(token_counts[\"abstract\"].most_common(2))\n",
    "print(token_counts[\"description\"].most_common(2))\n",
    "print(token_counts[\"claims\"].most_common(2))"
   ]
  },
  {
   "cell_type": "code",
   "execution_count": 6,
   "metadata": {},
   "outputs": [],
   "source": [
    "for key in token_counts:\n",
    "    token_counts[key] = dict(token_counts[key])"
   ]
  },
  {
   "cell_type": "code",
   "execution_count": 7,
   "metadata": {},
   "outputs": [],
   "source": [
    "with open(\"token_counts.json\", \"w\") as f:\n",
    "    json.dump(token_counts, f)"
   ]
  },
  {
   "cell_type": "code",
   "execution_count": null,
   "metadata": {},
   "outputs": [],
   "source": []
  }
 ],
 "metadata": {
  "kernelspec": {
   "display_name": "base",
   "language": "python",
   "name": "python3"
  },
  "language_info": {
   "codemirror_mode": {
    "name": "ipython",
    "version": 3
   },
   "file_extension": ".py",
   "mimetype": "text/x-python",
   "name": "python",
   "nbconvert_exporter": "python",
   "pygments_lexer": "ipython3",
   "version": "3.10.10"
  }
 },
 "nbformat": 4,
 "nbformat_minor": 2
}
