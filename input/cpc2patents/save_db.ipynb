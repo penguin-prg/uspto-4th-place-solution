{
 "cells": [
  {
   "cell_type": "code",
   "execution_count": 1,
   "metadata": {},
   "outputs": [],
   "source": [
    "import json\n",
    "import multiprocessing\n",
    "import os\n",
    "import re\n",
    "import tempfile\n",
    "from collections import Counter\n",
    "from glob import glob\n",
    "\n",
    "import matplotlib.pyplot as plt\n",
    "import numpy as np\n",
    "import plyvel\n",
    "import polars as pl\n",
    "import whoosh\n",
    "from tqdm import tqdm\n",
    "from tqdm.contrib.concurrent import process_map\n",
    "from whoosh.analysis import StandardAnalyzer"
   ]
  },
  {
   "cell_type": "code",
   "execution_count": 2,
   "metadata": {},
   "outputs": [
    {
     "data": {
      "text/html": [
       "<div><style>\n",
       ".dataframe > thead > tr > th,\n",
       ".dataframe > tbody > tr > td {\n",
       "  text-align: right;\n",
       "  white-space: pre-wrap;\n",
       "}\n",
       "</style>\n",
       "<small>shape: (1, 5)</small><table border=\"1\" class=\"dataframe\"><thead><tr><th>publication_number</th><th>publication_date</th><th>filing_date</th><th>family_id</th><th>cpc_codes</th></tr><tr><td>str</td><td>datetime[μs]</td><td>datetime[μs]</td><td>f64</td><td>list[str]</td></tr></thead><tbody><tr><td>&quot;US-1-A&quot;</td><td>1836-07-13 00:00:00</td><td>null</td><td>2.060279e6</td><td>[&quot;B61C11/04&quot;]</td></tr></tbody></table></div>"
      ],
      "text/plain": [
       "shape: (1, 5)\n",
       "┌────────────────────┬─────────────────────┬──────────────┬────────────┬───────────────┐\n",
       "│ publication_number ┆ publication_date    ┆ filing_date  ┆ family_id  ┆ cpc_codes     │\n",
       "│ ---                ┆ ---                 ┆ ---          ┆ ---        ┆ ---           │\n",
       "│ str                ┆ datetime[μs]        ┆ datetime[μs] ┆ f64        ┆ list[str]     │\n",
       "╞════════════════════╪═════════════════════╪══════════════╪════════════╪═══════════════╡\n",
       "│ US-1-A             ┆ 1836-07-13 00:00:00 ┆ null         ┆ 2.060279e6 ┆ [\"B61C11/04\"] │\n",
       "└────────────────────┴─────────────────────┴──────────────┴────────────┴───────────────┘"
      ]
     },
     "execution_count": 2,
     "metadata": {},
     "output_type": "execute_result"
    }
   ],
   "source": [
    "df = pl.read_parquet(\"/kaggle/input/uspto-boolean-search-optimization/patent_metadata.parquet\")\n",
    "df.head(1)"
   ]
  },
  {
   "cell_type": "code",
   "execution_count": 3,
   "metadata": {},
   "outputs": [
    {
     "name": "stderr",
     "output_type": "stream",
     "text": [
      "100%|██████████| 13307751/13307751 [25:58<00:00, 8537.28it/s]  \n"
     ]
    }
   ],
   "source": [
    "from typing import Dict, List\n",
    "\n",
    "cpc2patents: Dict[str, List[str]] = {}\n",
    "for cpc, patent in tqdm(zip(df[\"cpc_codes\"], df[\"publication_number\"]), total=len(df)):\n",
    "    for code in cpc:\n",
    "        if code not in cpc2patents:\n",
    "            cpc2patents[code] = []\n",
    "        cpc2patents[code].append(patent)"
   ]
  },
  {
   "cell_type": "code",
   "execution_count": 4,
   "metadata": {},
   "outputs": [
    {
     "name": "stderr",
     "output_type": "stream",
     "text": [
      "100%|██████████| 265889/265889 [02:45<00:00, 1606.95it/s] \n"
     ]
    }
   ],
   "source": [
    "# データベースの作成\n",
    "db = plyvel.DB(\"db\", create_if_missing=True)\n",
    "for cpc, patents in tqdm(cpc2patents.items()):\n",
    "    db.put(cpc.encode(), json.dumps(patents).encode())"
   ]
  },
  {
   "cell_type": "code",
   "execution_count": 5,
   "metadata": {},
   "outputs": [
    {
     "name": "stderr",
     "output_type": "stream",
     "text": [
      "100%|██████████| 265889/265889 [00:10<00:00, 25393.23it/s]\n"
     ]
    },
    {
     "data": {
      "text/plain": [
       "['US-RE48165-E']"
      ]
     },
     "execution_count": 5,
     "metadata": {},
     "output_type": "execute_result"
    }
   ],
   "source": [
    "# 速度を確認\n",
    "for cpc in tqdm(cpc2patents):\n",
    "    patents = json.loads(db.get(cpc.encode()).decode())\n",
    "patents"
   ]
  },
  {
   "cell_type": "code",
   "execution_count": 6,
   "metadata": {},
   "outputs": [],
   "source": [
    "db.close()"
   ]
  },
  {
   "cell_type": "code",
   "execution_count": null,
   "metadata": {},
   "outputs": [],
   "source": []
  }
 ],
 "metadata": {
  "kernelspec": {
   "display_name": "base",
   "language": "python",
   "name": "python3"
  },
  "language_info": {
   "codemirror_mode": {
    "name": "ipython",
    "version": 3
   },
   "file_extension": ".py",
   "mimetype": "text/x-python",
   "name": "python",
   "nbconvert_exporter": "python",
   "pygments_lexer": "ipython3",
   "version": "3.10.10"
  }
 },
 "nbformat": 4,
 "nbformat_minor": 2
}
