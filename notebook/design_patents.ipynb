{
 "cells": [
  {
   "cell_type": "code",
   "execution_count": 1,
   "metadata": {},
   "outputs": [],
   "source": [
    "import gc\n",
    "import warnings\n",
    "\n",
    "import numpy as np\n",
    "import polars as pl\n",
    "import yaml\n",
    "from tqdm import tqdm\n",
    "\n",
    "warnings.filterwarnings(\"ignore\")"
   ]
  },
  {
   "cell_type": "code",
   "execution_count": 7,
   "metadata": {},
   "outputs": [
    {
     "data": {
      "text/html": [
       "<div><style>\n",
       ".dataframe > thead > tr > th,\n",
       ".dataframe > tbody > tr > td {\n",
       "  text-align: right;\n",
       "  white-space: pre-wrap;\n",
       "}\n",
       "</style>\n",
       "<small>shape: (5, 5)</small><table border=\"1\" class=\"dataframe\"><thead><tr><th>publication_number</th><th>publication_date</th><th>filing_date</th><th>family_id</th><th>cpc_codes</th></tr><tr><td>str</td><td>datetime[μs]</td><td>datetime[μs]</td><td>f64</td><td>list[str]</td></tr></thead><tbody><tr><td>&quot;US-1-A&quot;</td><td>1836-07-13 00:00:00</td><td>null</td><td>2.060279e6</td><td>[&quot;B61C11/04&quot;]</td></tr><tr><td>&quot;US-1-P&quot;</td><td>1931-08-18 00:00:00</td><td>1930-08-06 00:00:00</td><td>4.9893162e7</td><td>[&quot;A01H5/02&quot;, &quot;A01H6/749&quot;]</td></tr><tr><td>&quot;US-10-A&quot;</td><td>1836-08-10 00:00:00</td><td>null</td><td>2.060288e6</td><td>[&quot;B27J1/00&quot;]</td></tr><tr><td>&quot;US-1000-A&quot;</td><td>1838-11-03 00:00:00</td><td>null</td><td>2.061286e6</td><td>[&quot;B60G11/04&quot;, &quot;Y10S507/905&quot;]</td></tr><tr><td>&quot;US-10000-A&quot;</td><td>1853-09-06 00:00:00</td><td>null</td><td>2.07032e6</td><td>[&quot;F04D29/283&quot;]</td></tr></tbody></table></div>"
      ],
      "text/plain": [
       "shape: (5, 5)\n",
       "┌────────────────────┬─────────────────────┬──────────────┬─────────────┬────────────────┐\n",
       "│ publication_number ┆ publication_date    ┆ filing_date  ┆ family_id   ┆ cpc_codes      │\n",
       "│ ---                ┆ ---                 ┆ ---          ┆ ---         ┆ ---            │\n",
       "│ str                ┆ datetime[μs]        ┆ datetime[μs] ┆ f64         ┆ list[str]      │\n",
       "╞════════════════════╪═════════════════════╪══════════════╪═════════════╪════════════════╡\n",
       "│ US-1-A             ┆ 1836-07-13 00:00:00 ┆ null         ┆ 2.060279e6  ┆ [\"B61C11/04\"]  │\n",
       "│ US-1-P             ┆ 1931-08-18 00:00:00 ┆ 1930-08-06   ┆ 4.9893162e7 ┆ [\"A01H5/02\",   │\n",
       "│                    ┆                     ┆ 00:00:00     ┆             ┆ \"A01H6/749\"]   │\n",
       "│ US-10-A            ┆ 1836-08-10 00:00:00 ┆ null         ┆ 2.060288e6  ┆ [\"B27J1/00\"]   │\n",
       "│ US-1000-A          ┆ 1838-11-03 00:00:00 ┆ null         ┆ 2.061286e6  ┆ [\"B60G11/04\",  │\n",
       "│                    ┆                     ┆              ┆             ┆ \"Y10S507/905\"] │\n",
       "│ US-10000-A         ┆ 1853-09-06 00:00:00 ┆ null         ┆ 2.07032e6   ┆ [\"F04D29/283\"] │\n",
       "└────────────────────┴─────────────────────┴──────────────┴─────────────┴────────────────┘"
      ]
     },
     "execution_count": 7,
     "metadata": {},
     "output_type": "execute_result"
    }
   ],
   "source": [
    "meta = pl.read_parquet(\"/kaggle/input/uspto-boolean-search-optimization/patent_metadata.parquet\")\n",
    "meta.head()"
   ]
  },
  {
   "cell_type": "code",
   "execution_count": 36,
   "metadata": {},
   "outputs": [
    {
     "data": {
      "text/html": [
       "<div><style>\n",
       ".dataframe > thead > tr > th,\n",
       ".dataframe > tbody > tr > td {\n",
       "  text-align: right;\n",
       "  white-space: pre-wrap;\n",
       "}\n",
       "</style>\n",
       "<small>shape: (100, 5)</small><table border=\"1\" class=\"dataframe\"><thead><tr><th>publication_number</th><th>publication_date</th><th>filing_date</th><th>family_id</th><th>cpc_codes</th></tr><tr><td>str</td><td>datetime[μs]</td><td>datetime[μs]</td><td>f64</td><td>list[str]</td></tr></thead><tbody><tr><td>&quot;US-7912907-B1&quot;</td><td>2011-03-22 00:00:00</td><td>2005-10-07 00:00:00</td><td>4.3741868e7</td><td>[&quot;H04L51/212&quot;]</td></tr><tr><td>&quot;US-D359868-S&quot;</td><td>1995-07-04 00:00:00</td><td>1994-01-31 00:00:00</td><td>6.5241378e7</td><td>[]</td></tr><tr><td>&quot;US-4159179-A&quot;</td><td>1979-06-26 00:00:00</td><td>1977-06-02 00:00:00</td><td>2.5184184e7</td><td>[&quot;G01N21/251&quot;]</td></tr><tr><td>&quot;US-1167537-A&quot;</td><td>1916-01-11 00:00:00</td><td>1915-02-18 00:00:00</td><td>3.235556e6</td><td>[&quot;D05B69/22&quot;]</td></tr><tr><td>&quot;US-9383549-B2&quot;</td><td>2016-07-05 00:00:00</td><td>2015-03-06 00:00:00</td><td>5.4122738e7</td><td>[&quot;G01S7/4813&quot;, &quot;G02B13/0015&quot;, … &quot;H04N5/2254&quot;]</td></tr><tr><td>&quot;US-1644437-A&quot;</td><td>1927-10-04 00:00:00</td><td>1925-08-18 00:00:00</td><td>2.1968876e7</td><td>[&quot;B23Q1/545&quot;, &quot;B25B1/22&quot;]</td></tr><tr><td>&quot;US-5775054-A&quot;</td><td>1998-07-07 00:00:00</td><td>1997-02-19 00:00:00</td><td>1.1341116e7</td><td>[&quot;B65B19/10&quot;, &quot;B65G2201/0226&quot;]</td></tr><tr><td>&quot;US-10769213-B2…</td><td>2020-09-08 00:00:00</td><td>2016-10-24 00:00:00</td><td>6.196956e7</td><td>[&quot;G06F16/334&quot;, &quot;G06F16/353&quot;, &quot;G06F16/93&quot;]</td></tr><tr><td>&quot;US-2017156145-…</td><td>2017-06-01 00:00:00</td><td>2017-02-14 00:00:00</td><td>4.0512424e7</td><td>[&quot;H04L1/1812&quot;, &quot;H04L47/36&quot;, … &quot;H04W80/02&quot;]</td></tr><tr><td>&quot;US-3440095-A&quot;</td><td>1969-04-22 00:00:00</td><td>1966-09-01 00:00:00</td><td>2.4304897e7</td><td>[&quot;C23F11/04&quot;, &quot;C23G1/065&quot;]</td></tr><tr><td>&quot;US-224661-A&quot;</td><td>1880-02-17 00:00:00</td><td>null</td><td>2.29405e6</td><td>[&quot;F22D5/08&quot;, &quot;F24D19/081&quot;, … &quot;Y10T137/7381&quot;]</td></tr><tr><td>&quot;US-4459652-A&quot;</td><td>1984-07-10 00:00:00</td><td>1982-02-16 00:00:00</td><td>2.337114e7</td><td>[&quot;H02M1/084&quot;, &quot;H02M7/1626&quot;]</td></tr><tr><td>&hellip;</td><td>&hellip;</td><td>&hellip;</td><td>&hellip;</td><td>&hellip;</td></tr><tr><td>&quot;US-2021100215-…</td><td>2021-04-08 00:00:00</td><td>2019-10-02 00:00:00</td><td>7.5273425e7</td><td>[&quot;A01K1/0157&quot;]</td></tr><tr><td>&quot;US-2009204240-…</td><td>2009-08-13 00:00:00</td><td>2009-02-05 00:00:00</td><td>4.0847392e7</td><td>[&quot;G05B19/408&quot;, &quot;G05B19/414&quot;, &quot;Y02P90/02&quot;]</td></tr><tr><td>&quot;US-5063544-A&quot;</td><td>1991-11-05 00:00:00</td><td>1990-03-28 00:00:00</td><td>2.3988924e7</td><td>[&quot;G04G13/02&quot;, &quot;G04G9/087&quot;]</td></tr><tr><td>&quot;US-1907668-A&quot;</td><td>1933-05-09 00:00:00</td><td>1931-07-20 00:00:00</td><td>2.4203643e7</td><td>[&quot;B28C5/4244&quot;, &quot;B28C5/4275&quot;, &quot;E01C19/475&quot;]</td></tr><tr><td>&quot;US-3815510-A&quot;</td><td>1974-06-11 00:00:00</td><td>1972-07-26 00:00:00</td><td>9.084393e6</td><td>[&quot;B65G2812/02079&quot;, &quot;E01B25/12&quot;, &quot;E01B25/26&quot;]</td></tr><tr><td>&quot;US-D769603-S&quot;</td><td>2016-10-25 00:00:00</td><td>2015-05-29 00:00:00</td><td>5.7136162e7</td><td>[]</td></tr><tr><td>&quot;US-2020245881-…</td><td>2020-08-06 00:00:00</td><td>2018-08-14 00:00:00</td><td>6.681901e7</td><td>[&quot;A61B2562/0209&quot;, &quot;A61B5/04001&quot;, … &quot;G01N33/9406&quot;]</td></tr><tr><td>&quot;US-4872757-A&quot;</td><td>1989-10-10 00:00:00</td><td>1988-04-20 00:00:00</td><td>2.2674185e7</td><td>[&quot;G01B11/2433&quot;, &quot;G01N21/909&quot;]</td></tr><tr><td>&quot;US-1677277-A&quot;</td><td>1928-07-17 00:00:00</td><td>1925-11-24 00:00:00</td><td>2.2099057e7</td><td>[&quot;B42F13/006&quot;]</td></tr><tr><td>&quot;US-9968535-B2&quot;</td><td>2018-05-15 00:00:00</td><td>2008-10-22 00:00:00</td><td>4.0377728e7</td><td>[&quot;A61K2800/596&quot;, &quot;A61K8/27&quot;, … &quot;A61Q5/12&quot;]</td></tr><tr><td>&quot;US-835340-A&quot;</td><td>1906-11-06 00:00:00</td><td>1906-02-15 00:00:00</td><td>2.903815e6</td><td>[&quot;B42F13/26&quot;]</td></tr><tr><td>&quot;US-5658441-A&quot;</td><td>1997-08-19 00:00:00</td><td>1995-12-18 00:00:00</td><td>2.428971e7</td><td>[&quot;C25D17/00&quot;, &quot;H05K3/241&quot;]</td></tr></tbody></table></div>"
      ],
      "text/plain": [
       "shape: (100, 5)\n",
       "┌────────────────────┬─────────────────────┬──────────────┬─────────────┬──────────────────┐\n",
       "│ publication_number ┆ publication_date    ┆ filing_date  ┆ family_id   ┆ cpc_codes        │\n",
       "│ ---                ┆ ---                 ┆ ---          ┆ ---         ┆ ---              │\n",
       "│ str                ┆ datetime[μs]        ┆ datetime[μs] ┆ f64         ┆ list[str]        │\n",
       "╞════════════════════╪═════════════════════╪══════════════╪═════════════╪══════════════════╡\n",
       "│ US-7912907-B1      ┆ 2011-03-22 00:00:00 ┆ 2005-10-07   ┆ 4.3741868e7 ┆ [\"H04L51/212\"]   │\n",
       "│                    ┆                     ┆ 00:00:00     ┆             ┆                  │\n",
       "│ US-D359868-S       ┆ 1995-07-04 00:00:00 ┆ 1994-01-31   ┆ 6.5241378e7 ┆ []               │\n",
       "│                    ┆                     ┆ 00:00:00     ┆             ┆                  │\n",
       "│ US-4159179-A       ┆ 1979-06-26 00:00:00 ┆ 1977-06-02   ┆ 2.5184184e7 ┆ [\"G01N21/251\"]   │\n",
       "│                    ┆                     ┆ 00:00:00     ┆             ┆                  │\n",
       "│ US-1167537-A       ┆ 1916-01-11 00:00:00 ┆ 1915-02-18   ┆ 3.235556e6  ┆ [\"D05B69/22\"]    │\n",
       "│                    ┆                     ┆ 00:00:00     ┆             ┆                  │\n",
       "│ …                  ┆ …                   ┆ …            ┆ …           ┆ …                │\n",
       "│ US-1677277-A       ┆ 1928-07-17 00:00:00 ┆ 1925-11-24   ┆ 2.2099057e7 ┆ [\"B42F13/006\"]   │\n",
       "│                    ┆                     ┆ 00:00:00     ┆             ┆                  │\n",
       "│ US-9968535-B2      ┆ 2018-05-15 00:00:00 ┆ 2008-10-22   ┆ 4.0377728e7 ┆ [\"A61K2800/596\", │\n",
       "│                    ┆                     ┆ 00:00:00     ┆             ┆ \"A61K8/27\", … \"… │\n",
       "│ US-835340-A        ┆ 1906-11-06 00:00:00 ┆ 1906-02-15   ┆ 2.903815e6  ┆ [\"B42F13/26\"]    │\n",
       "│                    ┆                     ┆ 00:00:00     ┆             ┆                  │\n",
       "│ US-5658441-A       ┆ 1997-08-19 00:00:00 ┆ 1995-12-18   ┆ 2.428971e7  ┆ [\"C25D17/00\",    │\n",
       "│                    ┆                     ┆ 00:00:00     ┆             ┆ \"H05K3/241\"]     │\n",
       "└────────────────────┴─────────────────────┴──────────────┴─────────────┴──────────────────┘"
      ]
     },
     "execution_count": 36,
     "metadata": {},
     "output_type": "execute_result"
    }
   ],
   "source": [
    "meta.sample(100)"
   ]
  },
  {
   "cell_type": "code",
   "execution_count": null,
   "metadata": {},
   "outputs": [],
   "source": []
  },
  {
   "cell_type": "code",
   "execution_count": 19,
   "metadata": {},
   "outputs": [
    {
     "data": {
      "text/plain": [
       "((681926, 5), (12625825, 5))"
      ]
     },
     "execution_count": 19,
     "metadata": {},
     "output_type": "execute_result"
    }
   ],
   "source": [
    "usd_meta = meta.filter(pl.col(\"publication_number\").str.starts_with(\"US-D\"))\n",
    "non_usd_meta = meta.filter(~pl.col(\"publication_number\").str.starts_with(\"US-D\"))\n",
    "usd_meta.shape, non_usd_meta.shape"
   ]
  },
  {
   "cell_type": "code",
   "execution_count": 35,
   "metadata": {},
   "outputs": [
    {
     "data": {
      "text/html": [
       "<div><style>\n",
       ".dataframe > thead > tr > th,\n",
       ".dataframe > tbody > tr > td {\n",
       "  text-align: right;\n",
       "  white-space: pre-wrap;\n",
       "}\n",
       "</style>\n",
       "<small>shape: (20, 5)</small><table border=\"1\" class=\"dataframe\"><thead><tr><th>publication_number</th><th>publication_date</th><th>filing_date</th><th>family_id</th><th>cpc_codes</th></tr><tr><td>str</td><td>datetime[μs]</td><td>datetime[μs]</td><td>f64</td><td>list[str]</td></tr></thead><tbody><tr><td>&quot;US-PP27400-P3&quot;</td><td>2016-11-22 00:00:00</td><td>2014-10-08 00:00:00</td><td>5.5656473e7</td><td>[]</td></tr><tr><td>&quot;US-2021410347-…</td><td>2021-12-30 00:00:00</td><td>2021-06-07 00:00:00</td><td>7.9023911e7</td><td>[]</td></tr><tr><td>&quot;US-PP34436-P3&quot;</td><td>2022-07-26 00:00:00</td><td>2020-12-23 00:00:00</td><td>8.2021966e7</td><td>[]</td></tr><tr><td>&quot;US-2018352701-…</td><td>2018-12-06 00:00:00</td><td>2017-05-30 00:00:00</td><td>6.4315362e7</td><td>[]</td></tr><tr><td>&quot;US-PP27760-P2&quot;</td><td>2017-03-07 00:00:00</td><td>2015-10-01 00:00:00</td><td>5.8161674e7</td><td>[]</td></tr><tr><td>&quot;US-RE42580-E&quot;</td><td>2011-08-02 00:00:00</td><td>2009-02-11 00:00:00</td><td>4.4342907e7</td><td>[]</td></tr><tr><td>&quot;US-PP29464-P2&quot;</td><td>2018-07-03 00:00:00</td><td>2016-07-25 00:00:00</td><td>6.2684444e7</td><td>[]</td></tr><tr><td>&quot;US-PP33990-P2&quot;</td><td>2022-03-01 00:00:00</td><td>2021-05-24 00:00:00</td><td>8.044237e7</td><td>[]</td></tr><tr><td>&quot;US-PP29812-P3&quot;</td><td>2018-11-06 00:00:00</td><td>2017-02-09 00:00:00</td><td>6.3037042e7</td><td>[]</td></tr><tr><td>&quot;US-2018077840-…</td><td>2018-03-15 00:00:00</td><td>2016-09-15 00:00:00</td><td>6.155855e7</td><td>[]</td></tr><tr><td>&quot;US-PP16299-P2&quot;</td><td>2006-02-28 00:00:00</td><td>2004-08-19 00:00:00</td><td>3.5923023e7</td><td>[]</td></tr><tr><td>&quot;US-8625447-B1&quot;</td><td>2014-01-07 00:00:00</td><td>2011-02-01 00:00:00</td><td>4.9840901e7</td><td>[]</td></tr><tr><td>&quot;US-PP28170-P3&quot;</td><td>2017-07-11 00:00:00</td><td>2015-08-20 00:00:00</td><td>5.8158295e7</td><td>[]</td></tr><tr><td>&quot;US-PP34291-P2&quot;</td><td>2022-06-07 00:00:00</td><td>2021-11-11 00:00:00</td><td>8.1852194e7</td><td>[]</td></tr><tr><td>&quot;US-PP27654-P2&quot;</td><td>2017-02-07 00:00:00</td><td>2015-06-30 00:00:00</td><td>5.7908914e7</td><td>[]</td></tr><tr><td>&quot;US-PP33721-P2&quot;</td><td>2021-12-07 00:00:00</td><td>2020-09-14 00:00:00</td><td>7.8818511e7</td><td>[]</td></tr><tr><td>&quot;US-PP16041-P2&quot;</td><td>2005-10-18 00:00:00</td><td>2004-09-20 00:00:00</td><td>3.5066332e7</td><td>[]</td></tr><tr><td>&quot;US-PP30755-P3&quot;</td><td>2019-07-30 00:00:00</td><td>2017-11-09 00:00:00</td><td>6.6326347e7</td><td>[]</td></tr><tr><td>&quot;US-PP33698-P2&quot;</td><td>2021-11-30 00:00:00</td><td>2021-06-16 00:00:00</td><td>7.8767748e7</td><td>[]</td></tr><tr><td>&quot;US-PP28311-P3&quot;</td><td>2017-08-22 00:00:00</td><td>2015-08-19 00:00:00</td><td>5.8157336e7</td><td>[]</td></tr></tbody></table></div>"
      ],
      "text/plain": [
       "shape: (20, 5)\n",
       "┌────────────────────┬─────────────────────┬─────────────────────┬─────────────┬───────────┐\n",
       "│ publication_number ┆ publication_date    ┆ filing_date         ┆ family_id   ┆ cpc_codes │\n",
       "│ ---                ┆ ---                 ┆ ---                 ┆ ---         ┆ ---       │\n",
       "│ str                ┆ datetime[μs]        ┆ datetime[μs]        ┆ f64         ┆ list[str] │\n",
       "╞════════════════════╪═════════════════════╪═════════════════════╪═════════════╪═══════════╡\n",
       "│ US-PP27400-P3      ┆ 2016-11-22 00:00:00 ┆ 2014-10-08 00:00:00 ┆ 5.5656473e7 ┆ []        │\n",
       "│ US-2021410347-P1   ┆ 2021-12-30 00:00:00 ┆ 2021-06-07 00:00:00 ┆ 7.9023911e7 ┆ []        │\n",
       "│ US-PP34436-P3      ┆ 2022-07-26 00:00:00 ┆ 2020-12-23 00:00:00 ┆ 8.2021966e7 ┆ []        │\n",
       "│ US-2018352701-P1   ┆ 2018-12-06 00:00:00 ┆ 2017-05-30 00:00:00 ┆ 6.4315362e7 ┆ []        │\n",
       "│ …                  ┆ …                   ┆ …                   ┆ …           ┆ …         │\n",
       "│ US-PP16041-P2      ┆ 2005-10-18 00:00:00 ┆ 2004-09-20 00:00:00 ┆ 3.5066332e7 ┆ []        │\n",
       "│ US-PP30755-P3      ┆ 2019-07-30 00:00:00 ┆ 2017-11-09 00:00:00 ┆ 6.6326347e7 ┆ []        │\n",
       "│ US-PP33698-P2      ┆ 2021-11-30 00:00:00 ┆ 2021-06-16 00:00:00 ┆ 7.8767748e7 ┆ []        │\n",
       "│ US-PP28311-P3      ┆ 2017-08-22 00:00:00 ┆ 2015-08-19 00:00:00 ┆ 5.8157336e7 ┆ []        │\n",
       "└────────────────────┴─────────────────────┴─────────────────────┴─────────────┴───────────┘"
      ]
     },
     "execution_count": 35,
     "metadata": {},
     "output_type": "execute_result"
    }
   ],
   "source": [
    "non_usd_meta.filter(pl.col(\"cpc_codes\").list.lengths() == 0).filter(\n",
    "    pl.col(\"publication_date\") > pl.date(2000, 1, 1)\n",
    ").sort(\"publication_date\").sample(20)"
   ]
  },
  {
   "cell_type": "code",
   "execution_count": null,
   "metadata": {},
   "outputs": [],
   "source": []
  },
  {
   "cell_type": "code",
   "execution_count": null,
   "metadata": {},
   "outputs": [],
   "source": []
  },
  {
   "cell_type": "code",
   "execution_count": null,
   "metadata": {},
   "outputs": [],
   "source": []
  },
  {
   "cell_type": "code",
   "execution_count": 20,
   "metadata": {},
   "outputs": [
    {
     "data": {
      "text/html": [
       "<div><style>\n",
       ".dataframe > thead > tr > th,\n",
       ".dataframe > tbody > tr > td {\n",
       "  text-align: right;\n",
       "  white-space: pre-wrap;\n",
       "}\n",
       "</style>\n",
       "<small>shape: (681_926, 5)</small><table border=\"1\" class=\"dataframe\"><thead><tr><th>publication_number</th><th>publication_date</th><th>filing_date</th><th>family_id</th><th>cpc_codes</th></tr><tr><td>str</td><td>datetime[μs]</td><td>datetime[μs]</td><td>f64</td><td>list[str]</td></tr></thead><tbody><tr><td>&quot;US-D107228-S&quot;</td><td>1937-11-30 00:00:00</td><td>1937-09-22 00:00:00</td><td>5.7100844e7</td><td>[&quot;A46B9/04&quot;]</td></tr><tr><td>&quot;US-D114511-S&quot;</td><td>1939-04-25 00:00:00</td><td>1939-01-19 00:00:00</td><td>5.1690155e7</td><td>[&quot;A43B13/125&quot;, &quot;A43B13/145&quot;]</td></tr><tr><td>&quot;US-D120187-S&quot;</td><td>1940-04-23 00:00:00</td><td>1939-11-25 00:00:00</td><td>5.5699264e7</td><td>[&quot;B64C3/16&quot;, &quot;B64C39/04&quot;, &quot;B64C39/066&quot;]</td></tr><tr><td>&quot;US-D123595-S&quot;</td><td>1940-11-19 00:00:00</td><td>1939-09-21 00:00:00</td><td>5.5699266e7</td><td>[&quot;B64C3/10&quot;]</td></tr><tr><td>&quot;US-D126473-S&quot;</td><td>1941-04-08 00:00:00</td><td>1940-12-26 00:00:00</td><td>3.4618917e7</td><td>[]</td></tr><tr><td>&quot;US-D133482-S&quot;</td><td>1942-08-18 00:00:00</td><td>1942-06-03 00:00:00</td><td>4.2244745e7</td><td>[&quot;E04H17/004&quot;, &quot;E04H17/1439&quot;]</td></tr><tr><td>&quot;US-D138028-S&quot;</td><td>1944-06-06 00:00:00</td><td>1944-03-20 00:00:00</td><td>4.7739649e7</td><td>[]</td></tr><tr><td>&quot;US-D138697-S&quot;</td><td>1944-09-05 00:00:00</td><td>1943-10-26 00:00:00</td><td>5.8212853e7</td><td>[]</td></tr><tr><td>&quot;US-D148402-S&quot;</td><td>1948-01-20 00:00:00</td><td>1946-04-26 00:00:00</td><td>8.2703234e7</td><td>[]</td></tr><tr><td>&quot;US-D155773-S&quot;</td><td>1949-11-01 00:00:00</td><td>1948-09-30 00:00:00</td><td>5.7406004e7</td><td>[&quot;A45D2200/10&quot;, &quot;A45D34/00&quot;, … &quot;A45D40/28&quot;]</td></tr><tr><td>&quot;US-D158550-S&quot;</td><td>1950-05-16 00:00:00</td><td>1949-04-18 00:00:00</td><td>3.9053203e7</td><td>[]</td></tr><tr><td>&quot;US-D161264-S&quot;</td><td>1950-12-19 00:00:00</td><td>1950-03-18 00:00:00</td><td>4.5099272e7</td><td>[&quot;A45C1/08&quot;, &quot;A45C2001/083&quot;]</td></tr><tr><td>&hellip;</td><td>&hellip;</td><td>&hellip;</td><td>&hellip;</td><td>&hellip;</td></tr><tr><td>&quot;US-D991612-S&quot;</td><td>2023-07-04 00:00:00</td><td>2022-08-29 00:00:00</td><td>null</td><td>[]</td></tr><tr><td>&quot;US-D991613-S&quot;</td><td>2023-07-04 00:00:00</td><td>2023-04-04 00:00:00</td><td>null</td><td>[]</td></tr><tr><td>&quot;US-D991614-S&quot;</td><td>2023-07-04 00:00:00</td><td>2022-10-19 00:00:00</td><td>null</td><td>[]</td></tr><tr><td>&quot;US-D991615-S&quot;</td><td>2023-07-04 00:00:00</td><td>2021-07-08 00:00:00</td><td>null</td><td>[]</td></tr><tr><td>&quot;US-D991616-S&quot;</td><td>2023-07-04 00:00:00</td><td>2020-07-16 00:00:00</td><td>null</td><td>[]</td></tr><tr><td>&quot;US-D991617-S&quot;</td><td>2023-07-04 00:00:00</td><td>2020-07-28 00:00:00</td><td>null</td><td>[]</td></tr><tr><td>&quot;US-D991618-S&quot;</td><td>2023-07-04 00:00:00</td><td>2022-11-03 00:00:00</td><td>null</td><td>[]</td></tr><tr><td>&quot;US-D991619-S&quot;</td><td>2023-07-04 00:00:00</td><td>2021-04-28 00:00:00</td><td>null</td><td>[]</td></tr><tr><td>&quot;US-D991620-S&quot;</td><td>2023-07-04 00:00:00</td><td>2021-06-24 00:00:00</td><td>null</td><td>[]</td></tr><tr><td>&quot;US-D991621-S&quot;</td><td>2023-07-04 00:00:00</td><td>2021-04-01 00:00:00</td><td>null</td><td>[]</td></tr><tr><td>&quot;US-D991622-S&quot;</td><td>2023-07-04 00:00:00</td><td>2022-10-13 00:00:00</td><td>null</td><td>[]</td></tr><tr><td>&quot;US-D99827-S&quot;</td><td>1936-05-26 00:00:00</td><td>1936-03-04 00:00:00</td><td>3.6616827e7</td><td>[&quot;A47G19/02&quot;]</td></tr></tbody></table></div>"
      ],
      "text/plain": [
       "shape: (681_926, 5)\n",
       "┌────────────────────┬────────────────────────┬──────────────┬─────────────┬───────────────────────┐\n",
       "│ publication_number ┆ publication_date       ┆ filing_date  ┆ family_id   ┆ cpc_codes             │\n",
       "│ ---                ┆ ---                    ┆ ---          ┆ ---         ┆ ---                   │\n",
       "│ str                ┆ datetime[μs]           ┆ datetime[μs] ┆ f64         ┆ list[str]             │\n",
       "╞════════════════════╪════════════════════════╪══════════════╪═════════════╪═══════════════════════╡\n",
       "│ US-D107228-S       ┆ 1937-11-30 00:00:00    ┆ 1937-09-22   ┆ 5.7100844e7 ┆ [\"A46B9/04\"]          │\n",
       "│                    ┆                        ┆ 00:00:00     ┆             ┆                       │\n",
       "│ US-D114511-S       ┆ 1939-04-25 00:00:00    ┆ 1939-01-19   ┆ 5.1690155e7 ┆ [\"A43B13/125\",        │\n",
       "│                    ┆                        ┆ 00:00:00     ┆             ┆ \"A43B13/145\"]         │\n",
       "│ US-D120187-S       ┆ 1940-04-23 00:00:00    ┆ 1939-11-25   ┆ 5.5699264e7 ┆ [\"B64C3/16\",          │\n",
       "│                    ┆                        ┆ 00:00:00     ┆             ┆ \"B64C39/04\", \"B64C3…  │\n",
       "│ US-D123595-S       ┆ 1940-11-19 00:00:00    ┆ 1939-09-21   ┆ 5.5699266e7 ┆ [\"B64C3/10\"]          │\n",
       "│                    ┆                        ┆ 00:00:00     ┆             ┆                       │\n",
       "│ …                  ┆ …                      ┆ …            ┆ …           ┆ …                     │\n",
       "│ US-D991620-S       ┆ 2023-07-04 00:00:00    ┆ 2021-06-24   ┆ null        ┆ []                    │\n",
       "│                    ┆                        ┆ 00:00:00     ┆             ┆                       │\n",
       "│ US-D991621-S       ┆ 2023-07-04 00:00:00    ┆ 2021-04-01   ┆ null        ┆ []                    │\n",
       "│                    ┆                        ┆ 00:00:00     ┆             ┆                       │\n",
       "│ US-D991622-S       ┆ 2023-07-04 00:00:00    ┆ 2022-10-13   ┆ null        ┆ []                    │\n",
       "│                    ┆                        ┆ 00:00:00     ┆             ┆                       │\n",
       "│ US-D99827-S        ┆ 1936-05-26 00:00:00    ┆ 1936-03-04   ┆ 3.6616827e7 ┆ [\"A47G19/02\"]         │\n",
       "│                    ┆                        ┆ 00:00:00     ┆             ┆                       │\n",
       "└────────────────────┴────────────────────────┴──────────────┴─────────────┴───────────────────────┘"
      ]
     },
     "execution_count": 20,
     "metadata": {},
     "output_type": "execute_result"
    }
   ],
   "source": [
    "usd_meta"
   ]
  },
  {
   "cell_type": "code",
   "execution_count": null,
   "metadata": {},
   "outputs": [],
   "source": []
  },
  {
   "cell_type": "code",
   "execution_count": null,
   "metadata": {},
   "outputs": [],
   "source": []
  },
  {
   "cell_type": "code",
   "execution_count": null,
   "metadata": {},
   "outputs": [],
   "source": []
  }
 ],
 "metadata": {
  "kernelspec": {
   "display_name": "base",
   "language": "python",
   "name": "python3"
  },
  "language_info": {
   "codemirror_mode": {
    "name": "ipython",
    "version": 3
   },
   "file_extension": ".py",
   "mimetype": "text/x-python",
   "name": "python",
   "nbconvert_exporter": "python",
   "pygments_lexer": "ipython3",
   "version": "3.10.10"
  }
 },
 "nbformat": 4,
 "nbformat_minor": 2
}
