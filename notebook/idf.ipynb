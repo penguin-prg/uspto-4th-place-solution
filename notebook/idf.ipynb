{
 "cells": [
  {
   "cell_type": "code",
   "execution_count": 1,
   "metadata": {},
   "outputs": [],
   "source": [
    "import os\n",
    "import sys\n",
    "\n",
    "PACKAGE_DIR = \"/kaggle/src\"\n",
    "sys.path.append(PACKAGE_DIR)\n",
    "sys.path.append(os.path.join(PACKAGE_DIR, \"Penguin-ML-Library\"))"
   ]
  },
  {
   "cell_type": "code",
   "execution_count": 2,
   "metadata": {},
   "outputs": [
    {
     "name": "stdout",
     "output_type": "stream",
     "text": [
      "Processing /kaggle/input/whoosh-wheel-2-7-4/Whoosh-2.7.4-py2.py3-none-any.whl\n",
      "Requirement already satisfied: cached-property in /opt/conda/lib/python3.10/site-packages (from Whoosh==2.7.4) (1.5.2)\n",
      "Whoosh is already installed with the same version as the provided wheel. Use --force-reinstall to force an installation of the wheel.\n"
     ]
    },
    {
     "name": "stderr",
     "output_type": "stream",
     "text": [
      "\u001b[33mWARNING: Running pip as the 'root' user can result in broken permissions and conflicting behaviour with the system package manager. It is recommended to use a virtual environment instead: https://pip.pypa.io/warnings/venv\u001b[0m\u001b[33m\n",
      "\u001b[0m"
     ]
    }
   ],
   "source": [
    "import whoosh_utils"
   ]
  },
  {
   "cell_type": "code",
   "execution_count": 3,
   "metadata": {},
   "outputs": [],
   "source": [
    "import gc\n",
    "import warnings\n",
    "\n",
    "import numpy as np\n",
    "import polars as pl\n",
    "import yaml\n",
    "from tqdm import tqdm\n",
    "\n",
    "from utils import compute_ap, evaluate, load_list_bz2"
   ]
  },
  {
   "cell_type": "code",
   "execution_count": 4,
   "metadata": {},
   "outputs": [],
   "source": [
    "train_idx = whoosh_utils.load_index(\"/kaggle/input/train-index-2500/index_2500_200k\")\n",
    "searcher = whoosh_utils.get_searcher(train_idx)\n",
    "qp = whoosh_utils.get_query_parser()\n",
    "# train_idx.doc_count()"
   ]
  },
  {
   "cell_type": "code",
   "execution_count": null,
   "metadata": {},
   "outputs": [],
   "source": []
  },
  {
   "cell_type": "code",
   "execution_count": 5,
   "metadata": {},
   "outputs": [
    {
     "name": "stdout",
     "output_type": "stream",
     "text": [
      "1\n",
      "US-10825672-B2\n"
     ]
    },
    {
     "data": {
      "text/plain": [
       "17.638431144575904"
      ]
     },
     "execution_count": 5,
     "metadata": {},
     "output_type": "execute_result"
    }
   ],
   "source": [
    "query = 'cpc:G16B40/10 ti:techniques'\n",
    "to_search = qp.parse(query)\n",
    "results = searcher.search(to_search, limit=50)\n",
    "print(len(results))\n",
    "print(results[0][\"id\"])\n",
    "results[0].score"
   ]
  },
  {
   "cell_type": "code",
   "execution_count": 32,
   "metadata": {},
   "outputs": [
    {
     "name": "stdout",
     "output_type": "stream",
     "text": [
      "US-10825672-B2\n"
     ]
    },
    {
     "data": {
      "text/plain": [
       "17.638431144575904"
      ]
     },
     "execution_count": 32,
     "metadata": {},
     "output_type": "execute_result"
    }
   ],
   "source": [
    "query = '(cpc:G16B40/10 ti:techniques) AND (ti:techniques)'\n",
    "to_search = qp.parse(query)\n",
    "results = searcher.search(to_search, limit=50)\n",
    "print(results[0][\"id\"])\n",
    "results[0].score"
   ]
  },
  {
   "cell_type": "code",
   "execution_count": 37,
   "metadata": {},
   "outputs": [
    {
     "name": "stdout",
     "output_type": "stream",
     "text": [
      "US-10825672-B2\n"
     ]
    },
    {
     "data": {
      "text/plain": [
       "24.9611714015678"
      ]
     },
     "execution_count": 37,
     "metadata": {},
     "output_type": "execute_result"
    }
   ],
   "source": [
    "query = '(cpc:G16B40/10 ti:techniques) OR (ti:techniques)'\n",
    "to_search = qp.parse(query)\n",
    "results = searcher.search(to_search, limit=50)\n",
    "print(results[0][\"id\"])\n",
    "results[0].score"
   ]
  },
  {
   "cell_type": "code",
   "execution_count": 40,
   "metadata": {},
   "outputs": [
    {
     "name": "stdout",
     "output_type": "stream",
     "text": [
      "US-10825672-B2\n"
     ]
    },
    {
     "data": {
      "text/plain": [
       "35.27686228915181"
      ]
     },
     "execution_count": 40,
     "metadata": {},
     "output_type": "execute_result"
    }
   ],
   "source": [
    "query = '(cpc:G16B40/10 ti:techniques) OR (ti:techniques) OR (cpc:G16B40/10)'\n",
    "to_search = qp.parse(query)\n",
    "results = searcher.search(to_search, limit=50)\n",
    "print(results[0][\"id\"])\n",
    "results[0].score"
   ]
  },
  {
   "cell_type": "code",
   "execution_count": 41,
   "metadata": {},
   "outputs": [
    {
     "name": "stdout",
     "output_type": "stream",
     "text": [
      "US-10825672-B2\n"
     ]
    },
    {
     "data": {
      "text/plain": [
       "17.638431144575904"
      ]
     },
     "execution_count": 41,
     "metadata": {},
     "output_type": "execute_result"
    }
   ],
   "source": [
    "query = '(cpc:G16B40/10 ti:techniques) OR (cpc:G16B40/10 ti:techniques)'\n",
    "to_search = qp.parse(query)\n",
    "results = searcher.search(to_search, limit=50)\n",
    "print(results[0][\"id\"])\n",
    "results[0].score"
   ]
  },
  {
   "cell_type": "code",
   "execution_count": 47,
   "metadata": {},
   "outputs": [
    {
     "name": "stdout",
     "output_type": "stream",
     "text": [
      "US-2012171163-A1\n"
     ]
    },
    {
     "data": {
      "text/plain": [
       "30.69552963691612"
      ]
     },
     "execution_count": 47,
     "metadata": {},
     "output_type": "execute_result"
    }
   ],
   "source": [
    "query = 'cpc:A23L33/135 (detd:suflate)'\n",
    "to_search = qp.parse(query)\n",
    "results = searcher.search(to_search, limit=50)\n",
    "print(results[0][\"id\"])\n",
    "results[0].score"
   ]
  },
  {
   "cell_type": "markdown",
   "metadata": {},
   "source": [
    "## AND"
   ]
  },
  {
   "cell_type": "code",
   "execution_count": 50,
   "metadata": {},
   "outputs": [
    {
     "name": "stdout",
     "output_type": "stream",
     "text": [
      "1\n",
      "US-10825672-B2\n"
     ]
    },
    {
     "data": {
      "text/plain": [
       "17.638431144575904"
      ]
     },
     "execution_count": 50,
     "metadata": {},
     "output_type": "execute_result"
    }
   ],
   "source": [
    "query = 'cpc:G16B40/10 ti:techniques'\n",
    "to_search = qp.parse(query)\n",
    "results = searcher.search(to_search, limit=50)\n",
    "print(len(results))\n",
    "print(results[0][\"id\"])\n",
    "results[0].score"
   ]
  },
  {
   "cell_type": "code",
   "execution_count": 58,
   "metadata": {},
   "outputs": [
    {
     "name": "stdout",
     "output_type": "stream",
     "text": [
      "17\n",
      "US-2022181132-A1\n"
     ]
    },
    {
     "data": {
      "text/plain": [
       "10.315690887584008"
      ]
     },
     "execution_count": 58,
     "metadata": {},
     "output_type": "execute_result"
    }
   ],
   "source": [
    "query = 'cpc:G16B40/10'\n",
    "to_search = qp.parse(query)\n",
    "results = searcher.search(to_search, limit=50)\n",
    "print(len(results))\n",
    "print(results[0][\"id\"])\n",
    "results[0].score"
   ]
  },
  {
   "cell_type": "code",
   "execution_count": 59,
   "metadata": {},
   "outputs": [
    {
     "name": "stdout",
     "output_type": "stream",
     "text": [
      "358\n",
      "US-2021068014-A1\n"
     ]
    },
    {
     "data": {
      "text/plain": [
       "7.322740256991895"
      ]
     },
     "execution_count": 59,
     "metadata": {},
     "output_type": "execute_result"
    }
   ],
   "source": [
    "query = 'ti:techniques'\n",
    "to_search = qp.parse(query)\n",
    "results = searcher.search(to_search, limit=50, reverse=True)\n",
    "print(len(results))\n",
    "print(results[0][\"id\"])\n",
    "results[0].score"
   ]
  },
  {
   "cell_type": "markdown",
   "metadata": {},
   "source": [
    "## OR"
   ]
  },
  {
   "cell_type": "code",
   "execution_count": 80,
   "metadata": {},
   "outputs": [
    {
     "name": "stdout",
     "output_type": "stream",
     "text": [
      "1\n",
      "US-10825672-B2\n"
     ]
    },
    {
     "data": {
      "text/plain": [
       "17.638431144575904"
      ]
     },
     "execution_count": 80,
     "metadata": {},
     "output_type": "execute_result"
    }
   ],
   "source": [
    "query = 'cpc:G16B40/10 ti:techniques'\n",
    "to_search = qp.parse(query)\n",
    "results = searcher.search(to_search, limit=50)\n",
    "print(len(results))\n",
    "print(results[0][\"id\"])\n",
    "results[0].score"
   ]
  },
  {
   "cell_type": "code",
   "execution_count": 81,
   "metadata": {},
   "outputs": [
    {
     "name": "stdout",
     "output_type": "stream",
     "text": [
      "1\n",
      "US-10825672-B2\n"
     ]
    },
    {
     "data": {
      "text/plain": [
       "18.9470425545608"
      ]
     },
     "execution_count": 81,
     "metadata": {},
     "output_type": "execute_result"
    }
   ],
   "source": [
    "query = 'cpc:G16B40/10 ti:defect'\n",
    "to_search = qp.parse(query)\n",
    "results = searcher.search(to_search, limit=50)\n",
    "print(len(results))\n",
    "print(results[0][\"id\"])\n",
    "results[0].score"
   ]
  },
  {
   "cell_type": "code",
   "execution_count": 82,
   "metadata": {},
   "outputs": [
    {
     "name": "stdout",
     "output_type": "stream",
     "text": [
      "1\n",
      "US-10825672-B2\n"
     ]
    },
    {
     "data": {
      "text/plain": [
       "36.5854736991367"
      ]
     },
     "execution_count": 82,
     "metadata": {},
     "output_type": "execute_result"
    }
   ],
   "source": [
    "query = '(cpc:G16B40/10 ti:defect) OR (cpc:G16B40/10 ti:techniques)'\n",
    "to_search = qp.parse(query)\n",
    "results = searcher.search(to_search, limit=50)\n",
    "print(len(results))\n",
    "print(results[0][\"id\"])\n",
    "results[0].score"
   ]
  },
  {
   "cell_type": "markdown",
   "metadata": {},
   "source": [
    "## Boost"
   ]
  },
  {
   "cell_type": "code",
   "execution_count": 88,
   "metadata": {},
   "outputs": [
    {
     "name": "stdout",
     "output_type": "stream",
     "text": [
      "1\n",
      "US-10825672-B2\n"
     ]
    },
    {
     "data": {
      "text/plain": [
       "17.638431144575904"
      ]
     },
     "execution_count": 88,
     "metadata": {},
     "output_type": "execute_result"
    }
   ],
   "source": [
    "query = '(cpc:G16B40/10 ti:techniques) OR (cpc:G16B40/10 ti:techniques)'\n",
    "to_search = qp.parse(query)\n",
    "results = searcher.search(to_search, limit=50)\n",
    "print(len(results))\n",
    "print(results[0][\"id\"])\n",
    "results[0].score"
   ]
  },
  {
   "cell_type": "code",
   "execution_count": 89,
   "metadata": {},
   "outputs": [
    {
     "name": "stdout",
     "output_type": "stream",
     "text": [
      "1\n",
      "US-10825672-B2\n"
     ]
    },
    {
     "data": {
      "text/plain": [
       "35.27686228915181"
      ]
     },
     "execution_count": 89,
     "metadata": {},
     "output_type": "execute_result"
    }
   ],
   "source": [
    "query = '(cpc:G16B40/10 ti:techniques) OR (ti:techniques cpc:G16B40/10)'\n",
    "to_search = qp.parse(query)\n",
    "results = searcher.search(to_search, limit=50)\n",
    "print(len(results))\n",
    "print(results[0][\"id\"])\n",
    "results[0].score"
   ]
  },
  {
   "cell_type": "code",
   "execution_count": 92,
   "metadata": {},
   "outputs": [
    {
     "name": "stdout",
     "output_type": "stream",
     "text": [
      "1\n",
      "US-10825672-B2\n"
     ]
    },
    {
     "data": {
      "text/plain": [
       "17.638431144575904"
      ]
     },
     "execution_count": 92,
     "metadata": {},
     "output_type": "execute_result"
    }
   ],
   "source": [
    "query = '(cpc:G16B40/10 ti:techniques) AND (ti:techniques cpc:G16B40/10)'\n",
    "to_search = qp.parse(query)\n",
    "results = searcher.search(to_search, limit=50)\n",
    "print(len(results))\n",
    "print(results[0][\"id\"])\n",
    "results[0].score"
   ]
  },
  {
   "cell_type": "code",
   "execution_count": null,
   "metadata": {},
   "outputs": [],
   "source": []
  },
  {
   "cell_type": "code",
   "execution_count": 90,
   "metadata": {},
   "outputs": [
    {
     "name": "stdout",
     "output_type": "stream",
     "text": [
      "1\n",
      "US-10825672-B2\n"
     ]
    },
    {
     "data": {
      "text/plain": [
       "17.638431144575904"
      ]
     },
     "execution_count": 90,
     "metadata": {},
     "output_type": "execute_result"
    }
   ],
   "source": [
    "query = '(cpc:G16B40/10 ti:techniques) OR (cpc:\"G16B40/10\"ti:\"techniques\")'\n",
    "to_search = qp.parse(query)\n",
    "results = searcher.search(to_search, limit=50)\n",
    "print(len(results))\n",
    "print(results[0][\"id\"])\n",
    "results[0].score"
   ]
  },
  {
   "cell_type": "code",
   "execution_count": 91,
   "metadata": {},
   "outputs": [
    {
     "name": "stdout",
     "output_type": "stream",
     "text": [
      "1\n",
      "US-10825672-B2\n"
     ]
    },
    {
     "data": {
      "text/plain": [
       "17.638431144575904"
      ]
     },
     "execution_count": 91,
     "metadata": {},
     "output_type": "execute_result"
    }
   ],
   "source": [
    "query = '(cpc:G16B40/10 ti:techniques) OR (cpc:(G16B40/10) ti:(techniques))'\n",
    "to_search = qp.parse(query)\n",
    "results = searcher.search(to_search, limit=50)\n",
    "print(len(results))\n",
    "print(results[0][\"id\"])\n",
    "results[0].score"
   ]
  },
  {
   "cell_type": "code",
   "execution_count": null,
   "metadata": {},
   "outputs": [],
   "source": []
  },
  {
   "cell_type": "code",
   "execution_count": 6,
   "metadata": {},
   "outputs": [
    {
     "name": "stdout",
     "output_type": "stream",
     "text": [
      "17\n",
      "US-2022181132-A1\n"
     ]
    },
    {
     "data": {
      "text/plain": [
       "10.315690887584008"
      ]
     },
     "execution_count": 6,
     "metadata": {},
     "output_type": "execute_result"
    }
   ],
   "source": [
    "query = 'cpc:G16B40/10'\n",
    "to_search = qp.parse(query)\n",
    "results = searcher.search(to_search, limit=50)\n",
    "print(len(results))\n",
    "print(results[0][\"id\"])\n",
    "results[0].score"
   ]
  },
  {
   "cell_type": "code",
   "execution_count": 11,
   "metadata": {},
   "outputs": [
    {
     "name": "stdout",
     "output_type": "stream",
     "text": [
      "17\n",
      "US-2022181132-A1\n"
     ]
    },
    {
     "data": {
      "text/plain": [
       "30.947072662752024"
      ]
     },
     "execution_count": 11,
     "metadata": {},
     "output_type": "execute_result"
    }
   ],
   "source": [
    "query = 'cpc:G16B40/10 G16B40/1? G16B40/1*  G16B40/1*'\n",
    "to_search = qp.parse(query)\n",
    "results = searcher.search(to_search, limit=50)\n",
    "print(len(results))\n",
    "print(results[0][\"id\"])\n",
    "results[0].score"
   ]
  },
  {
   "cell_type": "code",
   "execution_count": 1,
   "metadata": {},
   "outputs": [
    {
     "ename": "NameError",
     "evalue": "name 'qp' is not defined",
     "output_type": "error",
     "traceback": [
      "\u001b[0;31m---------------------------------------------------------------------------\u001b[0m",
      "\u001b[0;31mNameError\u001b[0m                                 Traceback (most recent call last)",
      "Cell \u001b[0;32mIn[1], line 2\u001b[0m\n\u001b[1;32m      1\u001b[0m query \u001b[38;5;241m=\u001b[39m \u001b[38;5;124m'\u001b[39m\u001b[38;5;124mcpc:G16B40/10 G16B40/1? G16B40/1* G16B40/?0 G16B40?10\u001b[39m\u001b[38;5;124m'\u001b[39m\n\u001b[0;32m----> 2\u001b[0m to_search \u001b[38;5;241m=\u001b[39m \u001b[43mqp\u001b[49m\u001b[38;5;241m.\u001b[39mparse(query)\n\u001b[1;32m      3\u001b[0m results \u001b[38;5;241m=\u001b[39m searcher\u001b[38;5;241m.\u001b[39msearch(to_search, limit\u001b[38;5;241m=\u001b[39m\u001b[38;5;241m50\u001b[39m)\n\u001b[1;32m      4\u001b[0m \u001b[38;5;28mprint\u001b[39m(\u001b[38;5;28mlen\u001b[39m(results))\n",
      "\u001b[0;31mNameError\u001b[0m: name 'qp' is not defined"
     ]
    }
   ],
   "source": [
    "query = 'cpc:G16B40/10 G16B40/1? G16B40/1* G16B40/?0 G16B40?10'\n",
    "to_search = qp.parse(query)\n",
    "results = searcher.search(to_search, limit=50)\n",
    "print(len(results))\n",
    "print(results[0][\"id\"])\n",
    "results[0].score"
   ]
  },
  {
   "cell_type": "code",
   "execution_count": null,
   "metadata": {},
   "outputs": [],
   "source": []
  }
 ],
 "metadata": {
  "kernelspec": {
   "display_name": "base",
   "language": "python",
   "name": "python3"
  },
  "language_info": {
   "codemirror_mode": {
    "name": "ipython",
    "version": 3
   },
   "file_extension": ".py",
   "mimetype": "text/x-python",
   "name": "python",
   "nbconvert_exporter": "python",
   "pygments_lexer": "ipython3",
   "version": "3.10.10"
  }
 },
 "nbformat": 4,
 "nbformat_minor": 2
}
