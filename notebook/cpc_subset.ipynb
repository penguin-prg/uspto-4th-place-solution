{
 "cells": [
  {
   "cell_type": "code",
   "execution_count": 1,
   "metadata": {},
   "outputs": [
    {
     "name": "stdout",
     "output_type": "stream",
     "text": [
      "/kaggle/working\n"
     ]
    }
   ],
   "source": [
    "!rm -r /kaggle/working/*\n",
    "%cd /kaggle/working"
   ]
  },
  {
   "cell_type": "code",
   "execution_count": 2,
   "metadata": {},
   "outputs": [],
   "source": [
    "import os\n",
    "import sys\n",
    "\n",
    "PACKAGE_DIR = \"/kaggle/src\"\n",
    "sys.path.append(PACKAGE_DIR)"
   ]
  },
  {
   "cell_type": "code",
   "execution_count": 3,
   "metadata": {},
   "outputs": [
    {
     "name": "stdout",
     "output_type": "stream",
     "text": [
      "Processing /kaggle/input/whoosh-wheel-2-7-4/Whoosh-2.7.4-py2.py3-none-any.whl\n",
      "Whoosh is already installed with the same version as the provided wheel. Use --force-reinstall to force an installation of the wheel.\n"
     ]
    },
    {
     "name": "stderr",
     "output_type": "stream",
     "text": [
      "\u001b[33mWARNING: Running pip as the 'root' user can result in broken permissions and conflicting behaviour with the system package manager. It is recommended to use a virtual environment instead: https://pip.pypa.io/warnings/venv\u001b[0m\u001b[33m\n",
      "\u001b[0m"
     ]
    }
   ],
   "source": [
    "import whoosh_utils"
   ]
  },
  {
   "cell_type": "code",
   "execution_count": 4,
   "metadata": {},
   "outputs": [
    {
     "name": "stderr",
     "output_type": "stream",
     "text": [
      "2024-05-05 00:33:35.267890: I tensorflow/core/platform/cpu_feature_guard.cc:193] This TensorFlow binary is optimized with oneAPI Deep Neural Network Library (oneDNN) to use the following CPU instructions in performance-critical operations:  AVX2 AVX_VNNI FMA\n",
      "To enable them in other operations, rebuild TensorFlow with the appropriate compiler flags.\n",
      "2024-05-05 00:33:35.332139: I tensorflow/core/util/port.cc:104] oneDNN custom operations are on. You may see slightly different numerical results due to floating-point round-off errors from different computation orders. To turn them off, set the environment variable `TF_ENABLE_ONEDNN_OPTS=0`.\n",
      "2024-05-05 00:33:35.809442: W tensorflow/compiler/xla/stream_executor/platform/default/dso_loader.cc:64] Could not load dynamic library 'libnvinfer.so.7'; dlerror: libnvinfer.so.7: cannot open shared object file: No such file or directory; LD_LIBRARY_PATH: /usr/local/cuda/lib64:/usr/local/cuda/lib:/usr/local/lib/x86_64-linux-gnu:/usr/local/nvidia/lib:/usr/local/nvidia/lib64:/usr/local/nvidia/lib:/usr/local/nvidia/lib64:/opt/conda/lib\n",
      "2024-05-05 00:33:35.809510: W tensorflow/compiler/xla/stream_executor/platform/default/dso_loader.cc:64] Could not load dynamic library 'libnvinfer_plugin.so.7'; dlerror: libnvinfer_plugin.so.7: cannot open shared object file: No such file or directory; LD_LIBRARY_PATH: /usr/local/cuda/lib64:/usr/local/cuda/lib:/usr/local/lib/x86_64-linux-gnu:/usr/local/nvidia/lib:/usr/local/nvidia/lib64:/usr/local/nvidia/lib:/usr/local/nvidia/lib64:/opt/conda/lib\n",
      "2024-05-05 00:33:35.809514: W tensorflow/compiler/tf2tensorrt/utils/py_utils.cc:38] TF-TRT Warning: Cannot dlopen some TensorRT libraries. If you would like to use Nvidia GPU with TensorRT, please make sure the missing libraries mentioned above are installed properly.\n",
      "/opt/conda/lib/python3.10/site-packages/scipy/__init__.py:146: UserWarning: A NumPy version >=1.16.5 and <1.23.0 is required for this version of SciPy (detected version 1.23.5\n",
      "  warnings.warn(f\"A NumPy version >={np_minversion} and <{np_maxversion}\"\n"
     ]
    },
    {
     "name": "stdout",
     "output_type": "stream",
     "text": [
      "exp_0001\n"
     ]
    },
    {
     "name": "stderr",
     "output_type": "stream",
     "text": [
      "set seed: 46\n"
     ]
    }
   ],
   "source": [
    "import gc\n",
    "import warnings\n",
    "\n",
    "import numpy as np\n",
    "import polars as pl\n",
    "import yaml\n",
    "from tqdm import tqdm\n",
    "\n",
    "warnings.filterwarnings(\"ignore\")"
   ]
  },
  {
   "cell_type": "code",
   "execution_count": 5,
   "metadata": {},
   "outputs": [
    {
     "data": {
      "text/html": [
       "<div><style>\n",
       ".dataframe > thead > tr > th,\n",
       ".dataframe > tbody > tr > td {\n",
       "  text-align: right;\n",
       "  white-space: pre-wrap;\n",
       "}\n",
       "</style>\n",
       "<small>shape: (1, 51)</small><table border=\"1\" class=\"dataframe\"><thead><tr><th>publication_number</th><th>target_0</th><th>target_1</th><th>target_2</th><th>target_3</th><th>target_4</th><th>target_5</th><th>target_6</th><th>target_7</th><th>target_8</th><th>target_9</th><th>target_10</th><th>target_11</th><th>target_12</th><th>target_13</th><th>target_14</th><th>target_15</th><th>target_16</th><th>target_17</th><th>target_18</th><th>target_19</th><th>target_20</th><th>target_21</th><th>target_22</th><th>target_23</th><th>target_24</th><th>target_25</th><th>target_26</th><th>target_27</th><th>target_28</th><th>target_29</th><th>target_30</th><th>target_31</th><th>target_32</th><th>target_33</th><th>target_34</th><th>target_35</th><th>target_36</th><th>target_37</th><th>target_38</th><th>target_39</th><th>target_40</th><th>target_41</th><th>target_42</th><th>target_43</th><th>target_44</th><th>target_45</th><th>target_46</th><th>target_47</th><th>target_48</th><th>target_49</th></tr><tr><td>str</td><td>str</td><td>str</td><td>str</td><td>str</td><td>str</td><td>str</td><td>str</td><td>str</td><td>str</td><td>str</td><td>str</td><td>str</td><td>str</td><td>str</td><td>str</td><td>str</td><td>str</td><td>str</td><td>str</td><td>str</td><td>str</td><td>str</td><td>str</td><td>str</td><td>str</td><td>str</td><td>str</td><td>str</td><td>str</td><td>str</td><td>str</td><td>str</td><td>str</td><td>str</td><td>str</td><td>str</td><td>str</td><td>str</td><td>str</td><td>str</td><td>str</td><td>str</td><td>str</td><td>str</td><td>str</td><td>str</td><td>str</td><td>str</td><td>str</td><td>str</td></tr></thead><tbody><tr><td>&quot;US-5292324-A&quot;</td><td>&quot;US-5662659-A&quot;</td><td>&quot;US-4959070-A&quot;</td><td>&quot;US-4813957-A&quot;</td><td>&quot;US-5752960-A&quot;</td><td>&quot;US-7186258-B2&quot;</td><td>&quot;US-4957505-A&quot;</td><td>&quot;US-4785810-A&quot;</td><td>&quot;US-5556400-A&quot;</td><td>&quot;US-5549614-A&quot;</td><td>&quot;US-5176701-A&quot;</td><td>&quot;US-4715373-A&quot;</td><td>&quot;US-7011666-B2&quot;</td><td>&quot;US-9277989-B2&quot;</td><td>&quot;US-6214015-B1&quot;</td><td>&quot;US-5234436-A&quot;</td><td>&quot;US-6206887-B1&quot;</td><td>&quot;US-2005143750-…</td><td>&quot;US-7947049-B2&quot;</td><td>&quot;US-5217464-A&quot;</td><td>&quot;US-5207708-A&quot;</td><td>&quot;US-5312413-A&quot;</td><td>&quot;US-5163419-A&quot;</td><td>&quot;US-6811553-B2&quot;</td><td>&quot;US-5007913-A&quot;</td><td>&quot;US-8888845-B2&quot;</td><td>&quot;US-7422604-B2&quot;</td><td>&quot;US-5584304-A&quot;</td><td>&quot;US-2005149057-…</td><td>&quot;US-6113606-A&quot;</td><td>&quot;US-4844065-A&quot;</td><td>&quot;US-4976716-A&quot;</td><td>&quot;US-5571113-A&quot;</td><td>&quot;US-5395378-A&quot;</td><td>&quot;US-5702400-A&quot;</td><td>&quot;US-5267553-A&quot;</td><td>&quot;US-2004193263-…</td><td>&quot;US-4906247-A&quot;</td><td>&quot;US-6267768-B1&quot;</td><td>&quot;US-5876440-A&quot;</td><td>&quot;US-5066297-A&quot;</td><td>&quot;US-5728117-A&quot;</td><td>&quot;US-8574293-B2&quot;</td><td>&quot;US-4726367-A&quot;</td><td>&quot;US-5026393-A&quot;</td><td>&quot;US-2021244531-…</td><td>&quot;US-6241737-B1&quot;</td><td>&quot;US-2009030424-…</td><td>&quot;US-4655775-A&quot;</td><td>&quot;US-2022370195-…</td><td>&quot;US-10744032-B2…</td></tr></tbody></table></div>"
      ],
      "text/plain": [
       "shape: (1, 51)\n",
       "┌───────────┬───────────┬───────────┬───────────┬───┬───────────┬───────────┬───────────┬──────────┐\n",
       "│ publicati ┆ target_0  ┆ target_1  ┆ target_2  ┆ … ┆ target_46 ┆ target_47 ┆ target_48 ┆ target_4 │\n",
       "│ on_number ┆ ---       ┆ ---       ┆ ---       ┆   ┆ ---       ┆ ---       ┆ ---       ┆ 9        │\n",
       "│ ---       ┆ str       ┆ str       ┆ str       ┆   ┆ str       ┆ str       ┆ str       ┆ ---      │\n",
       "│ str       ┆           ┆           ┆           ┆   ┆           ┆           ┆           ┆ str      │\n",
       "╞═══════════╪═══════════╪═══════════╪═══════════╪═══╪═══════════╪═══════════╪═══════════╪══════════╡\n",
       "│ US-529232 ┆ US-566265 ┆ US-495907 ┆ US-481395 ┆ … ┆ US-200903 ┆ US-465577 ┆ US-202237 ┆ US-10744 │\n",
       "│ 4-A       ┆ 9-A       ┆ 0-A       ┆ 7-A       ┆   ┆ 0424-A1   ┆ 5-A       ┆ 0195-A1   ┆ 032-B2   │\n",
       "└───────────┴───────────┴───────────┴───────────┴───┴───────────┴───────────┴───────────┴──────────┘"
      ]
     },
     "execution_count": 5,
     "metadata": {},
     "output_type": "execute_result"
    }
   ],
   "source": [
    "train = pl.read_parquet(\"/kaggle/input/uspto-train-data/train_1000.parquet\")\n",
    "train.head(1)"
   ]
  },
  {
   "cell_type": "code",
   "execution_count": 6,
   "metadata": {},
   "outputs": [],
   "source": [
    "import json\n",
    "\n",
    "with open(\"/kaggle/input/cpc-counts/patent2cpc.json\", \"r\") as f:\n",
    "    patent2cpc = json.load(f)"
   ]
  },
  {
   "cell_type": "code",
   "execution_count": 7,
   "metadata": {},
   "outputs": [],
   "source": [
    "with open(\"/kaggle/input/cpc-mapping/cpc2patents.json\", \"r\") as f:\n",
    "    cpc2patents = json.load(f)"
   ]
  },
  {
   "cell_type": "code",
   "execution_count": 18,
   "metadata": {},
   "outputs": [
    {
     "name": "stdout",
     "output_type": "stream",
     "text": [
      "accept_cpcs: 6, inner: 47, outer: 2334\n",
      "accept_cpcs: 7, inner: 17, outer: 3558\n",
      "accept_cpcs: 12, inner: 40, outer: 3814\n",
      "accept_cpcs: 13, inner: 43, outer: 6182\n",
      "accept_cpcs: 11, inner: 34, outer: 3127\n",
      "accept_cpcs: 10, inner: 38, outer: 4738\n",
      "accept_cpcs: 15, inner: 35, outer: 48621\n",
      "accept_cpcs: 11, inner: 47, outer: 9817\n",
      "accept_cpcs: 14, inner: 46, outer: 31567\n",
      "accept_cpcs: 5, inner: 13, outer: 3713\n",
      "accept_cpcs: 15, inner: 41, outer: 13081\n",
      "accept_cpcs: 15, inner: 47, outer: 4513\n",
      "accept_cpcs: 15, inner: 41, outer: 57926\n",
      "accept_cpcs: 6, inner: 42, outer: 1894\n",
      "accept_cpcs: 15, inner: 34, outer: 5587\n",
      "accept_cpcs: 14, inner: 42, outer: 14783\n",
      "accept_cpcs: 12, inner: 31, outer: 14863\n",
      "accept_cpcs: 15, inner: 44, outer: 1978\n",
      "accept_cpcs: 9, inner: 33, outer: 1401\n",
      "accept_cpcs: 8, inner: 33, outer: 3106\n",
      "accept_cpcs: 13, inner: 38, outer: 35189\n",
      "accept_cpcs: 7, inner: 46, outer: 3525\n",
      "accept_cpcs: 13, inner: 43, outer: 57592\n",
      "accept_cpcs: 6, inner: 41, outer: 2679\n",
      "accept_cpcs: 11, inner: 48, outer: 5596\n",
      "accept_cpcs: 15, inner: 47, outer: 114987\n",
      "accept_cpcs: 10, inner: 44, outer: 41151\n",
      "accept_cpcs: 10, inner: 45, outer: 48572\n",
      "accept_cpcs: 15, inner: 46, outer: 5441\n",
      "accept_cpcs: 12, inner: 46, outer: 3390\n",
      "accept_cpcs: 13, inner: 48, outer: 6186\n",
      "accept_cpcs: 5, inner: 49, outer: 2932\n",
      "accept_cpcs: 10, inner: 34, outer: 7578\n",
      "accept_cpcs: 14, inner: 44, outer: 9627\n",
      "accept_cpcs: 15, inner: 40, outer: 6759\n",
      "accept_cpcs: 0, inner: 0, outer: 0\n",
      "accept_cpcs: 6, inner: 45, outer: 1904\n",
      "accept_cpcs: 9, inner: 49, outer: 523\n",
      "accept_cpcs: 0, inner: 0, outer: 0\n",
      "accept_cpcs: 13, inner: 44, outer: 7302\n",
      "accept_cpcs: 11, inner: 49, outer: 36037\n",
      "accept_cpcs: 9, inner: 28, outer: 3660\n",
      "accept_cpcs: 13, inner: 39, outer: 4202\n",
      "accept_cpcs: 14, inner: 47, outer: 21713\n",
      "accept_cpcs: 13, inner: 39, outer: 1984\n",
      "accept_cpcs: 12, inner: 44, outer: 25023\n",
      "accept_cpcs: 7, inner: 36, outer: 2157\n",
      "accept_cpcs: 12, inner: 31, outer: 4868\n",
      "accept_cpcs: 8, inner: 35, outer: 1826\n",
      "accept_cpcs: 5, inner: 44, outer: 4725\n",
      "accept_cpcs: 8, inner: 46, outer: 5311\n",
      "accept_cpcs: 15, inner: 36, outer: 18592\n",
      "accept_cpcs: 12, inner: 39, outer: 3042\n",
      "accept_cpcs: 8, inner: 38, outer: 2504\n",
      "accept_cpcs: 11, inner: 29, outer: 8656\n",
      "accept_cpcs: 9, inner: 44, outer: 10889\n",
      "accept_cpcs: 12, inner: 38, outer: 5199\n",
      "accept_cpcs: 15, inner: 34, outer: 10429\n",
      "accept_cpcs: 0, inner: 0, outer: 0\n",
      "accept_cpcs: 12, inner: 45, outer: 5528\n",
      "accept_cpcs: 8, inner: 17, outer: 49822\n",
      "accept_cpcs: 13, inner: 41, outer: 5035\n",
      "accept_cpcs: 12, inner: 43, outer: 3678\n",
      "accept_cpcs: 13, inner: 43, outer: 11260\n",
      "accept_cpcs: 9, inner: 48, outer: 57728\n",
      "accept_cpcs: 8, inner: 49, outer: 16087\n",
      "accept_cpcs: 11, inner: 45, outer: 12625\n",
      "accept_cpcs: 6, inner: 49, outer: 1133\n",
      "accept_cpcs: 6, inner: 50, outer: 2372\n",
      "accept_cpcs: 5, inner: 40, outer: 3223\n",
      "accept_cpcs: 10, inner: 27, outer: 2996\n",
      "accept_cpcs: 10, inner: 32, outer: 6205\n",
      "accept_cpcs: 12, inner: 41, outer: 20817\n",
      "accept_cpcs: 11, inner: 43, outer: 2664\n",
      "accept_cpcs: 14, inner: 38, outer: 10098\n",
      "accept_cpcs: 12, inner: 33, outer: 35363\n",
      "accept_cpcs: 11, inner: 29, outer: 21428\n",
      "accept_cpcs: 11, inner: 42, outer: 8922\n",
      "accept_cpcs: 5, inner: 45, outer: 2326\n",
      "accept_cpcs: 0, inner: 0, outer: 0\n",
      "accept_cpcs: 7, inner: 45, outer: 2301\n",
      "accept_cpcs: 13, inner: 46, outer: 12817\n",
      "accept_cpcs: 12, inner: 47, outer: 4366\n",
      "accept_cpcs: 11, inner: 38, outer: 3261\n",
      "accept_cpcs: 12, inner: 35, outer: 5693\n",
      "accept_cpcs: 13, inner: 40, outer: 37475\n",
      "accept_cpcs: 11, inner: 40, outer: 1107\n",
      "accept_cpcs: 1, inner: 48, outer: 1741\n",
      "accept_cpcs: 15, inner: 44, outer: 4591\n",
      "accept_cpcs: 0, inner: 0, outer: 0\n",
      "accept_cpcs: 9, inner: 32, outer: 1789\n",
      "accept_cpcs: 12, inner: 45, outer: 9230\n",
      "accept_cpcs: 13, inner: 35, outer: 29859\n",
      "accept_cpcs: 12, inner: 35, outer: 3036\n",
      "accept_cpcs: 9, inner: 33, outer: 2547\n",
      "accept_cpcs: 11, inner: 44, outer: 7352\n",
      "accept_cpcs: 15, inner: 33, outer: 20895\n",
      "accept_cpcs: 5, inner: 40, outer: 5000\n",
      "accept_cpcs: 11, inner: 43, outer: 3052\n",
      "accept_cpcs: 10, inner: 46, outer: 1419\n",
      "accept_cpcs: 11, inner: 27, outer: 2625\n",
      "accept_cpcs: 0, inner: 0, outer: 0\n",
      "accept_cpcs: 15, inner: 38, outer: 13738\n",
      "accept_cpcs: 11, inner: 36, outer: 18970\n",
      "accept_cpcs: 5, inner: 46, outer: 2717\n",
      "accept_cpcs: 11, inner: 42, outer: 6375\n",
      "accept_cpcs: 13, inner: 29, outer: 10958\n",
      "accept_cpcs: 4, inner: 42, outer: 739\n",
      "accept_cpcs: 9, inner: 20, outer: 3350\n",
      "accept_cpcs: 7, inner: 42, outer: 4474\n",
      "accept_cpcs: 8, inner: 48, outer: 731\n",
      "accept_cpcs: 11, inner: 23, outer: 5891\n",
      "accept_cpcs: 15, inner: 35, outer: 2843\n",
      "accept_cpcs: 15, inner: 45, outer: 3558\n",
      "accept_cpcs: 6, inner: 38, outer: 1475\n",
      "accept_cpcs: 12, inner: 41, outer: 4846\n",
      "accept_cpcs: 15, inner: 37, outer: 8362\n",
      "accept_cpcs: 6, inner: 49, outer: 12810\n",
      "accept_cpcs: 0, inner: 0, outer: 0\n",
      "accept_cpcs: 15, inner: 42, outer: 2246\n",
      "accept_cpcs: 9, inner: 48, outer: 3311\n",
      "accept_cpcs: 12, inner: 45, outer: 21591\n",
      "accept_cpcs: 11, inner: 42, outer: 6861\n",
      "accept_cpcs: 11, inner: 43, outer: 9389\n",
      "accept_cpcs: 15, inner: 41, outer: 13538\n",
      "accept_cpcs: 11, inner: 33, outer: 3229\n",
      "accept_cpcs: 10, inner: 47, outer: 4023\n",
      "accept_cpcs: 15, inner: 44, outer: 2726\n",
      "accept_cpcs: 7, inner: 50, outer: 2330\n",
      "accept_cpcs: 5, inner: 12, outer: 2290\n",
      "accept_cpcs: 10, inner: 25, outer: 14068\n",
      "accept_cpcs: 12, inner: 38, outer: 2051\n",
      "accept_cpcs: 12, inner: 48, outer: 30834\n",
      "accept_cpcs: 11, inner: 43, outer: 14426\n",
      "accept_cpcs: 3, inner: 50, outer: 8377\n",
      "accept_cpcs: 13, inner: 44, outer: 3965\n",
      "accept_cpcs: 15, inner: 40, outer: 5534\n",
      "accept_cpcs: 0, inner: 0, outer: 0\n",
      "accept_cpcs: 7, inner: 43, outer: 5730\n",
      "accept_cpcs: 9, inner: 49, outer: 9028\n",
      "accept_cpcs: 12, inner: 43, outer: 4485\n",
      "accept_cpcs: 0, inner: 0, outer: 0\n",
      "accept_cpcs: 12, inner: 47, outer: 791\n",
      "accept_cpcs: 9, inner: 26, outer: 2279\n",
      "accept_cpcs: 14, inner: 36, outer: 10479\n",
      "accept_cpcs: 15, inner: 40, outer: 5153\n",
      "accept_cpcs: 14, inner: 39, outer: 5765\n",
      "accept_cpcs: 8, inner: 45, outer: 760\n",
      "accept_cpcs: 10, inner: 46, outer: 10609\n",
      "accept_cpcs: 11, inner: 45, outer: 26381\n",
      "accept_cpcs: 15, inner: 34, outer: 8806\n",
      "accept_cpcs: 10, inner: 49, outer: 3369\n",
      "accept_cpcs: 14, inner: 41, outer: 2765\n",
      "accept_cpcs: 9, inner: 38, outer: 3138\n",
      "accept_cpcs: 15, inner: 36, outer: 19544\n",
      "accept_cpcs: 15, inner: 34, outer: 15414\n",
      "accept_cpcs: 8, inner: 48, outer: 4563\n",
      "accept_cpcs: 4, inner: 41, outer: 4583\n",
      "accept_cpcs: 13, inner: 49, outer: 4915\n",
      "accept_cpcs: 10, inner: 49, outer: 2334\n",
      "accept_cpcs: 13, inner: 40, outer: 7535\n",
      "accept_cpcs: 7, inner: 44, outer: 2001\n",
      "accept_cpcs: 0, inner: 0, outer: 0\n",
      "accept_cpcs: 12, inner: 45, outer: 4791\n",
      "accept_cpcs: 13, inner: 34, outer: 6601\n",
      "accept_cpcs: 15, inner: 44, outer: 16242\n",
      "accept_cpcs: 12, inner: 31, outer: 3161\n",
      "accept_cpcs: 0, inner: 0, outer: 0\n",
      "accept_cpcs: 10, inner: 41, outer: 8333\n",
      "accept_cpcs: 14, inner: 47, outer: 10047\n",
      "accept_cpcs: 15, inner: 47, outer: 3892\n",
      "accept_cpcs: 7, inner: 30, outer: 2408\n",
      "accept_cpcs: 7, inner: 44, outer: 937\n",
      "accept_cpcs: 8, inner: 49, outer: 6918\n",
      "accept_cpcs: 11, inner: 34, outer: 5644\n",
      "accept_cpcs: 12, inner: 46, outer: 60661\n",
      "accept_cpcs: 9, inner: 26, outer: 2123\n",
      "accept_cpcs: 0, inner: 0, outer: 0\n",
      "accept_cpcs: 4, inner: 36, outer: 19001\n",
      "accept_cpcs: 7, inner: 47, outer: 3070\n",
      "accept_cpcs: 13, inner: 43, outer: 94521\n",
      "accept_cpcs: 13, inner: 31, outer: 6813\n",
      "accept_cpcs: 10, inner: 45, outer: 2016\n",
      "accept_cpcs: 13, inner: 49, outer: 10889\n",
      "accept_cpcs: 15, inner: 42, outer: 3486\n",
      "accept_cpcs: 8, inner: 45, outer: 3350\n",
      "accept_cpcs: 13, inner: 42, outer: 18967\n",
      "accept_cpcs: 15, inner: 44, outer: 25082\n",
      "accept_cpcs: 9, inner: 41, outer: 3687\n",
      "accept_cpcs: 14, inner: 49, outer: 13714\n",
      "accept_cpcs: 11, inner: 36, outer: 10349\n",
      "accept_cpcs: 9, inner: 39, outer: 2524\n",
      "accept_cpcs: 0, inner: 0, outer: 0\n",
      "accept_cpcs: 11, inner: 42, outer: 25633\n",
      "accept_cpcs: 0, inner: 0, outer: 0\n",
      "accept_cpcs: 12, inner: 45, outer: 15909\n",
      "accept_cpcs: 6, inner: 49, outer: 1398\n",
      "accept_cpcs: 8, inner: 46, outer: 3657\n",
      "accept_cpcs: 15, inner: 37, outer: 33332\n",
      "accept_cpcs: 15, inner: 39, outer: 68384\n",
      "accept_cpcs: 10, inner: 26, outer: 5582\n",
      "accept_cpcs: 15, inner: 38, outer: 12616\n",
      "accept_cpcs: 11, inner: 41, outer: 11321\n",
      "accept_cpcs: 11, inner: 26, outer: 4990\n",
      "accept_cpcs: 0, inner: 0, outer: 0\n",
      "accept_cpcs: 15, inner: 38, outer: 43318\n",
      "accept_cpcs: 7, inner: 45, outer: 15075\n",
      "accept_cpcs: 15, inner: 44, outer: 20984\n",
      "accept_cpcs: 11, inner: 41, outer: 4472\n",
      "accept_cpcs: 0, inner: 0, outer: 0\n",
      "accept_cpcs: 7, inner: 50, outer: 3262\n",
      "accept_cpcs: 5, inner: 50, outer: 6217\n",
      "accept_cpcs: 11, inner: 34, outer: 19819\n",
      "accept_cpcs: 12, inner: 49, outer: 6661\n",
      "accept_cpcs: 12, inner: 39, outer: 16435\n",
      "accept_cpcs: 11, inner: 30, outer: 21137\n",
      "accept_cpcs: 11, inner: 41, outer: 18269\n"
     ]
    },
    {
     "ename": "KeyboardInterrupt",
     "evalue": "",
     "output_type": "error",
     "traceback": [
      "\u001b[0;31m---------------------------------------------------------------------------\u001b[0m",
      "\u001b[0;31mKeyboardInterrupt\u001b[0m                         Traceback (most recent call last)",
      "Cell \u001b[0;32mIn[18], line 20\u001b[0m\n\u001b[1;32m     18\u001b[0m outers \u001b[38;5;241m=\u001b[39m []\n\u001b[1;32m     19\u001b[0m \u001b[38;5;28;01mfor\u001b[39;00m patent \u001b[38;5;129;01min\u001b[39;00m cpc2patents[cpc]:\n\u001b[0;32m---> 20\u001b[0m     \u001b[38;5;28;01mif\u001b[39;00m patent \u001b[38;5;129;01min\u001b[39;00m target_ids:\n\u001b[1;32m     21\u001b[0m         \u001b[38;5;28;01mif\u001b[39;00m patent \u001b[38;5;129;01mnot\u001b[39;00m \u001b[38;5;129;01min\u001b[39;00m inner_set:\n\u001b[1;32m     22\u001b[0m             inners\u001b[38;5;241m.\u001b[39mappend(patent)\n",
      "\u001b[0;31mKeyboardInterrupt\u001b[0m: "
     ]
    }
   ],
   "source": [
    "for target_ids in train.iter_rows():\n",
    "    target_ids = list(target_ids)[1:]\n",
    "    assert len(target_ids) == 50\n",
    "\n",
    "    inner_set = set()\n",
    "    outer_set = set()\n",
    "\n",
    "    all_cpcs = set(sum([patent2cpc[target_id] for target_id in target_ids], []))\n",
    "    accepted_cpcs = []\n",
    "    while True:\n",
    "        best_cpc = None\n",
    "        best_ratio = 1e10\n",
    "        best_inners = []\n",
    "        best_outers = []\n",
    "        remove_cpcs = []\n",
    "        for cpc in all_cpcs:\n",
    "            inners = []\n",
    "            outers = []\n",
    "            for patent in cpc2patents[cpc]:\n",
    "                if patent in target_ids:\n",
    "                    if patent not in inner_set:\n",
    "                        inners.append(patent)\n",
    "                else:\n",
    "                    if patent not in outer_set:\n",
    "                        outers.append(patent)\n",
    "            if len(inners) <= 1:\n",
    "                remove_cpcs.append(cpc)\n",
    "                continue\n",
    "\n",
    "            ratio = len(outers) / len(inners)\n",
    "            if ratio < best_ratio:\n",
    "                best_ratio = ratio\n",
    "                best_cpc = cpc\n",
    "                best_inners = inners\n",
    "                best_outers = outers\n",
    "\n",
    "        for cpc in remove_cpcs:\n",
    "            all_cpcs.remove(cpc)\n",
    "        if best_cpc is None:\n",
    "            break\n",
    "\n",
    "        for patent in best_inners:\n",
    "            inner_set.add(patent)\n",
    "        for patent in best_outers:\n",
    "            outer_set.add(patent)\n",
    "        accepted_cpcs.append(best_cpc)\n",
    "\n",
    "        if len(accepted_cpcs) == 15:\n",
    "            break\n",
    "\n",
    "    print(f\"accept_cpcs: {len(accepted_cpcs)}, inner: {len(inner_set)}, outer: {len(outer_set)}\")"
   ]
  },
  {
   "cell_type": "code",
   "execution_count": 10,
   "metadata": {},
   "outputs": [],
   "source": []
  },
  {
   "cell_type": "code",
   "execution_count": 11,
   "metadata": {},
   "outputs": [
    {
     "name": "stdout",
     "output_type": "stream",
     "text": [
      "15\n",
      "38 2155\n"
     ]
    }
   ],
   "source": []
  },
  {
   "cell_type": "code",
   "execution_count": null,
   "metadata": {},
   "outputs": [],
   "source": []
  },
  {
   "cell_type": "code",
   "execution_count": null,
   "metadata": {},
   "outputs": [],
   "source": []
  }
 ],
 "metadata": {
  "kernelspec": {
   "display_name": "base",
   "language": "python",
   "name": "python3"
  },
  "language_info": {
   "codemirror_mode": {
    "name": "ipython",
    "version": 3
   },
   "file_extension": ".py",
   "mimetype": "text/x-python",
   "name": "python",
   "nbconvert_exporter": "python",
   "pygments_lexer": "ipython3",
   "version": "3.10.10"
  }
 },
 "nbformat": 4,
 "nbformat_minor": 2
}
