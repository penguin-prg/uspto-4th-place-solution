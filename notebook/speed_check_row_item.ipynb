{
 "cells": [
  {
   "cell_type": "code",
   "execution_count": 1,
   "metadata": {},
   "outputs": [],
   "source": [
    "import os\n",
    "import sys\n",
    "\n",
    "PACKAGE_DIR = \"/kaggle/src\"\n",
    "sys.path.append(PACKAGE_DIR)\n",
    "sys.path.append(os.path.join(PACKAGE_DIR, \"Penguin-ML-Library\"))"
   ]
  },
  {
   "cell_type": "code",
   "execution_count": 2,
   "metadata": {},
   "outputs": [],
   "source": [
    "import gc\n",
    "import json\n",
    "import warnings\n",
    "from glob import glob\n",
    "\n",
    "import numpy as np\n",
    "import polars as pl\n",
    "import yaml\n",
    "from tqdm import tqdm\n",
    "\n",
    "from utils import compute_ap, evaluate, load_list_bz2, read_bytes_in_range"
   ]
  },
  {
   "cell_type": "code",
   "execution_count": 5,
   "metadata": {},
   "outputs": [
    {
     "data": {
      "text/plain": [
       "12312871"
      ]
     },
     "execution_count": 5,
     "metadata": {},
     "output_type": "execute_result"
    }
   ],
   "source": [
    "files = glob(\"/kaggle/input/all-index-per-patent/data/*.json.bz2\")\n",
    "len(files)"
   ]
  },
  {
   "cell_type": "code",
   "execution_count": 10,
   "metadata": {},
   "outputs": [
    {
     "name": "stderr",
     "output_type": "stream",
     "text": [
      "100%|██████████| 500/500 [00:00<00:00, 1200.30it/s]\n"
     ]
    }
   ],
   "source": [
    "for f in tqdm(files[: 50 * 10]):\n",
    "    data = load_list_bz2(f)"
   ]
  },
  {
   "cell_type": "code",
   "execution_count": 3,
   "metadata": {},
   "outputs": [
    {
     "data": {
      "text/plain": [
       "265889"
      ]
     },
     "execution_count": 3,
     "metadata": {},
     "output_type": "execute_result"
    }
   ],
   "source": [
    "files = glob(\"/kaggle/input/preprocess-cands-ratio/cpc_token2patents/*.json.bz2\")\n",
    "len(files)"
   ]
  },
  {
   "cell_type": "code",
   "execution_count": 4,
   "metadata": {},
   "outputs": [
    {
     "name": "stderr",
     "output_type": "stream",
     "text": [
      "  0%|          | 0/265889 [00:00<?, ?it/s]"
     ]
    },
    {
     "name": "stderr",
     "output_type": "stream",
     "text": [
      "  0%|          | 260/265889 [00:18<5:09:59, 14.28it/s, count=4393679]\n"
     ]
    },
    {
     "ename": "KeyboardInterrupt",
     "evalue": "",
     "output_type": "error",
     "traceback": [
      "\u001b[0;31m---------------------------------------------------------------------------\u001b[0m",
      "\u001b[0;31mKeyboardInterrupt\u001b[0m                         Traceback (most recent call last)",
      "Cell \u001b[0;32mIn[4], line 4\u001b[0m\n\u001b[1;32m      2\u001b[0m pbar \u001b[38;5;241m=\u001b[39m tqdm(files)\n\u001b[1;32m      3\u001b[0m \u001b[38;5;28;01mfor\u001b[39;00m f \u001b[38;5;129;01min\u001b[39;00m pbar:\n\u001b[0;32m----> 4\u001b[0m     data \u001b[38;5;241m=\u001b[39m \u001b[43mload_list_bz2\u001b[49m\u001b[43m(\u001b[49m\u001b[43mf\u001b[49m\u001b[43m)\u001b[49m\n\u001b[1;32m      5\u001b[0m     count \u001b[38;5;241m+\u001b[39m\u001b[38;5;241m=\u001b[39m \u001b[38;5;28mlen\u001b[39m(data)\n\u001b[1;32m      6\u001b[0m     pbar\u001b[38;5;241m.\u001b[39mset_postfix({\u001b[38;5;124m\"\u001b[39m\u001b[38;5;124mcount\u001b[39m\u001b[38;5;124m\"\u001b[39m: count})\n",
      "File \u001b[0;32m/kaggle/src/utils.py:21\u001b[0m, in \u001b[0;36mload_list_bz2\u001b[0;34m(filename)\u001b[0m\n\u001b[1;32m     19\u001b[0m \u001b[38;5;28;01mwith\u001b[39;00m \u001b[38;5;28mopen\u001b[39m(filename, \u001b[38;5;124m\"\u001b[39m\u001b[38;5;124mrb\u001b[39m\u001b[38;5;124m\"\u001b[39m) \u001b[38;5;28;01mas\u001b[39;00m f:\n\u001b[1;32m     20\u001b[0m     compressed_data \u001b[38;5;241m=\u001b[39m f\u001b[38;5;241m.\u001b[39mread()\n\u001b[0;32m---> 21\u001b[0m     decompressed_data \u001b[38;5;241m=\u001b[39m \u001b[43mbz2\u001b[49m\u001b[38;5;241;43m.\u001b[39;49m\u001b[43mdecompress\u001b[49m\u001b[43m(\u001b[49m\u001b[43mcompressed_data\u001b[49m\u001b[43m)\u001b[49m\n\u001b[1;32m     22\u001b[0m     \u001b[38;5;28;01mreturn\u001b[39;00m json\u001b[38;5;241m.\u001b[39mloads(decompressed_data\u001b[38;5;241m.\u001b[39mdecode(\u001b[38;5;124m\"\u001b[39m\u001b[38;5;124mutf-8\u001b[39m\u001b[38;5;124m\"\u001b[39m))\n",
      "File \u001b[0;32m/opt/conda/lib/python3.10/bz2.py:333\u001b[0m, in \u001b[0;36mdecompress\u001b[0;34m(data)\u001b[0m\n\u001b[1;32m    331\u001b[0m decomp \u001b[38;5;241m=\u001b[39m BZ2Decompressor()\n\u001b[1;32m    332\u001b[0m \u001b[38;5;28;01mtry\u001b[39;00m:\n\u001b[0;32m--> 333\u001b[0m     res \u001b[38;5;241m=\u001b[39m \u001b[43mdecomp\u001b[49m\u001b[38;5;241;43m.\u001b[39;49m\u001b[43mdecompress\u001b[49m\u001b[43m(\u001b[49m\u001b[43mdata\u001b[49m\u001b[43m)\u001b[49m\n\u001b[1;32m    334\u001b[0m \u001b[38;5;28;01mexcept\u001b[39;00m \u001b[38;5;167;01mOSError\u001b[39;00m:\n\u001b[1;32m    335\u001b[0m     \u001b[38;5;28;01mif\u001b[39;00m results:\n",
      "\u001b[0;31mKeyboardInterrupt\u001b[0m: "
     ]
    }
   ],
   "source": [
    "count = 0\n",
    "pbar = tqdm(files)\n",
    "for f in pbar:\n",
    "    data = load_list_bz2(f)\n",
    "    count += len(data)\n",
    "    pbar.set_postfix({\"count\": count})"
   ]
  },
  {
   "cell_type": "code",
   "execution_count": 4,
   "metadata": {},
   "outputs": [],
   "source": [
    "token2range = load_list_bz2(\"/kaggle/input/token-index/token2range.json.bz2\")"
   ]
  },
  {
   "cell_type": "code",
   "execution_count": 5,
   "metadata": {},
   "outputs": [],
   "source": [
    "with open(\"/kaggle/input/cpc-mapping/cpc2patents.json\", \"r\") as f:\n",
    "    cpc2patents = json.load(f)"
   ]
  },
  {
   "cell_type": "code",
   "execution_count": 9,
   "metadata": {},
   "outputs": [],
   "source": [
    "import random\n",
    "\n",
    "tokens = list(token2range.keys())\n",
    "cpcs = list(cpc2patents.keys())"
   ]
  },
  {
   "cell_type": "code",
   "execution_count": 15,
   "metadata": {},
   "outputs": [
    {
     "name": "stderr",
     "output_type": "stream",
     "text": [
      "100%|██████████| 10000/10000 [00:03<00:00, 3279.91it/s]\n"
     ]
    }
   ],
   "source": [
    "for _ in tqdm(range(10000)):\n",
    "    token = random.choice(tokens)\n",
    "    cpc = random.choice(cpcs)\n",
    "\n",
    "    token_patents = set(\n",
    "        read_bytes_in_range(\"/kaggle/input/token-index/index.txt\", *token2range[token]).split(),\n",
    "    )\n",
    "    cpc_patents = set(cpc2patents[cpc])\n",
    "    patents = token_patents & cpc_patents"
   ]
  },
  {
   "cell_type": "code",
   "execution_count": null,
   "metadata": {},
   "outputs": [],
   "source": []
  },
  {
   "cell_type": "code",
   "execution_count": null,
   "metadata": {},
   "outputs": [],
   "source": []
  },
  {
   "cell_type": "code",
   "execution_count": null,
   "metadata": {},
   "outputs": [],
   "source": []
  },
  {
   "cell_type": "code",
   "execution_count": 5,
   "metadata": {},
   "outputs": [
    {
     "name": "stdout",
     "output_type": "stream",
     "text": [
      "/kaggle/working\n"
     ]
    }
   ],
   "source": [
    "%cd /kaggle/working"
   ]
  },
  {
   "cell_type": "code",
   "execution_count": 6,
   "metadata": {},
   "outputs": [
    {
     "name": "stdout",
     "output_type": "stream",
     "text": [
      "Uncompressed JSON load time: 0.3642 seconds\n",
      "Compressed JSON load time: 0.7787 seconds\n"
     ]
    }
   ],
   "source": [
    "import bz2\n",
    "import json\n",
    "import time\n",
    "\n",
    "# サンプルのJSONデータを生成\n",
    "data = [{\"name\": \"Alice\", \"age\": 30, \"city\": \"New York\"} for _ in range(1000000)]\n",
    "json_file = \"sample.json\"\n",
    "bz2_file = \"sample.json.bz2\"\n",
    "\n",
    "# JSONファイルを保存\n",
    "with open(json_file, \"w\") as f:\n",
    "    json.dump(data, f)\n",
    "\n",
    "# JSONファイルを圧縮して保存\n",
    "with open(json_file, \"rb\") as f_in:\n",
    "    with bz2.open(bz2_file, \"wb\") as f_out:\n",
    "        f_out.writelines(f_in)\n",
    "\n",
    "# 圧縮されていないJSONファイルの読み込み時間を測定\n",
    "start_time = time.time()\n",
    "with open(json_file, \"r\") as f:\n",
    "    data_uncompressed = json.load(f)\n",
    "uncompressed_time = time.time() - start_time\n",
    "\n",
    "# 圧縮されたJSONファイルの読み込み時間を測定\n",
    "start_time = time.time()\n",
    "with bz2.open(bz2_file, \"rt\") as f:\n",
    "    data_compressed = json.load(f)\n",
    "compressed_time = time.time() - start_time\n",
    "\n",
    "# 結果を表示\n",
    "print(f\"Uncompressed JSON load time: {uncompressed_time:.4f} seconds\")\n",
    "print(f\"Compressed JSON load time: {compressed_time:.4f} seconds\")"
   ]
  },
  {
   "cell_type": "code",
   "execution_count": 12,
   "metadata": {},
   "outputs": [
    {
     "name": "stdout",
     "output_type": "stream",
     "text": [
      "LevelDB - Insert duration: 0.12428855895996094s\n",
      "LevelDB - Search duration: 0.06901955604553223s\n"
     ]
    }
   ],
   "source": [
    "import time\n",
    "\n",
    "import plyvel\n",
    "\n",
    "# データベースの作成\n",
    "db = plyvel.DB(\"./testdb/\", create_if_missing=True)\n",
    "\n",
    "# 挿入速度テスト\n",
    "start_time = time.time()\n",
    "for i in range(100000):\n",
    "    db.put(f\"key{i}\".encode(\"utf-8\"), f\"value{i}\".encode(\"utf-8\"))\n",
    "insert_duration = time.time() - start_time\n",
    "\n",
    "# 検索速度テスト\n",
    "start_time = time.time()\n",
    "for i in range(100000):\n",
    "    db.get(f\"key{i}\".encode(\"utf-8\"))\n",
    "search_duration = time.time() - start_time\n",
    "\n",
    "db.close()\n",
    "\n",
    "print(f\"LevelDB - Insert duration: {insert_duration}s\")\n",
    "print(f\"LevelDB - Search duration: {search_duration}s\")"
   ]
  },
  {
   "cell_type": "code",
   "execution_count": null,
   "metadata": {},
   "outputs": [],
   "source": []
  },
  {
   "cell_type": "code",
   "execution_count": null,
   "metadata": {},
   "outputs": [],
   "source": []
  },
  {
   "cell_type": "code",
   "execution_count": null,
   "metadata": {},
   "outputs": [],
   "source": []
  }
 ],
 "metadata": {
  "kernelspec": {
   "display_name": "base",
   "language": "python",
   "name": "python3"
  },
  "language_info": {
   "codemirror_mode": {
    "name": "ipython",
    "version": 3
   },
   "file_extension": ".py",
   "mimetype": "text/x-python",
   "name": "python",
   "nbconvert_exporter": "python",
   "pygments_lexer": "ipython3",
   "version": "3.10.10"
  }
 },
 "nbformat": 4,
 "nbformat_minor": 2
}
