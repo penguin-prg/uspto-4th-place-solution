{
 "cells": [
  {
   "cell_type": "code",
   "execution_count": 1,
   "metadata": {},
   "outputs": [
    {
     "name": "stdout",
     "output_type": "stream",
     "text": [
      "/kaggle/working\n"
     ]
    }
   ],
   "source": [
    "!rm -r /kaggle/working/*\n",
    "%cd /kaggle/working"
   ]
  },
  {
   "cell_type": "code",
   "execution_count": 2,
   "metadata": {},
   "outputs": [],
   "source": [
    "import os\n",
    "import sys\n",
    "\n",
    "PACKAGE_DIR = \"/kaggle/src\"\n",
    "sys.path.append(PACKAGE_DIR)\n",
    "sys.path.append(os.path.join(PACKAGE_DIR, \"Penguin-ML-Library\"))"
   ]
  },
  {
   "cell_type": "code",
   "execution_count": 3,
   "metadata": {},
   "outputs": [
    {
     "name": "stdout",
     "output_type": "stream",
     "text": [
      "Processing /kaggle/input/whoosh-wheel-2-7-4/Whoosh-2.7.4-py2.py3-none-any.whl\n",
      "Whoosh is already installed with the same version as the provided wheel. Use --force-reinstall to force an installation of the wheel.\n"
     ]
    },
    {
     "name": "stderr",
     "output_type": "stream",
     "text": [
      "\u001b[33mWARNING: Running pip as the 'root' user can result in broken permissions and conflicting behaviour with the system package manager. It is recommended to use a virtual environment instead: https://pip.pypa.io/warnings/venv\u001b[0m\u001b[33m\n",
      "\u001b[0m"
     ]
    }
   ],
   "source": [
    "import whoosh_utils_penguin"
   ]
  },
  {
   "cell_type": "code",
   "execution_count": 4,
   "metadata": {},
   "outputs": [],
   "source": [
    "import matplotlib.pyplot as plt\n",
    "import numpy as np\n",
    "import polars as pl"
   ]
  },
  {
   "cell_type": "code",
   "execution_count": 5,
   "metadata": {},
   "outputs": [],
   "source": [
    "train_idx = whoosh_utils_penguin.load_index(\n",
    "    \"/kaggle/input/uspto-boolean-search-optimization/train_index\"\n",
    ")\n",
    "searcher = whoosh_utils_penguin.get_searcher(train_idx)\n",
    "qp = whoosh_utils_penguin.get_query_parser()"
   ]
  },
  {
   "cell_type": "code",
   "execution_count": 6,
   "metadata": {},
   "outputs": [
    {
     "name": "stdout",
     "output_type": "stream",
     "text": [
      "3\n"
     ]
    },
    {
     "data": {
      "text/plain": [
       "[<Hit {'id': 'US-9407362-B2'}>,\n",
       " <Hit {'id': 'US-4098163-A'}>,\n",
       " <Hit {'id': 'US-2011056083-A1'}>,\n",
       " <Hit {'id': 'US-4984694-A'}>,\n",
       " <Hit {'id': 'US-8785276-B2'}>]"
      ]
     },
     "execution_count": 6,
     "metadata": {},
     "output_type": "execute_result"
    }
   ],
   "source": [
    "query = \"ti:balloons OR ti:string\"\n",
    "print(whoosh_utils_penguin.count_query_tokens(query=query))\n",
    "results = whoosh_utils_penguin.execute_query(query, qp, searcher)[:5]\n",
    "results"
   ]
  },
  {
   "cell_type": "code",
   "execution_count": 7,
   "metadata": {},
   "outputs": [
    {
     "name": "stderr",
     "output_type": "stream",
     "text": [
      "indexing: 100%|██████████| 10/10 [00:01<00:00,  7.68it/s]\n"
     ]
    }
   ],
   "source": [
    "os.makedirs(\"temp\", exist_ok=True)\n",
    "whoosh_utils_penguin.create_index(\n",
    "    output_dir=\"temp\",\n",
    "    documents=\"/kaggle/input/uspto-boolean-search-optimization/patent_data/*.parquet\",\n",
    "    debug=True,\n",
    ")"
   ]
  },
  {
   "cell_type": "code",
   "execution_count": 8,
   "metadata": {},
   "outputs": [],
   "source": [
    "train_idx = whoosh_utils_penguin.load_index(\"/kaggle/working/temp\")\n",
    "searcher = whoosh_utils_penguin.get_searcher(train_idx)\n",
    "qp = whoosh_utils_penguin.get_query_parser()"
   ]
  },
  {
   "cell_type": "code",
   "execution_count": 9,
   "metadata": {},
   "outputs": [
    {
     "name": "stdout",
     "output_type": "stream",
     "text": [
      "1\n"
     ]
    },
    {
     "data": {
      "text/plain": [
       "[<Hit {'ab': '', 'clm': '', 'cpc': 'A41B1/00', 'detd': '1955 F. A. ROBINSON COMBINED SHIRTWAIST OR BLOUSE AND SUSPENDERS Filed Jan. 21, 1952 Flornce J7. Robinson INVENTOR ATTORNEYS United States Patent COMBINED SHIRTWAIST OR BLOUSE AND SUSPENDERS Florence A. Robinson, Washington, D. C.  \\n Application January 21, 1952, Serial No. 267,329  \\n 1 Claim. (Cl. 2-107) This invention relates to wearing apparel, and particularly wearing apparel of the shirtwaist or blouse type, the primary object of the invention being to provide suspenders as forming a part of the garment, the suspenders being so constructed and arranged that they will be invisible at all times, thereby eliminating the unsightly appearance of suspenders worn exteriorly of the garment, as is common practice.  \\n  An important object of the invention is to so arrange the suspenders within the garment that the suspenders will receive the strain incident to the supporting of trousers, with which the shirtwaist or blouse is used.  \\n  With the foregoing and other objects in view which will appear as the description proceeds, the invention consists of certain novel details of construction and combinations of parts hereinafter more fully described and pointed out in the claim, it being understood that changes may be made in the construction and arrangement of parts without departing from the spirit of the invention as claimed.  \\n Referring to the drawing,  \\n  Figure 1 is a front elevatioual view of a shirtwaist or blouse equipped with suspenders constructed in accordance with the invention.  \\n  Fig. 2 is a front elevational view with one side of the shirtwaist or blouse turned back to illustrate the suspenders.  \\n  Fig. 3 is an enlarged fragmental detail view illustrating the manner of positioning and securing the suspenders under one of the edges of the garment.  \\n Fig. 4 is a sectional view taken on line 4-4 of Fig. 3.  \\n Fig. 5 is a sectional view taken on line 5-5 of Fig. 2.  \\n Fig. 6 is a sectional view taken on line 6-6 of Fig. 1.  \\n  Referring to the drawing in detail, the reference character 5 indicates the garment which may be in the form of a shirtwaist, blouse or the like, with which the suspenders are used.  \\n  The suspenders embody a pair of lengths of cloth material, preferably of the type of which the shirtwaist or blouse is constructed. However, it is to be understood that if desirable, the suspenders may be constructed of suitable elastic material.  \\n  The straps of cloth material constituting the suspenders are indicated by the reference character 6, and as shown each strap of cloth material is folded intermediate its ends, and secured to the garment as at 7, and at points at the sides of the neck band, as clearly shown by the drawing. These straps of cloth material of which the suspenders are constructed embody front suspender sections 8 and back suspender sections 9, the back suspender sections crossing each other at the back of the garment, as shown by Figs. 1 and 2 of the drawing, while the front suspender sections 8 are spread laterally and connect with the inner surface of the front portions of the garment at points 10.  \\n &#34;ice  \\n  The back suspender sections 9 connect with the back of the garment, at 11, the connections between the sections of the suspenders and the garment, being made by the stitches employed in securing the eyes 10 to the outer surface of the garment, the stitches passing through the garment to connect with the suspenders supported within the garment.  \\n  It will be noted that the points of connection between the suspenders and shirtwaist or blouse, indicated at 10 and 11, are spaced from the ends of the sections of the suspenders, so that the eyes 10 may be readily removed and attached nearer to the free ends of the suspenders, when it becomes necessary to make this adjustment to compensate for the growth of the child wearing the garment.  \\n  It might be further stated that the suspender sections when they have been folded intermediate their ends, are positioned so that the lines of stitching or threads may be passed through the suspenders and garment to secure the suspenders at the shoulders of the garment or adjacent to the neck band.  \\n  It will of course be understood that the suspenders are secured to the shirtwaist or blouse in such a way that there will be a certain amount of fullness of the shirtwaist or blouse at the points of connection between the suspenders and garment to throw the entire strain necessary in supporting trousers by the suspenders, on the suspenders.  \\n  In using the invention, it is to be understood that the trousers, not shown, with which the shirtwaist or blouse is used, will be provided with hooks disposed at the inner surface of the waistline of the trousers to cooperate with the eyes which are secured to the garment and suspenders, to support the trousers.  \\n  While I have shown and described the suspenders as used with shirtwaists or blouses, it is to be understood that it is within the scope of the invention to use the suspenders by securing them to the inner sides of any type of garment.  \\n Having thus described the invention, what is claimed A combined shirtwaist and suspenders, comprising suspender sections, each suspender section comprising a length of cloth material folded upon itself intermediate its ends providing front and back strap sections, said sections being secured to the shirtwaist at points on opposite sides of the neck of the shirtwaist, the back strap sections crossing each other at the back of the shirtwaist, fastening members adapted to be positioned over buttons of trousers with which the suspenders are used secured to the outer surface of the shirtwaist and fastened by stitching extending through the shirtwaist and front and back strap sections of the suspenders, the portions of the strap sections between the fastening members being free of the shirtwaist and the portions of the shirt between the fastening members and points of connection of the suspenders with the neck of the shirt being greater than the length of the suspenders between the neck of the shirt and fastening members, providing fullness in the shirt adjacent to said fastening members.  \\n References Cited in the file of this patent UNITED STATES PATENTS 783,421 Carr Feb. 28, 1905 1,130,216 Thayer Mar. 2, 1915 1,466,020 Kozloif Aug. 28, 1923 1,604,067 Norris Oct. 19, 1926 2,315,698 Gluckmann Apr. 6, 1943', 'id': 'US-2698435-A', 'ti': 'Combined shirtwaist or blouse and suspenders'}>,\n",
       " <Hit {'ab': '', 'clm': '', 'cpc': 'A41F3/00', 'detd': 'Jan. 4, 1955 E. H. BERNHARDT BUST FORM Filed June 29, 1951 IN V EN TOR.  \\n Ella H Bernhancll ATIUR/VE&#39;YS United States Paten&#39;t&#39;O BUST FORM Ella H. Bernhardt, New York, N. Y.  \\n Application June 29, 1951, Serial No. 234,335  \\n 4 Claims. (Cl. 2-267) It is the general object of the present invention to overcome the efiects of air leakage in bust forms, particularly those of the kind disclosed in my copending application Serial No. 192,389, filed October 27, 1950, now U. S. Patent 2,593,002, issued April 15, 1952 or in my U. S. Patent 2,542,619, issued February 20, 1951. that end it contemplates a coating treatment for the walls of the bust form to minimize air leakage or vapor transmission as well as the provision of means for replenishing air which normally leaks out of a form during its life, the latter feature making it possible to revive forms which have become reduced in size during a long life. The invention is equally applicable to forms used for cosmetic or prosthetic purposes.  \\n  The full nature of the invention, together with further objects and advantages thereof will best be understood from the illustrative embodiment hereinafter described with reference to the accompanying drawings in which:  \\n  Fig. l is a perspective view of a breast form worn with a brassiere and shown in position on a female figure, the form being positioned in a pocket in the brassiere and outlined in dotted lines;  \\n Fig. 2 is a partial plan view of the form;  \\n P Fig. 3 is a cross-sectional view along the lines 3-3 of Fig. 4 illustrates the valve means of Fig. 3 in open position;  \\n  Figs. 5 and 6 illustrate arrangements alternative to that shown in Fig. 3 for controlling the influx and efiiux of air into and from the form.  \\n  Referring to the drawings, the bust form 10 (indicated in dotted lines in Fig. 1) is located in the brassiere cup 12 of brassiere 13 adapted to support and conform inner liquid retaining cell 14 (Fig. 3) of form 10 to the human breast as explained in the aforementioned application and patent. As shown in Fig. 3, the brassiere cup 12 is provided with a form retainer 15 which may be a piece of soft textile material sewn along the sides and bottom of the inside of the brassire cup. A flap 16 is provided to cover the opening at the top of the brassire cup.  \\n  As shown in Fig. 2, an unsealed portion 22 of the form 10 is provided as a means of placing the contents in the form. After this operation, this portion 22 is sealed.  \\n  As seen in Fig. 3, the form 10 is double walled so as to form the inner cell 14 having front wall 17 and back wall 18, as well as the outer envelope 19 having front wall 20 and rear wall 21. The walls of both inner cell 14 and outer envelope 19 are formed of water-impervious flexible sheet material suitably joined and sealed along the edges, for example, the flexible sheet material known as Vinylite as in my mentioned patent. This material is a plasticized copolymer of vinyl chloride and vinyl acetate resin. The whole structure may be constructed such that the portion in fitting contact with the human breast normally assumes a concave shape as Fig. 3 indicates. The concavity is desirable for forms used for cosmetic purposes; forms for surgical purposes may be shaped as in my aforementioned patent and application.  \\n  Within the inner cell 14 there is provided a conformable liquid-filling means 23 such as shown and claimed in my aforesaid application and patent. Preferably, the filling means is of such character as to minimize sounds of its own movement and includes a sealing agent which,  \\n &#34;iceupon leakage of the filling means, tends to seal punctures and ruptures. Water with the addition of a foaming agent to produce sound minimizing foam 24 or an agent giving it a surface tension sufiiciently reduced to minimize sound will perform the former of these two functions. However, an aqueous solution of methylcellulose, the material described hereinafter will tend to perform both the functions of sound minimizing and sealing; if its concentration be made high it may be given a more flesh-like consistency and a surface tension sufliciently reduced to minimize sound, if its concentration be low, it will produce foam 24 when agitated.  \\n  The space 25 between inner cell 14 and outer envelope 19 will ordinarily contain a quantity of air. It may also contain a leakage-proofing material such as shown and claimed in my mentioned application.  \\n  As previously indicated, it has been found that bust forms constructed in the foregoing manner may change size during their useful life by virtue of air leakage through the walls of both inner cell 14 and outer envelope 19. In accordance with the present invention, this leakage may be minimized by coating the walls with methylcellulose, a material sold under the trademark Methocel by the Dow Chemical Company. This material has been described as a water soluble cellulose ether which may form aqueous solutions varying in viscosity from that of water itself to that of a thick gluey paste, although I believe it more accurate to term it a dispersion in water.  \\n  For making the Vinylite walls of both the inner cell and outer envelope leakproof against air leakage, they may be dipped in a solution of methylcelloluse and dried, one or more times, until they have acquired a suflicient coating which will adhere tenaciously to the Vinylite and because of its flexibility will not crack and fall off. It may be preferable to coat only the outside of the walls of the cell and outer envelope since inside coatings may tend to interfere with the sealing at the edges.  \\n  A suitable germicide may be added to the coating solution although it may be preferable to confine this to wall portions other than those to come in contact with the human skin in order to avoid skin irritation. A suitable germicide is orthophenylphenol, a sodium salt sold by the Dow Chemical Company as Dowicide.  \\n  In order to permit the user to replenish what air does escape from the bust form, there is provided in the front wall 20 of the outer envelope 19 a suitable valve means 26 which permits the introduction of air into envelope 19 through the valve means but prevents its escape through the valve means when closed. Such a means is shown in Fig. 3 in its closed position in which it seals the air within envelope 19 by virtue of the air pressure therein; it is shown in its open position in Fig. 4. The valve means shown is believed to be novel and inventive in and of itself as well as in combination with a breast form. It comprises a somewhat flexible tubing 27 having a bulbous portion 28 adapted to receive therewithin the cup-like stopper 29 of similar flexible material. The material for tubing 27 and stopper 29, may, for example, be the same as the walls of envelope 19 or cell 14, e. g. Vinylite. Alternatively the material may be rubber. In any event, the material should have suflicient flexibility and rigidity to permit the operation now to be explained.  \\n  In use, the user may insert an amount of air into envelope 19 suflicient to give the form the desired size, the insertion being accomplished by any suitable means, such as by blowing with the mouth. Thereafter, the stopper 29 is inserted into bulbous portion 28 in the position shown in Fig. 3; the handle 30 may be used for the purpose. After insertion, the air pressure within envelope 19 will expand the walls of stopper 29 to bring them into air-sealing frictional contact with the walls of portion 28. Insertion in this manner will be accomplished by temporary stretching of the Walls surrounding the opening 31 leading into portion 28. Insertion may be facilitated by manually collapsing tube 27 during insertion at a point near wall 20 so as to remove air pressure from walls of stopper 29 during insertion.  \\n In Fig. 5, the means 26 are modified to the extent that stopper 29 takes the form of a solid ball-like member 31, the materials and structure being otherwise the same as in Figs. 3 and 4.  \\n  In Fig. 6, the valve means is simplified by the elimination of a stopper and to the extent that tube 27 takes the form of a tube 32 extending a suflicient distance outside of wall 20 to permit its being tied in a knot for valve closure purposes. Otherwise, the materials and structure are the same as in Figs. 3 and 4. As in Figs. 3 and 4, tube 32 is sealed through wall 20.  \\n What is claimed is:  \\n  1. A breast form for simulating the breasts of women and the adjacent muscular tissues comprising flexible walls defining a flexible retaining cell having a filler therein, flexible Walls defining a flexible envelope enclosing said cell and having a gas therein, the walls of said cell and envelope having thereon a coating of methylcellulose, and valve means in said walls defining said envelope for replenishing the gas in said envelope.  \\n  2. A breast form for simulating the breasts of women and the adjacent muscular tissues comprising flexible walls of Vinylite defining a flexible retaining cell of Vinylite having a filler therein, flexible walls of Vinylite defining a flexible envelope of Vinylite enclosing said cell and having a gas therein, the Walls of said cell and envelope having thereon a coating of methylcellulose, and valve means in said walls defining said envelope for replenishing the gas in said envelope.  \\n  3. A breast form for simulating the breast of a woman and including flexible walls defining a flexible gas retaining cell, a flexible air inlet tube aflixed to the said walls and defining a passage for influx and efiiux of air&#39;to and from the cell, and valve means in the tube comprising a bulbous portion in the tube and a tube closing plug receivable in said bulbous portion.  \\n  4. A form as in claim 3 in which the plug is flexible and cup-shaped and the open end thereof is directed toward the interior of the cell whereby the pressure in the cell presses the walls of the plug against the Walls of the bulbous portion.  \\n References Cited in the file of this patent UNITED STATES PATENTS 4,419 Clarke Mar. 14, 1846 974,580 Lockwood Nov. 1, 1910 1,706,295 Jacobsohn Mar. 29, 1929 2,071,910 Whitmore Feb. 23, 1937 2,282,181 Guinzburg May 5, 1942 2,350,366 Mitchell June 6, 1944 2,354,855 Emanuel Aug. 1, 1944 2,516,129 Leo et al. July 25, 1950 2,542,619 Bernhardt Feb. 20, 1951 2,543,499 Kausch Feb. 27, 1951 2,593,002 Bernhardt Apr. 15, 1952 FOREIGN PATENTS 11,611 Great Britain May 21, 1903 474,045 Great Britain Oct. 22, 1937 625,421 Great Britain June 28, 1949', 'id': 'US-2698436-A', 'ti': 'Bust form'}>]"
      ]
     },
     "execution_count": 9,
     "metadata": {},
     "output_type": "execute_result"
    }
   ],
   "source": [
    "query = \"ti:b*\"\n",
    "print(whoosh_utils_penguin.count_query_tokens(query=query))\n",
    "results = whoosh_utils_penguin.execute_query(query, qp, searcher)[:5]\n",
    "results"
   ]
  },
  {
   "cell_type": "code",
   "execution_count": 10,
   "metadata": {},
   "outputs": [
    {
     "name": "stdout",
     "output_type": "stream",
     "text": [
      "1\n"
     ]
    },
    {
     "data": {
      "text/plain": [
       "[<Hit {'ab': '', 'clm': '', 'cpc': 'A41B1/00', 'detd': '1955 F. A. ROBINSON COMBINED SHIRTWAIST OR BLOUSE AND SUSPENDERS Filed Jan. 21, 1952 Flornce J7. Robinson INVENTOR ATTORNEYS United States Patent COMBINED SHIRTWAIST OR BLOUSE AND SUSPENDERS Florence A. Robinson, Washington, D. C.  \\n Application January 21, 1952, Serial No. 267,329  \\n 1 Claim. (Cl. 2-107) This invention relates to wearing apparel, and particularly wearing apparel of the shirtwaist or blouse type, the primary object of the invention being to provide suspenders as forming a part of the garment, the suspenders being so constructed and arranged that they will be invisible at all times, thereby eliminating the unsightly appearance of suspenders worn exteriorly of the garment, as is common practice.  \\n  An important object of the invention is to so arrange the suspenders within the garment that the suspenders will receive the strain incident to the supporting of trousers, with which the shirtwaist or blouse is used.  \\n  With the foregoing and other objects in view which will appear as the description proceeds, the invention consists of certain novel details of construction and combinations of parts hereinafter more fully described and pointed out in the claim, it being understood that changes may be made in the construction and arrangement of parts without departing from the spirit of the invention as claimed.  \\n Referring to the drawing,  \\n  Figure 1 is a front elevatioual view of a shirtwaist or blouse equipped with suspenders constructed in accordance with the invention.  \\n  Fig. 2 is a front elevational view with one side of the shirtwaist or blouse turned back to illustrate the suspenders.  \\n  Fig. 3 is an enlarged fragmental detail view illustrating the manner of positioning and securing the suspenders under one of the edges of the garment.  \\n Fig. 4 is a sectional view taken on line 4-4 of Fig. 3.  \\n Fig. 5 is a sectional view taken on line 5-5 of Fig. 2.  \\n Fig. 6 is a sectional view taken on line 6-6 of Fig. 1.  \\n  Referring to the drawing in detail, the reference character 5 indicates the garment which may be in the form of a shirtwaist, blouse or the like, with which the suspenders are used.  \\n  The suspenders embody a pair of lengths of cloth material, preferably of the type of which the shirtwaist or blouse is constructed. However, it is to be understood that if desirable, the suspenders may be constructed of suitable elastic material.  \\n  The straps of cloth material constituting the suspenders are indicated by the reference character 6, and as shown each strap of cloth material is folded intermediate its ends, and secured to the garment as at 7, and at points at the sides of the neck band, as clearly shown by the drawing. These straps of cloth material of which the suspenders are constructed embody front suspender sections 8 and back suspender sections 9, the back suspender sections crossing each other at the back of the garment, as shown by Figs. 1 and 2 of the drawing, while the front suspender sections 8 are spread laterally and connect with the inner surface of the front portions of the garment at points 10.  \\n &#34;ice  \\n  The back suspender sections 9 connect with the back of the garment, at 11, the connections between the sections of the suspenders and the garment, being made by the stitches employed in securing the eyes 10 to the outer surface of the garment, the stitches passing through the garment to connect with the suspenders supported within the garment.  \\n  It will be noted that the points of connection between the suspenders and shirtwaist or blouse, indicated at 10 and 11, are spaced from the ends of the sections of the suspenders, so that the eyes 10 may be readily removed and attached nearer to the free ends of the suspenders, when it becomes necessary to make this adjustment to compensate for the growth of the child wearing the garment.  \\n  It might be further stated that the suspender sections when they have been folded intermediate their ends, are positioned so that the lines of stitching or threads may be passed through the suspenders and garment to secure the suspenders at the shoulders of the garment or adjacent to the neck band.  \\n  It will of course be understood that the suspenders are secured to the shirtwaist or blouse in such a way that there will be a certain amount of fullness of the shirtwaist or blouse at the points of connection between the suspenders and garment to throw the entire strain necessary in supporting trousers by the suspenders, on the suspenders.  \\n  In using the invention, it is to be understood that the trousers, not shown, with which the shirtwaist or blouse is used, will be provided with hooks disposed at the inner surface of the waistline of the trousers to cooperate with the eyes which are secured to the garment and suspenders, to support the trousers.  \\n  While I have shown and described the suspenders as used with shirtwaists or blouses, it is to be understood that it is within the scope of the invention to use the suspenders by securing them to the inner sides of any type of garment.  \\n Having thus described the invention, what is claimed A combined shirtwaist and suspenders, comprising suspender sections, each suspender section comprising a length of cloth material folded upon itself intermediate its ends providing front and back strap sections, said sections being secured to the shirtwaist at points on opposite sides of the neck of the shirtwaist, the back strap sections crossing each other at the back of the shirtwaist, fastening members adapted to be positioned over buttons of trousers with which the suspenders are used secured to the outer surface of the shirtwaist and fastened by stitching extending through the shirtwaist and front and back strap sections of the suspenders, the portions of the strap sections between the fastening members being free of the shirtwaist and the portions of the shirt between the fastening members and points of connection of the suspenders with the neck of the shirt being greater than the length of the suspenders between the neck of the shirt and fastening members, providing fullness in the shirt adjacent to said fastening members.  \\n References Cited in the file of this patent UNITED STATES PATENTS 783,421 Carr Feb. 28, 1905 1,130,216 Thayer Mar. 2, 1915 1,466,020 Kozloif Aug. 28, 1923 1,604,067 Norris Oct. 19, 1926 2,315,698 Gluckmann Apr. 6, 1943', 'id': 'US-2698435-A', 'ti': 'Combined shirtwaist or blouse and suspenders'}>]"
      ]
     },
     "execution_count": 10,
     "metadata": {},
     "output_type": "execute_result"
    }
   ],
   "source": [
    "query = \"id:US-2698435-A\"\n",
    "print(whoosh_utils_penguin.count_query_tokens(query=query))\n",
    "results = whoosh_utils_penguin.execute_query(query, qp, searcher)[:5]\n",
    "results"
   ]
  },
  {
   "cell_type": "code",
   "execution_count": null,
   "metadata": {},
   "outputs": [],
   "source": []
  },
  {
   "cell_type": "code",
   "execution_count": null,
   "metadata": {},
   "outputs": [],
   "source": []
  },
  {
   "cell_type": "code",
   "execution_count": 11,
   "metadata": {},
   "outputs": [
    {
     "data": {
      "text/html": [
       "<div><style>\n",
       ".dataframe > thead > tr > th,\n",
       ".dataframe > tbody > tr > td {\n",
       "  text-align: right;\n",
       "  white-space: pre-wrap;\n",
       "}\n",
       "</style>\n",
       "<small>shape: (2, 5)</small><table border=\"1\" class=\"dataframe\"><thead><tr><th>publication_number</th><th>publication_date</th><th>filing_date</th><th>family_id</th><th>cpc_codes</th></tr><tr><td>str</td><td>datetime[μs]</td><td>datetime[μs]</td><td>f64</td><td>list[str]</td></tr></thead><tbody><tr><td>&quot;US-1-A&quot;</td><td>1836-07-13 00:00:00</td><td>null</td><td>2.060279e6</td><td>[&quot;B61C11/04&quot;]</td></tr><tr><td>&quot;US-1-P&quot;</td><td>1931-08-18 00:00:00</td><td>1930-08-06 00:00:00</td><td>4.9893162e7</td><td>[&quot;A01H5/02&quot;, &quot;A01H6/749&quot;]</td></tr></tbody></table></div>"
      ],
      "text/plain": [
       "shape: (2, 5)\n",
       "┌────────────────────┬─────────────────────┬──────────────┬─────────────┬───────────────┐\n",
       "│ publication_number ┆ publication_date    ┆ filing_date  ┆ family_id   ┆ cpc_codes     │\n",
       "│ ---                ┆ ---                 ┆ ---          ┆ ---         ┆ ---           │\n",
       "│ str                ┆ datetime[μs]        ┆ datetime[μs] ┆ f64         ┆ list[str]     │\n",
       "╞════════════════════╪═════════════════════╪══════════════╪═════════════╪═══════════════╡\n",
       "│ US-1-A             ┆ 1836-07-13 00:00:00 ┆ null         ┆ 2.060279e6  ┆ [\"B61C11/04\"] │\n",
       "│ US-1-P             ┆ 1931-08-18 00:00:00 ┆ 1930-08-06   ┆ 4.9893162e7 ┆ [\"A01H5/02\",  │\n",
       "│                    ┆                     ┆ 00:00:00     ┆             ┆ \"A01H6/749\"]  │\n",
       "└────────────────────┴─────────────────────┴──────────────┴─────────────┴───────────────┘"
      ]
     },
     "execution_count": 11,
     "metadata": {},
     "output_type": "execute_result"
    }
   ],
   "source": [
    "metadata = pl.read_parquet(\n",
    "    \"/kaggle/input/uspto-boolean-search-optimization/patent_metadata.parquet\"\n",
    ")\n",
    "metadata.head(2)"
   ]
  },
  {
   "cell_type": "code",
   "execution_count": 12,
   "metadata": {},
   "outputs": [
    {
     "data": {
      "text/plain": [
       "13307751"
      ]
     },
     "execution_count": 12,
     "metadata": {},
     "output_type": "execute_result"
    }
   ],
   "source": [
    "len(metadata)"
   ]
  },
  {
   "cell_type": "code",
   "execution_count": 13,
   "metadata": {},
   "outputs": [
    {
     "data": {
      "text/html": [
       "<div><style>\n",
       ".dataframe > thead > tr > th,\n",
       ".dataframe > tbody > tr > td {\n",
       "  text-align: right;\n",
       "  white-space: pre-wrap;\n",
       "}\n",
       "</style>\n",
       "<small>shape: (2, 5)</small><table border=\"1\" class=\"dataframe\"><thead><tr><th>publication_number</th><th>title</th><th>abstract</th><th>claims</th><th>description</th></tr><tr><td>str</td><td>str</td><td>str</td><td>str</td><td>str</td></tr></thead><tbody><tr><td>&quot;US-2010162461-…</td><td>&quot;Women&amp;#39;s Cl…</td><td>&quot;The inventive …</td><td>&quot;1 . A close-fi…</td><td>&quot;INCORPORATION …</td></tr><tr><td>&quot;US-2010162462-…</td><td>&quot;Fishing Trouse…</td><td>&quot;A pair of fish…</td><td>&quot;1 . A pair of …</td><td>&quot;BACKGROUND OF …</td></tr></tbody></table></div>"
      ],
      "text/plain": [
       "shape: (2, 5)\n",
       "┌────────────────────┬────────────────────┬────────────────────┬───────────────┬───────────────────┐\n",
       "│ publication_number ┆ title              ┆ abstract           ┆ claims        ┆ description       │\n",
       "│ ---                ┆ ---                ┆ ---                ┆ ---           ┆ ---               │\n",
       "│ str                ┆ str                ┆ str                ┆ str           ┆ str               │\n",
       "╞════════════════════╪════════════════════╪════════════════════╪═══════════════╪═══════════════════╡\n",
       "│ US-2010162461-A1   ┆ Women&#39;s        ┆ The inventive      ┆ 1 . A         ┆ INCORPORATION BY  │\n",
       "│                    ┆ Close-Fitting      ┆ women&#39;s        ┆ close-fitting ┆ REFERENCE         │\n",
       "│                    ┆ Garmen…            ┆ close-…            ┆ garment for … ┆     …             │\n",
       "│ US-2010162462-A1   ┆ Fishing Trousers   ┆ A pair of fishing  ┆ 1 . A pair of ┆ BACKGROUND OF THE │\n",
       "│                    ┆                    ┆ trousers compr…    ┆ fishing       ┆ INVENTION         │\n",
       "│                    ┆                    ┆                    ┆ trousers, …   ┆    …              │\n",
       "└────────────────────┴────────────────────┴────────────────────┴───────────────┴───────────────────┘"
      ]
     },
     "execution_count": 13,
     "metadata": {},
     "output_type": "execute_result"
    }
   ],
   "source": [
    "patent_df = pl.read_parquet(\n",
    "    \"/kaggle/input/uspto-boolean-search-optimization/patent_data/2010_7.parquet\"\n",
    ")\n",
    "patent_df.head(2)"
   ]
  },
  {
   "cell_type": "code",
   "execution_count": null,
   "metadata": {},
   "outputs": [],
   "source": []
  },
  {
   "cell_type": "code",
   "execution_count": null,
   "metadata": {},
   "outputs": [],
   "source": []
  },
  {
   "cell_type": "code",
   "execution_count": null,
   "metadata": {},
   "outputs": [],
   "source": []
  },
  {
   "cell_type": "code",
   "execution_count": null,
   "metadata": {},
   "outputs": [],
   "source": []
  },
  {
   "cell_type": "code",
   "execution_count": null,
   "metadata": {},
   "outputs": [],
   "source": []
  },
  {
   "cell_type": "code",
   "execution_count": null,
   "metadata": {},
   "outputs": [],
   "source": []
  },
  {
   "cell_type": "code",
   "execution_count": null,
   "metadata": {},
   "outputs": [],
   "source": []
  },
  {
   "cell_type": "code",
   "execution_count": null,
   "metadata": {},
   "outputs": [],
   "source": []
  }
 ],
 "metadata": {
  "kernelspec": {
   "display_name": "Python 3",
   "language": "python",
   "name": "python3"
  },
  "language_info": {
   "codemirror_mode": {
    "name": "ipython",
    "version": 3
   },
   "file_extension": ".py",
   "mimetype": "text/x-python",
   "name": "python",
   "nbconvert_exporter": "python",
   "pygments_lexer": "ipython3",
   "version": "3.10.10"
  }
 },
 "nbformat": 4,
 "nbformat_minor": 2
}
