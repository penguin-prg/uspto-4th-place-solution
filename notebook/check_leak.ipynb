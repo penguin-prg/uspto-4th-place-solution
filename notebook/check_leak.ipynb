{
 "cells": [
  {
   "cell_type": "code",
   "execution_count": 2,
   "metadata": {},
   "outputs": [],
   "source": [
    "# import pandas as pd\n",
    "import polars as pl"
   ]
  },
  {
   "cell_type": "code",
   "execution_count": 3,
   "metadata": {},
   "outputs": [
    {
     "data": {
      "text/html": [
       "<div><style>\n",
       ".dataframe > thead > tr > th,\n",
       ".dataframe > tbody > tr > td {\n",
       "  text-align: right;\n",
       "  white-space: pre-wrap;\n",
       "}\n",
       "</style>\n",
       "<small>shape: (1, 51)</small><table border=\"1\" class=\"dataframe\"><thead><tr><th>publication_number</th><th>neighbor_0</th><th>neighbor_1</th><th>neighbor_2</th><th>neighbor_3</th><th>neighbor_4</th><th>neighbor_5</th><th>neighbor_6</th><th>neighbor_7</th><th>neighbor_8</th><th>neighbor_9</th><th>neighbor_10</th><th>neighbor_11</th><th>neighbor_12</th><th>neighbor_13</th><th>neighbor_14</th><th>neighbor_15</th><th>neighbor_16</th><th>neighbor_17</th><th>neighbor_18</th><th>neighbor_19</th><th>neighbor_20</th><th>neighbor_21</th><th>neighbor_22</th><th>neighbor_23</th><th>neighbor_24</th><th>neighbor_25</th><th>neighbor_26</th><th>neighbor_27</th><th>neighbor_28</th><th>neighbor_29</th><th>neighbor_30</th><th>neighbor_31</th><th>neighbor_32</th><th>neighbor_33</th><th>neighbor_34</th><th>neighbor_35</th><th>neighbor_36</th><th>neighbor_37</th><th>neighbor_38</th><th>neighbor_39</th><th>neighbor_40</th><th>neighbor_41</th><th>neighbor_42</th><th>neighbor_43</th><th>neighbor_44</th><th>neighbor_45</th><th>neighbor_46</th><th>neighbor_47</th><th>neighbor_48</th><th>neighbor_49</th></tr><tr><td>str</td><td>str</td><td>str</td><td>str</td><td>str</td><td>str</td><td>str</td><td>str</td><td>str</td><td>str</td><td>str</td><td>str</td><td>str</td><td>str</td><td>str</td><td>str</td><td>str</td><td>str</td><td>str</td><td>str</td><td>str</td><td>str</td><td>str</td><td>str</td><td>str</td><td>str</td><td>str</td><td>str</td><td>str</td><td>str</td><td>str</td><td>str</td><td>str</td><td>str</td><td>str</td><td>str</td><td>str</td><td>str</td><td>str</td><td>str</td><td>str</td><td>str</td><td>str</td><td>str</td><td>str</td><td>str</td><td>str</td><td>str</td><td>str</td><td>str</td><td>str</td></tr></thead><tbody><tr><td>&quot;US-1-A&quot;</td><td>&quot;US-189152-A&quot;</td><td>&quot;US-1189501-A&quot;</td><td>&quot;US-409430-A&quot;</td><td>&quot;US-421894-A&quot;</td><td>&quot;US-9052-A&quot;</td><td>&quot;US-435641-A&quot;</td><td>&quot;US-247802-A&quot;</td><td>&quot;US-566579-A&quot;</td><td>&quot;US-148439-A&quot;</td><td>&quot;US-488484-A&quot;</td><td>&quot;US-1003894-A&quot;</td><td>&quot;US-951842-A&quot;</td><td>&quot;US-965846-A&quot;</td><td>&quot;US-733217-A&quot;</td><td>&quot;US-1681171-A&quot;</td><td>&quot;US-339-A&quot;</td><td>&quot;US-1206147-A&quot;</td><td>&quot;US-1213323-A&quot;</td><td>&quot;US-9716-A&quot;</td><td>&quot;US-882618-A&quot;</td><td>&quot;US-1161812-A&quot;</td><td>&quot;US-6321-A&quot;</td><td>&quot;US-3267876-A&quot;</td><td>&quot;US-1136947-A&quot;</td><td>&quot;US-1097810-A&quot;</td><td>&quot;US-939423-A&quot;</td><td>&quot;US-986261-A&quot;</td><td>&quot;US-975048-A&quot;</td><td>&quot;US-95968-A&quot;</td><td>&quot;US-5532-A&quot;</td><td>&quot;US-393896-A&quot;</td><td>&quot;US-156138-A&quot;</td><td>&quot;US-144271-A&quot;</td><td>&quot;US-357649-A&quot;</td><td>&quot;US-1182286-A&quot;</td><td>&quot;US-1342938-A&quot;</td><td>&quot;US-1329037-A&quot;</td><td>&quot;US-42039-A&quot;</td><td>&quot;US-3237572-A&quot;</td><td>&quot;US-462944-A&quot;</td><td>&quot;US-1108807-A&quot;</td><td>&quot;US-1393935-A&quot;</td><td>&quot;US-45450-A&quot;</td><td>&quot;US-381847-A&quot;</td><td>&quot;US-1354714-A&quot;</td><td>&quot;US-661045-A&quot;</td><td>&quot;US-737513-A&quot;</td><td>&quot;US-447255-A&quot;</td><td>&quot;US-1510390-A&quot;</td><td>&quot;US-1075814-A&quot;</td></tr></tbody></table></div>"
      ],
      "text/plain": [
       "shape: (1, 51)\n",
       "┌───────────┬───────────┬───────────┬───────────┬───┬───────────┬───────────┬───────────┬──────────┐\n",
       "│ publicati ┆ neighbor_ ┆ neighbor_ ┆ neighbor_ ┆ … ┆ neighbor_ ┆ neighbor_ ┆ neighbor_ ┆ neighbor │\n",
       "│ on_number ┆ 0         ┆ 1         ┆ 2         ┆   ┆ 46        ┆ 47        ┆ 48        ┆ _49      │\n",
       "│ ---       ┆ ---       ┆ ---       ┆ ---       ┆   ┆ ---       ┆ ---       ┆ ---       ┆ ---      │\n",
       "│ str       ┆ str       ┆ str       ┆ str       ┆   ┆ str       ┆ str       ┆ str       ┆ str      │\n",
       "╞═══════════╪═══════════╪═══════════╪═══════════╪═══╪═══════════╪═══════════╪═══════════╪══════════╡\n",
       "│ US-1-A    ┆ US-189152 ┆ US-118950 ┆ US-409430 ┆ … ┆ US-737513 ┆ US-447255 ┆ US-151039 ┆ US-10758 │\n",
       "│           ┆ -A        ┆ 1-A       ┆ -A        ┆   ┆ -A        ┆ -A        ┆ 0-A       ┆ 14-A     │\n",
       "└───────────┴───────────┴───────────┴───────────┴───┴───────────┴───────────┴───────────┴──────────┘"
      ]
     },
     "execution_count": 3,
     "metadata": {},
     "output_type": "execute_result"
    }
   ],
   "source": [
    "train = pl.read_csv(\"/kaggle/input/uspto-boolean-search-optimization/nearest_neighbors.csv\")\n",
    "train.head(1)"
   ]
  },
  {
   "cell_type": "code",
   "execution_count": 4,
   "metadata": {},
   "outputs": [
    {
     "data": {
      "text/html": [
       "<div><style>\n",
       ".dataframe > thead > tr > th,\n",
       ".dataframe > tbody > tr > td {\n",
       "  text-align: right;\n",
       "  white-space: pre-wrap;\n",
       "}\n",
       "</style>\n",
       "<small>shape: (1, 51)</small><table border=\"1\" class=\"dataframe\"><thead><tr><th>publication_number</th><th>target_0</th><th>target_1</th><th>target_2</th><th>target_3</th><th>target_4</th><th>target_5</th><th>target_6</th><th>target_7</th><th>target_8</th><th>target_9</th><th>target_10</th><th>target_11</th><th>target_12</th><th>target_13</th><th>target_14</th><th>target_15</th><th>target_16</th><th>target_17</th><th>target_18</th><th>target_19</th><th>target_20</th><th>target_21</th><th>target_22</th><th>target_23</th><th>target_24</th><th>target_25</th><th>target_26</th><th>target_27</th><th>target_28</th><th>target_29</th><th>target_30</th><th>target_31</th><th>target_32</th><th>target_33</th><th>target_34</th><th>target_35</th><th>target_36</th><th>target_37</th><th>target_38</th><th>target_39</th><th>target_40</th><th>target_41</th><th>target_42</th><th>target_43</th><th>target_44</th><th>target_45</th><th>target_46</th><th>target_47</th><th>target_48</th><th>target_49</th></tr><tr><td>str</td><td>str</td><td>str</td><td>str</td><td>str</td><td>str</td><td>str</td><td>str</td><td>str</td><td>str</td><td>str</td><td>str</td><td>str</td><td>str</td><td>str</td><td>str</td><td>str</td><td>str</td><td>str</td><td>str</td><td>str</td><td>str</td><td>str</td><td>str</td><td>str</td><td>str</td><td>str</td><td>str</td><td>str</td><td>str</td><td>str</td><td>str</td><td>str</td><td>str</td><td>str</td><td>str</td><td>str</td><td>str</td><td>str</td><td>str</td><td>str</td><td>str</td><td>str</td><td>str</td><td>str</td><td>str</td><td>str</td><td>str</td><td>str</td><td>str</td><td>str</td></tr></thead><tbody><tr><td>&quot;US-2017082634-…</td><td>&quot;US-2020225242-…</td><td>&quot;US-2010137151-…</td><td>&quot;US-10607721-B2…</td><td>&quot;US-6747273-B2&quot;</td><td>&quot;US-6940065-B2&quot;</td><td>&quot;US-7684934-B2&quot;</td><td>&quot;US-2019018928-…</td><td>&quot;US-9040903-B2&quot;</td><td>&quot;US-7847245-B2&quot;</td><td>&quot;US-8501421-B2&quot;</td><td>&quot;US-9110076-B2&quot;</td><td>&quot;US-10617717-B2…</td><td>&quot;US-8741556-B2&quot;</td><td>&quot;US-9312110-B2&quot;</td><td>&quot;US-7865312-B2&quot;</td><td>&quot;US-11428696-B2…</td><td>&quot;US-11646185-B2…</td><td>&quot;US-7603240-B2&quot;</td><td>&quot;US-9879304-B2&quot;</td><td>&quot;US-9354236-B2&quot;</td><td>&quot;US-2022365028-…</td><td>&quot;US-2014051105-…</td><td>&quot;US-2021239708-…</td><td>&quot;US-10825672-B2…</td><td>&quot;US-2022397578-…</td><td>&quot;US-9746477-B2&quot;</td><td>&quot;US-2022221467-…</td><td>&quot;US-2016139140-…</td><td>&quot;US-2019353660-…</td><td>&quot;US-9110074-B2&quot;</td><td>&quot;US-8604692-B2&quot;</td><td>&quot;US-2017168055-…</td><td>&quot;US-7499807-B1&quot;</td><td>&quot;US-2003008327-…</td><td>&quot;US-2003166007-…</td><td>&quot;US-10598642-B2…</td><td>&quot;US-10401337-B2…</td><td>&quot;US-2005221500-…</td><td>&quot;US-2017023547-…</td><td>&quot;US-2003157575-…</td><td>&quot;US-10197576-B2…</td><td>&quot;US-11011359-B2…</td><td>&quot;US-7020559-B1&quot;</td><td>&quot;US-8642349-B1&quot;</td><td>&quot;US-2009253156-…</td><td>&quot;US-7783429-B2&quot;</td><td>&quot;US-2003060983-…</td><td>&quot;US-10914740-B2…</td><td>&quot;US-7858389-B2&quot;</td><td>&quot;US-9747412-B2&quot;</td></tr></tbody></table></div>"
      ],
      "text/plain": [
       "shape: (1, 51)\n",
       "┌───────────┬───────────┬───────────┬───────────┬───┬───────────┬───────────┬───────────┬──────────┐\n",
       "│ publicati ┆ target_0  ┆ target_1  ┆ target_2  ┆ … ┆ target_46 ┆ target_47 ┆ target_48 ┆ target_4 │\n",
       "│ on_number ┆ ---       ┆ ---       ┆ ---       ┆   ┆ ---       ┆ ---       ┆ ---       ┆ 9        │\n",
       "│ ---       ┆ str       ┆ str       ┆ str       ┆   ┆ str       ┆ str       ┆ str       ┆ ---      │\n",
       "│ str       ┆           ┆           ┆           ┆   ┆           ┆           ┆           ┆ str      │\n",
       "╞═══════════╪═══════════╪═══════════╪═══════════╪═══╪═══════════╪═══════════╪═══════════╪══════════╡\n",
       "│ US-201708 ┆ US-202022 ┆ US-201013 ┆ US-106077 ┆ … ┆ US-200306 ┆ US-109147 ┆ US-785838 ┆ US-97474 │\n",
       "│ 2634-A1   ┆ 5242-A1   ┆ 7151-A1   ┆ 21-B2     ┆   ┆ 0983-A1   ┆ 40-B2     ┆ 9-B2      ┆ 12-B2    │\n",
       "└───────────┴───────────┴───────────┴───────────┴───┴───────────┴───────────┴───────────┴──────────┘"
      ]
     },
     "execution_count": 4,
     "metadata": {},
     "output_type": "execute_result"
    }
   ],
   "source": [
    "test = pl.read_csv(\"/kaggle/input/uspto-boolean-search-optimization/test.csv\")\n",
    "test.head(1)"
   ]
  },
  {
   "cell_type": "code",
   "execution_count": 7,
   "metadata": {},
   "outputs": [
    {
     "name": "stderr",
     "output_type": "stream",
     "text": [
      "100%|██████████| 1000/1000 [00:56<00:00, 17.61it/s]\n"
     ]
    }
   ],
   "source": [
    "from tqdm import tqdm\n",
    "\n",
    "for seed in tqdm(range(1000)):\n",
    "    _test = train.sample(2500, seed=seed).head(10)\n",
    "    if (_test[\"publication_number\"] == test[\"publication_number\"]).all():\n",
    "        print(seed)\n",
    "        break"
   ]
  },
  {
   "cell_type": "code",
   "execution_count": 8,
   "metadata": {},
   "outputs": [
    {
     "name": "stderr",
     "output_type": "stream",
     "text": [
      "100%|██████████| 1000/1000 [00:59<00:00, 16.71it/s]\n"
     ]
    }
   ],
   "source": [
    "for seed in tqdm(range(1000)):\n",
    "    _test = train.sample(2500, seed=seed).sample(10, seed=seed)\n",
    "    if (_test[\"publication_number\"] == test[\"publication_number\"]).all():\n",
    "        print(seed)\n",
    "        break"
   ]
  },
  {
   "cell_type": "code",
   "execution_count": 9,
   "metadata": {},
   "outputs": [
    {
     "ename": "",
     "evalue": "",
     "output_type": "error",
     "traceback": [
      "\u001b[1;31mThe Kernel crashed while executing code in the current cell or a previous cell. \n",
      "\u001b[1;31mPlease review the code in the cell(s) to identify a possible cause of the failure. \n",
      "\u001b[1;31mClick <a href='https://aka.ms/vscodeJupyterKernelCrash'>here</a> for more info. \n",
      "\u001b[1;31mView Jupyter <a href='command:jupyter.viewOutput'>log</a> for further details."
     ]
    }
   ],
   "source": [
    "import pandas as pd\n",
    "\n",
    "train = pd.read_csv(\"/kaggle/input/uspto-boolean-search-optimization/nearest_neighbors.csv\")\n",
    "test = pd.read_csv(\"/kaggle/input/uspto-boolean-search-optimization/test.csv\")"
   ]
  },
  {
   "cell_type": "code",
   "execution_count": null,
   "metadata": {},
   "outputs": [],
   "source": [
    "for seed in tqdm(range(1000)):\n",
    "    _test = train.sample(2500, seed=seed).head(10)\n",
    "    if (_test[\"publication_number\"] == test[\"publication_number\"]).all():\n",
    "        print(seed)\n",
    "        break"
   ]
  },
  {
   "cell_type": "code",
   "execution_count": null,
   "metadata": {},
   "outputs": [],
   "source": []
  },
  {
   "cell_type": "code",
   "execution_count": null,
   "metadata": {},
   "outputs": [],
   "source": []
  },
  {
   "cell_type": "code",
   "execution_count": null,
   "metadata": {},
   "outputs": [],
   "source": []
  }
 ],
 "metadata": {
  "kernelspec": {
   "display_name": "base",
   "language": "python",
   "name": "python3"
  },
  "language_info": {
   "codemirror_mode": {
    "name": "ipython",
    "version": 3
   },
   "file_extension": ".py",
   "mimetype": "text/x-python",
   "name": "python",
   "nbconvert_exporter": "python",
   "pygments_lexer": "ipython3",
   "version": "3.10.10"
  }
 },
 "nbformat": 4,
 "nbformat_minor": 2
}
