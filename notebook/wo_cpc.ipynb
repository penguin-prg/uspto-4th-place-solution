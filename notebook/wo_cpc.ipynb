{
 "cells": [
  {
   "cell_type": "code",
   "execution_count": 19,
   "metadata": {},
   "outputs": [],
   "source": [
    "import polars as pl\n",
    "import numpy as np\n",
    "from tqdm import tqdm\n",
    "import matplotlib.pyplot as plt"
   ]
  },
  {
   "cell_type": "code",
   "execution_count": 2,
   "metadata": {},
   "outputs": [
    {
     "data": {
      "text/html": [
       "<div><style>\n",
       ".dataframe > thead > tr > th,\n",
       ".dataframe > tbody > tr > td {\n",
       "  text-align: right;\n",
       "  white-space: pre-wrap;\n",
       "}\n",
       "</style>\n",
       "<small>shape: (1, 5)</small><table border=\"1\" class=\"dataframe\"><thead><tr><th>publication_number</th><th>publication_date</th><th>filing_date</th><th>family_id</th><th>cpc_codes</th></tr><tr><td>str</td><td>datetime[μs]</td><td>datetime[μs]</td><td>f64</td><td>list[str]</td></tr></thead><tbody><tr><td>&quot;US-1-A&quot;</td><td>1836-07-13 00:00:00</td><td>null</td><td>2.060279e6</td><td>[&quot;B61C11/04&quot;]</td></tr></tbody></table></div>"
      ],
      "text/plain": [
       "shape: (1, 5)\n",
       "┌────────────────────┬─────────────────────┬──────────────┬────────────┬───────────────┐\n",
       "│ publication_number ┆ publication_date    ┆ filing_date  ┆ family_id  ┆ cpc_codes     │\n",
       "│ ---                ┆ ---                 ┆ ---          ┆ ---        ┆ ---           │\n",
       "│ str                ┆ datetime[μs]        ┆ datetime[μs] ┆ f64        ┆ list[str]     │\n",
       "╞════════════════════╪═════════════════════╪══════════════╪════════════╪═══════════════╡\n",
       "│ US-1-A             ┆ 1836-07-13 00:00:00 ┆ null         ┆ 2.060279e6 ┆ [\"B61C11/04\"] │\n",
       "└────────────────────┴─────────────────────┴──────────────┴────────────┴───────────────┘"
      ]
     },
     "execution_count": 2,
     "metadata": {},
     "output_type": "execute_result"
    }
   ],
   "source": [
    "meta = pl.read_parquet(\"/kaggle/input/uspto-boolean-search-optimization/patent_metadata.parquet\")\n",
    "meta.head(1)"
   ]
  },
  {
   "cell_type": "code",
   "execution_count": 10,
   "metadata": {},
   "outputs": [],
   "source": [
    "counts = []\n",
    "for cpc in meta[\"cpc_codes\"]:\n",
    "    counts.append(len(cpc))"
   ]
  },
  {
   "cell_type": "code",
   "execution_count": 12,
   "metadata": {},
   "outputs": [
    {
     "data": {
      "text/plain": [
       "0.0517561532373126"
      ]
     },
     "execution_count": 12,
     "metadata": {},
     "output_type": "execute_result"
    }
   ],
   "source": [
    "counts = np.array(counts)\n",
    "(counts == 0).mean()"
   ]
  },
  {
   "cell_type": "code",
   "execution_count": 13,
   "metadata": {},
   "outputs": [
    {
     "name": "stderr",
     "output_type": "stream",
     "text": [
      "13307751it [00:35, 378223.12it/s]\n"
     ]
    }
   ],
   "source": [
    "patent2cpcs = {}\n",
    "for patent, cpcs in tqdm(zip(meta[\"publication_number\"], meta[\"cpc_codes\"])):\n",
    "    patent2cpcs[patent] = cpcs"
   ]
  },
  {
   "cell_type": "code",
   "execution_count": 14,
   "metadata": {},
   "outputs": [
    {
     "name": "stdout",
     "output_type": "stream",
     "text": [
      "9457935\n",
      "9457949\n"
     ]
    }
   ],
   "source": [
    "nn_df = pl.read_csv(\"/kaggle/input/uspto-boolean-search-optimization/nearest_neighbors.csv\")\n",
    "nn_df.head(2)\n",
    "metadata = pl.read_parquet(\n",
    "    \"/kaggle/input/uspto-boolean-search-optimization/patent_metadata.parquet\"\n",
    ")\n",
    "metadata = metadata.with_columns(pl.col(\"publication_date\").dt.year().alias(\"year\"))\n",
    "val_patents = set(metadata.filter(pl.col(\"year\") >= 1975)[\"publication_number\"].to_list())\n",
    "print(len(val_patents))\n",
    "nn_df = nn_df.filter(pl.col(\"publication_number\").is_in(val_patents))\n",
    "print(len(nn_df))"
   ]
  },
  {
   "cell_type": "code",
   "execution_count": 25,
   "metadata": {},
   "outputs": [
    {
     "name": "stderr",
     "output_type": "stream",
     "text": [
      "1900000it [03:11, 9919.96it/s] \n"
     ]
    }
   ],
   "source": [
    "counts = []  # len(cpc) > 0 の個数(0<=count<=50)\n",
    "for targets in tqdm(nn_df.sample(1_900_000).iter_rows()):\n",
    "    count = 0\n",
    "    targets = targets[1:]\n",
    "    for target in targets:\n",
    "        if target in patent2cpcs:\n",
    "            count += len(patent2cpcs[target]) > 0\n",
    "    counts.append(count)"
   ]
  },
  {
   "cell_type": "code",
   "execution_count": 26,
   "metadata": {},
   "outputs": [
    {
     "data": {
      "image/png": "[encoded data removed]",
      "text/plain": [
       "<Figure size 640x480 with 1 Axes>"
      ]
     },
     "metadata": {},
     "output_type": "display_data"
    }
   ],
   "source": [
    "# 0<=count<=50 の分布\n",
    "plt.hist(counts, bins=50, density=True)\n",
    "plt.grid()\n",
    "plt.show()"
   ]
  },
  {
   "cell_type": "code",
   "execution_count": null,
   "metadata": {},
   "outputs": [],
   "source": []
  }
 ],
 "metadata": {
  "kernelspec": {
   "display_name": "base",
   "language": "python",
   "name": "python3"
  },
  "language_info": {
   "codemirror_mode": {
    "name": "ipython",
    "version": 3
   },
   "file_extension": ".py",
   "mimetype": "text/x-python",
   "name": "python",
   "nbconvert_exporter": "python",
   "pygments_lexer": "ipython3",
   "version": "3.10.10"
  }
 },
 "nbformat": 4,
 "nbformat_minor": 2
}
