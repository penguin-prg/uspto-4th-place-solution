{
 "cells": [
  {
   "cell_type": "code",
   "execution_count": 1,
   "metadata": {},
   "outputs": [],
   "source": [
    "import gc\n",
    "import warnings\n",
    "\n",
    "import numpy as np\n",
    "import polars as pl\n",
    "import yaml\n",
    "from tqdm import tqdm\n",
    "\n",
    "warnings.filterwarnings(\"ignore\")"
   ]
  },
  {
   "cell_type": "code",
   "execution_count": 2,
   "metadata": {},
   "outputs": [
    {
     "data": {
      "text/html": [
       "<div><style>\n",
       ".dataframe > thead > tr > th,\n",
       ".dataframe > tbody > tr > td {\n",
       "  text-align: right;\n",
       "  white-space: pre-wrap;\n",
       "}\n",
       "</style>\n",
       "<small>shape: (5, 5)</small><table border=\"1\" class=\"dataframe\"><thead><tr><th>publication_number</th><th>publication_date</th><th>filing_date</th><th>family_id</th><th>cpc_codes</th></tr><tr><td>str</td><td>datetime[μs]</td><td>datetime[μs]</td><td>f64</td><td>list[str]</td></tr></thead><tbody><tr><td>&quot;US-1-A&quot;</td><td>1836-07-13 00:00:00</td><td>null</td><td>2.060279e6</td><td>[&quot;B61C11/04&quot;]</td></tr><tr><td>&quot;US-1-P&quot;</td><td>1931-08-18 00:00:00</td><td>1930-08-06 00:00:00</td><td>4.9893162e7</td><td>[&quot;A01H5/02&quot;, &quot;A01H6/749&quot;]</td></tr><tr><td>&quot;US-10-A&quot;</td><td>1836-08-10 00:00:00</td><td>null</td><td>2.060288e6</td><td>[&quot;B27J1/00&quot;]</td></tr><tr><td>&quot;US-1000-A&quot;</td><td>1838-11-03 00:00:00</td><td>null</td><td>2.061286e6</td><td>[&quot;B60G11/04&quot;, &quot;Y10S507/905&quot;]</td></tr><tr><td>&quot;US-10000-A&quot;</td><td>1853-09-06 00:00:00</td><td>null</td><td>2.07032e6</td><td>[&quot;F04D29/283&quot;]</td></tr></tbody></table></div>"
      ],
      "text/plain": [
       "shape: (5, 5)\n",
       "┌────────────────────┬─────────────────────┬──────────────┬─────────────┬────────────────┐\n",
       "│ publication_number ┆ publication_date    ┆ filing_date  ┆ family_id   ┆ cpc_codes      │\n",
       "│ ---                ┆ ---                 ┆ ---          ┆ ---         ┆ ---            │\n",
       "│ str                ┆ datetime[μs]        ┆ datetime[μs] ┆ f64         ┆ list[str]      │\n",
       "╞════════════════════╪═════════════════════╪══════════════╪═════════════╪════════════════╡\n",
       "│ US-1-A             ┆ 1836-07-13 00:00:00 ┆ null         ┆ 2.060279e6  ┆ [\"B61C11/04\"]  │\n",
       "│ US-1-P             ┆ 1931-08-18 00:00:00 ┆ 1930-08-06   ┆ 4.9893162e7 ┆ [\"A01H5/02\",   │\n",
       "│                    ┆                     ┆ 00:00:00     ┆             ┆ \"A01H6/749\"]   │\n",
       "│ US-10-A            ┆ 1836-08-10 00:00:00 ┆ null         ┆ 2.060288e6  ┆ [\"B27J1/00\"]   │\n",
       "│ US-1000-A          ┆ 1838-11-03 00:00:00 ┆ null         ┆ 2.061286e6  ┆ [\"B60G11/04\",  │\n",
       "│                    ┆                     ┆              ┆             ┆ \"Y10S507/905\"] │\n",
       "│ US-10000-A         ┆ 1853-09-06 00:00:00 ┆ null         ┆ 2.07032e6   ┆ [\"F04D29/283\"] │\n",
       "└────────────────────┴─────────────────────┴──────────────┴─────────────┴────────────────┘"
      ]
     },
     "execution_count": 2,
     "metadata": {},
     "output_type": "execute_result"
    }
   ],
   "source": [
    "meta = pl.read_parquet(\"/kaggle/input/uspto-boolean-search-optimization/patent_metadata.parquet\")\n",
    "meta.head()"
   ]
  },
  {
   "cell_type": "code",
   "execution_count": 5,
   "metadata": {},
   "outputs": [
    {
     "data": {
      "text/html": [
       "<div><style>\n",
       ".dataframe > thead > tr > th,\n",
       ".dataframe > tbody > tr > td {\n",
       "  text-align: right;\n",
       "  white-space: pre-wrap;\n",
       "}\n",
       "</style>\n",
       "<small>shape: (1, 1)</small><table border=\"1\" class=\"dataframe\"><thead><tr><th>cpc_codes</th></tr><tr><td>f64</td></tr></thead><tbody><tr><td>4.944039</td></tr></tbody></table></div>"
      ],
      "text/plain": [
       "shape: (1, 1)\n",
       "┌───────────┐\n",
       "│ cpc_codes │\n",
       "│ ---       │\n",
       "│ f64       │\n",
       "╞═══════════╡\n",
       "│ 4.944039  │\n",
       "└───────────┘"
      ]
     },
     "execution_count": 5,
     "metadata": {},
     "output_type": "execute_result"
    }
   ],
   "source": [
    "meta.select(pl.col(\"cpc_codes\").list.lengths()).sum() / len(meta)"
   ]
  },
  {
   "cell_type": "code",
   "execution_count": null,
   "metadata": {},
   "outputs": [],
   "source": []
  },
  {
   "cell_type": "code",
   "execution_count": null,
   "metadata": {},
   "outputs": [],
   "source": []
  },
  {
   "cell_type": "code",
   "execution_count": null,
   "metadata": {},
   "outputs": [],
   "source": []
  },
  {
   "cell_type": "code",
   "execution_count": null,
   "metadata": {},
   "outputs": [],
   "source": []
  }
 ],
 "metadata": {
  "kernelspec": {
   "display_name": "base",
   "language": "python",
   "name": "python3"
  },
  "language_info": {
   "codemirror_mode": {
    "name": "ipython",
    "version": 3
   },
   "file_extension": ".py",
   "mimetype": "text/x-python",
   "name": "python",
   "nbconvert_exporter": "python",
   "pygments_lexer": "ipython3",
   "version": "3.10.10"
  }
 },
 "nbformat": 4,
 "nbformat_minor": 2
}
