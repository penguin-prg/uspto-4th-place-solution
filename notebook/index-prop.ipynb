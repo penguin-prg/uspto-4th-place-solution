{
 "cells": [
  {
   "cell_type": "code",
   "execution_count": 2,
   "metadata": {},
   "outputs": [],
   "source": [
    "import json\n",
    "\n",
    "import matplotlib.pyplot as plt\n",
    "import numpy as np\n",
    "import polars as pl\n",
    "from tqdm import tqdm"
   ]
  },
  {
   "cell_type": "code",
   "execution_count": 3,
   "metadata": {},
   "outputs": [
    {
     "data": {
      "text/html": [
       "<div><style>\n",
       ".dataframe > thead > tr > th,\n",
       ".dataframe > tbody > tr > td {\n",
       "  text-align: right;\n",
       "  white-space: pre-wrap;\n",
       "}\n",
       "</style>\n",
       "<small>shape: (1, 51)</small><table border=\"1\" class=\"dataframe\"><thead><tr><th>publication_number</th><th>neighbor_0</th><th>neighbor_1</th><th>neighbor_2</th><th>neighbor_3</th><th>neighbor_4</th><th>neighbor_5</th><th>neighbor_6</th><th>neighbor_7</th><th>neighbor_8</th><th>neighbor_9</th><th>neighbor_10</th><th>neighbor_11</th><th>neighbor_12</th><th>neighbor_13</th><th>neighbor_14</th><th>neighbor_15</th><th>neighbor_16</th><th>neighbor_17</th><th>neighbor_18</th><th>neighbor_19</th><th>neighbor_20</th><th>neighbor_21</th><th>neighbor_22</th><th>neighbor_23</th><th>neighbor_24</th><th>neighbor_25</th><th>neighbor_26</th><th>neighbor_27</th><th>neighbor_28</th><th>neighbor_29</th><th>neighbor_30</th><th>neighbor_31</th><th>neighbor_32</th><th>neighbor_33</th><th>neighbor_34</th><th>neighbor_35</th><th>neighbor_36</th><th>neighbor_37</th><th>neighbor_38</th><th>neighbor_39</th><th>neighbor_40</th><th>neighbor_41</th><th>neighbor_42</th><th>neighbor_43</th><th>neighbor_44</th><th>neighbor_45</th><th>neighbor_46</th><th>neighbor_47</th><th>neighbor_48</th><th>neighbor_49</th></tr><tr><td>str</td><td>str</td><td>str</td><td>str</td><td>str</td><td>str</td><td>str</td><td>str</td><td>str</td><td>str</td><td>str</td><td>str</td><td>str</td><td>str</td><td>str</td><td>str</td><td>str</td><td>str</td><td>str</td><td>str</td><td>str</td><td>str</td><td>str</td><td>str</td><td>str</td><td>str</td><td>str</td><td>str</td><td>str</td><td>str</td><td>str</td><td>str</td><td>str</td><td>str</td><td>str</td><td>str</td><td>str</td><td>str</td><td>str</td><td>str</td><td>str</td><td>str</td><td>str</td><td>str</td><td>str</td><td>str</td><td>str</td><td>str</td><td>str</td><td>str</td><td>str</td></tr></thead><tbody><tr><td>&quot;US-1-A&quot;</td><td>&quot;US-189152-A&quot;</td><td>&quot;US-1189501-A&quot;</td><td>&quot;US-409430-A&quot;</td><td>&quot;US-421894-A&quot;</td><td>&quot;US-9052-A&quot;</td><td>&quot;US-435641-A&quot;</td><td>&quot;US-247802-A&quot;</td><td>&quot;US-566579-A&quot;</td><td>&quot;US-148439-A&quot;</td><td>&quot;US-488484-A&quot;</td><td>&quot;US-1003894-A&quot;</td><td>&quot;US-951842-A&quot;</td><td>&quot;US-965846-A&quot;</td><td>&quot;US-733217-A&quot;</td><td>&quot;US-1681171-A&quot;</td><td>&quot;US-339-A&quot;</td><td>&quot;US-1206147-A&quot;</td><td>&quot;US-1213323-A&quot;</td><td>&quot;US-9716-A&quot;</td><td>&quot;US-882618-A&quot;</td><td>&quot;US-1161812-A&quot;</td><td>&quot;US-6321-A&quot;</td><td>&quot;US-3267876-A&quot;</td><td>&quot;US-1136947-A&quot;</td><td>&quot;US-1097810-A&quot;</td><td>&quot;US-939423-A&quot;</td><td>&quot;US-986261-A&quot;</td><td>&quot;US-975048-A&quot;</td><td>&quot;US-95968-A&quot;</td><td>&quot;US-5532-A&quot;</td><td>&quot;US-393896-A&quot;</td><td>&quot;US-156138-A&quot;</td><td>&quot;US-144271-A&quot;</td><td>&quot;US-357649-A&quot;</td><td>&quot;US-1182286-A&quot;</td><td>&quot;US-1342938-A&quot;</td><td>&quot;US-1329037-A&quot;</td><td>&quot;US-42039-A&quot;</td><td>&quot;US-3237572-A&quot;</td><td>&quot;US-462944-A&quot;</td><td>&quot;US-1108807-A&quot;</td><td>&quot;US-1393935-A&quot;</td><td>&quot;US-45450-A&quot;</td><td>&quot;US-381847-A&quot;</td><td>&quot;US-1354714-A&quot;</td><td>&quot;US-661045-A&quot;</td><td>&quot;US-737513-A&quot;</td><td>&quot;US-447255-A&quot;</td><td>&quot;US-1510390-A&quot;</td><td>&quot;US-1075814-A&quot;</td></tr></tbody></table></div>"
      ],
      "text/plain": [
       "shape: (1, 51)\n",
       "┌───────────┬───────────┬───────────┬───────────┬───┬───────────┬───────────┬───────────┬──────────┐\n",
       "│ publicati ┆ neighbor_ ┆ neighbor_ ┆ neighbor_ ┆ … ┆ neighbor_ ┆ neighbor_ ┆ neighbor_ ┆ neighbor │\n",
       "│ on_number ┆ 0         ┆ 1         ┆ 2         ┆   ┆ 46        ┆ 47        ┆ 48        ┆ _49      │\n",
       "│ ---       ┆ ---       ┆ ---       ┆ ---       ┆   ┆ ---       ┆ ---       ┆ ---       ┆ ---      │\n",
       "│ str       ┆ str       ┆ str       ┆ str       ┆   ┆ str       ┆ str       ┆ str       ┆ str      │\n",
       "╞═══════════╪═══════════╪═══════════╪═══════════╪═══╪═══════════╪═══════════╪═══════════╪══════════╡\n",
       "│ US-1-A    ┆ US-189152 ┆ US-118950 ┆ US-409430 ┆ … ┆ US-737513 ┆ US-447255 ┆ US-151039 ┆ US-10758 │\n",
       "│           ┆ -A        ┆ 1-A       ┆ -A        ┆   ┆ -A        ┆ -A        ┆ 0-A       ┆ 14-A     │\n",
       "└───────────┴───────────┴───────────┴───────────┴───┴───────────┴───────────┴───────────┴──────────┘"
      ]
     },
     "execution_count": 3,
     "metadata": {},
     "output_type": "execute_result"
    }
   ],
   "source": [
    "nn_df = pl.read_csv(\"/kaggle/input/uspto-boolean-search-optimization/nearest_neighbors.csv\")\n",
    "nn_df.head(1)"
   ]
  },
  {
   "cell_type": "code",
   "execution_count": 4,
   "metadata": {},
   "outputs": [
    {
     "data": {
      "text/plain": [
       "200000"
      ]
     },
     "execution_count": 4,
     "metadata": {},
     "output_type": "execute_result"
    }
   ],
   "source": [
    "with open(\"/kaggle/input/uspto-boolean-search-optimization/train_index_patent_ids.json\", \"r\") as f:\n",
    "    indexs = set(json.load(f))\n",
    "len(indexs)"
   ]
  },
  {
   "cell_type": "code",
   "execution_count": 24,
   "metadata": {},
   "outputs": [
    {
     "data": {
      "text/html": [
       "<div><style>\n",
       ".dataframe > thead > tr > th,\n",
       ".dataframe > tbody > tr > td {\n",
       "  text-align: right;\n",
       "  white-space: pre-wrap;\n",
       "}\n",
       "</style>\n",
       "<small>shape: (1, 6)</small><table border=\"1\" class=\"dataframe\"><thead><tr><th>publication_number</th><th>publication_date</th><th>filing_date</th><th>family_id</th><th>cpc_codes</th><th>year</th></tr><tr><td>str</td><td>datetime[μs]</td><td>datetime[μs]</td><td>f64</td><td>list[str]</td><td>i32</td></tr></thead><tbody><tr><td>&quot;US-1-A&quot;</td><td>1836-07-13 00:00:00</td><td>null</td><td>2.060279e6</td><td>[&quot;B61C11/04&quot;]</td><td>1836</td></tr></tbody></table></div>"
      ],
      "text/plain": [
       "shape: (1, 6)\n",
       "┌────────────────────┬─────────────────────┬──────────────┬────────────┬───────────────┬──────┐\n",
       "│ publication_number ┆ publication_date    ┆ filing_date  ┆ family_id  ┆ cpc_codes     ┆ year │\n",
       "│ ---                ┆ ---                 ┆ ---          ┆ ---        ┆ ---           ┆ ---  │\n",
       "│ str                ┆ datetime[μs]        ┆ datetime[μs] ┆ f64        ┆ list[str]     ┆ i32  │\n",
       "╞════════════════════╪═════════════════════╪══════════════╪════════════╪═══════════════╪══════╡\n",
       "│ US-1-A             ┆ 1836-07-13 00:00:00 ┆ null         ┆ 2.060279e6 ┆ [\"B61C11/04\"] ┆ 1836 │\n",
       "└────────────────────┴─────────────────────┴──────────────┴────────────┴───────────────┴──────┘"
      ]
     },
     "execution_count": 24,
     "metadata": {},
     "output_type": "execute_result"
    }
   ],
   "source": [
    "meta = pl.read_parquet(\"/kaggle/input/uspto-boolean-search-optimization/patent_metadata.parquet\")\n",
    "meta = meta.with_columns(pl.col(\"publication_date\").dt.year().alias(\"year\"))\n",
    "meta.head(1)"
   ]
  },
  {
   "cell_type": "markdown",
   "metadata": {},
   "source": [
    "---\n",
    "### 全てのneighborが含まれる`publication_number`"
   ]
  },
  {
   "cell_type": "code",
   "execution_count": 5,
   "metadata": {},
   "outputs": [
    {
     "name": "stderr",
     "output_type": "stream",
     "text": [
      "13307647it [01:29, 149262.18it/s]\n"
     ]
    }
   ],
   "source": [
    "all_included_patents = []\n",
    "n_includes = []\n",
    "for ids in tqdm(nn_df.iter_rows()):\n",
    "    center_patent_id = ids[0]\n",
    "    nn_patent_ids = set(ids[1:])\n",
    "    n_include = len(nn_patent_ids.intersection(indexs))\n",
    "    if n_include == 50:\n",
    "        all_included_patents.append(center_patent_id)\n",
    "    n_includes.append(n_include)"
   ]
  },
  {
   "cell_type": "code",
   "execution_count": 6,
   "metadata": {},
   "outputs": [
    {
     "data": {
      "text/plain": [
       "(0, 6.422)"
      ]
     },
     "execution_count": 6,
     "metadata": {},
     "output_type": "execute_result"
    }
   ],
   "source": [
    "len(all_included_patents), np.mean(sorted(n_includes, reverse=True)[:2500])"
   ]
  },
  {
   "cell_type": "markdown",
   "metadata": {},
   "source": [
    "---\n",
    "### train_indexとnn_dfの構成"
   ]
  },
  {
   "cell_type": "code",
   "execution_count": 14,
   "metadata": {},
   "outputs": [
    {
     "data": {
      "text/html": [
       "<div><style>\n",
       ".dataframe > thead > tr > th,\n",
       ".dataframe > tbody > tr > td {\n",
       "  text-align: right;\n",
       "  white-space: pre-wrap;\n",
       "}\n",
       "</style>\n",
       "<small>shape: (17, 2)</small><table border=\"1\" class=\"dataframe\"><thead><tr><th>publication_number</th><th>counts</th></tr><tr><td>str</td><td>f64</td></tr></thead><tbody><tr><td>&quot;US-1&quot;</td><td>0.175428</td></tr><tr><td>&quot;US-2&quot;</td><td>0.268894</td></tr><tr><td>&quot;US-3&quot;</td><td>0.082375</td></tr><tr><td>&quot;US-4&quot;</td><td>0.081432</td></tr><tr><td>&quot;US-5&quot;</td><td>0.074751</td></tr><tr><td>&quot;US-6&quot;</td><td>0.069157</td></tr><tr><td>&quot;US-7&quot;</td><td>0.065465</td></tr><tr><td>&quot;US-8&quot;</td><td>0.06434</td></tr><tr><td>&quot;US-9&quot;</td><td>0.062578</td></tr><tr><td>&quot;US-A&quot;</td><td>7.5145e-8</td></tr><tr><td>&quot;US-B&quot;</td><td>0.000008</td></tr><tr><td>&quot;US-D&quot;</td><td>0.051244</td></tr><tr><td>&quot;US-H&quot;</td><td>0.000167</td></tr><tr><td>&quot;US-P&quot;</td><td>0.00169</td></tr><tr><td>&quot;US-R&quot;</td><td>0.002346</td></tr><tr><td>&quot;US-T&quot;</td><td>0.000124</td></tr><tr><td>&quot;US-X&quot;</td><td>3.0058e-7</td></tr></tbody></table></div>"
      ],
      "text/plain": [
       "shape: (17, 2)\n",
       "┌────────────────────┬───────────┐\n",
       "│ publication_number ┆ counts    │\n",
       "│ ---                ┆ ---       │\n",
       "│ str                ┆ f64       │\n",
       "╞════════════════════╪═══════════╡\n",
       "│ US-1               ┆ 0.175428  │\n",
       "│ US-2               ┆ 0.268894  │\n",
       "│ US-3               ┆ 0.082375  │\n",
       "│ US-4               ┆ 0.081432  │\n",
       "│ …                  ┆ …         │\n",
       "│ US-P               ┆ 0.00169   │\n",
       "│ US-R               ┆ 0.002346  │\n",
       "│ US-T               ┆ 0.000124  │\n",
       "│ US-X               ┆ 3.0058e-7 │\n",
       "└────────────────────┴───────────┘"
      ]
     },
     "execution_count": 14,
     "metadata": {},
     "output_type": "execute_result"
    }
   ],
   "source": [
    "nn_df[\"publication_number\"].str.slice(0, 4).value_counts().sort(\"publication_number\").with_columns(\n",
    "    pl.col(\"counts\") / len(nn_df)\n",
    ")"
   ]
  },
  {
   "cell_type": "code",
   "execution_count": 18,
   "metadata": {},
   "outputs": [
    {
     "data": {
      "text/html": [
       "<div><style>\n",
       ".dataframe > thead > tr > th,\n",
       ".dataframe > tbody > tr > td {\n",
       "  text-align: right;\n",
       "  white-space: pre-wrap;\n",
       "}\n",
       "</style>\n",
       "<small>shape: (15, 2)</small><table border=\"1\" class=\"dataframe\"><thead><tr><th>publication_number</th><th>counts</th></tr><tr><td>str</td><td>f64</td></tr></thead><tbody><tr><td>&quot;US-1&quot;</td><td>0.140125</td></tr><tr><td>&quot;US-2&quot;</td><td>0.2823</td></tr><tr><td>&quot;US-3&quot;</td><td>0.015555</td></tr><tr><td>&quot;US-4&quot;</td><td>0.11029</td></tr><tr><td>&quot;US-5&quot;</td><td>0.10169</td></tr><tr><td>&quot;US-6&quot;</td><td>0.09063</td></tr><tr><td>&quot;US-7&quot;</td><td>0.08666</td></tr><tr><td>&quot;US-8&quot;</td><td>0.08559</td></tr><tr><td>&quot;US-9&quot;</td><td>0.08175</td></tr><tr><td>&quot;US-B&quot;</td><td>0.000015</td></tr><tr><td>&quot;US-D&quot;</td><td>0.000655</td></tr><tr><td>&quot;US-H&quot;</td><td>0.000245</td></tr><tr><td>&quot;US-P&quot;</td><td>0.002345</td></tr><tr><td>&quot;US-R&quot;</td><td>0.002045</td></tr><tr><td>&quot;US-T&quot;</td><td>0.000105</td></tr></tbody></table></div>"
      ],
      "text/plain": [
       "shape: (15, 2)\n",
       "┌────────────────────┬──────────┐\n",
       "│ publication_number ┆ counts   │\n",
       "│ ---                ┆ ---      │\n",
       "│ str                ┆ f64      │\n",
       "╞════════════════════╪══════════╡\n",
       "│ US-1               ┆ 0.140125 │\n",
       "│ US-2               ┆ 0.2823   │\n",
       "│ US-3               ┆ 0.015555 │\n",
       "│ US-4               ┆ 0.11029  │\n",
       "│ …                  ┆ …        │\n",
       "│ US-H               ┆ 0.000245 │\n",
       "│ US-P               ┆ 0.002345 │\n",
       "│ US-R               ┆ 0.002045 │\n",
       "│ US-T               ┆ 0.000105 │\n",
       "└────────────────────┴──────────┘"
      ]
     },
     "execution_count": 18,
     "metadata": {},
     "output_type": "execute_result"
    }
   ],
   "source": [
    "train_index_df = pl.DataFrame({\"publication_number\": list(indexs)})\n",
    "\n",
    "train_index_df[\"publication_number\"].str.slice(0, 4).value_counts().sort(\n",
    "    \"publication_number\"\n",
    ").with_columns(pl.col(\"counts\") / len(train_index_df))"
   ]
  },
  {
   "cell_type": "markdown",
   "metadata": {},
   "source": [
    "---\n",
    "### 発行年の分布"
   ]
  },
  {
   "cell_type": "code",
   "execution_count": 25,
   "metadata": {},
   "outputs": [],
   "source": [
    "patent2year = dict(zip(meta[\"publication_number\"], meta[\"year\"]))"
   ]
  },
  {
   "cell_type": "code",
   "execution_count": 28,
   "metadata": {},
   "outputs": [
    {
     "data": {
      "image/png": "[encoded data removed]",
      "text/plain": [
       "<Figure size 640x480 with 1 Axes>"
      ]
     },
     "metadata": {},
     "output_type": "display_data"
    }
   ],
   "source": [
    "years = [year for year in patent2year.values() if year]\n",
    "plt.hist(years, bins=range(1970, 2023))\n",
    "plt.show()"
   ]
  },
  {
   "cell_type": "code",
   "execution_count": 29,
   "metadata": {},
   "outputs": [
    {
     "data": {
      "image/png": "[encoded data removed]",
      "text/plain": [
       "<Figure size 640x480 with 1 Axes>"
      ]
     },
     "metadata": {},
     "output_type": "display_data"
    }
   ],
   "source": [
    "index_years = [patent2year[patent] for patent in indexs if patent in patent2year]\n",
    "index_years = [year for year in index_years if year]\n",
    "plt.hist(index_years, bins=range(1970, 2023))\n",
    "plt.show()"
   ]
  },
  {
   "cell_type": "code",
   "execution_count": 31,
   "metadata": {},
   "outputs": [
    {
     "name": "stdout",
     "output_type": "stream",
     "text": [
      "10003050\n"
     ]
    },
    {
     "data": {
      "image/png": "[encoded data removed]",
      "text/plain": [
       "<Figure size 640x480 with 1 Axes>"
      ]
     },
     "metadata": {},
     "output_type": "display_data"
    }
   ],
   "source": [
    "index_neighbor_df = nn_df.filter(pl.col(\"publication_number\").is_in(indexs))\n",
    "index_neighbors = []\n",
    "for i in range(50):\n",
    "    index_neighbors.extend(index_neighbor_df[\"neighbor_\" + str(i)].to_list())\n",
    "print(len(index_neighbors))\n",
    "\n",
    "index_neighbor_years = [patent2year[patent] for patent in index_neighbors if patent in patent2year]\n",
    "index_neighbor_years = [year for year in index_neighbor_years if year]\n",
    "plt.hist(index_neighbor_years, bins=range(1970, 2023))\n",
    "plt.show()"
   ]
  },
  {
   "cell_type": "code",
   "execution_count": null,
   "metadata": {},
   "outputs": [],
   "source": []
  },
  {
   "cell_type": "code",
   "execution_count": null,
   "metadata": {},
   "outputs": [],
   "source": []
  },
  {
   "cell_type": "code",
   "execution_count": null,
   "metadata": {},
   "outputs": [],
   "source": []
  },
  {
   "cell_type": "code",
   "execution_count": null,
   "metadata": {},
   "outputs": [],
   "source": []
  }
 ],
 "metadata": {
  "kernelspec": {
   "display_name": "base",
   "language": "python",
   "name": "python3"
  },
  "language_info": {
   "codemirror_mode": {
    "name": "ipython",
    "version": 3
   },
   "file_extension": ".py",
   "mimetype": "text/x-python",
   "name": "python",
   "nbconvert_exporter": "python",
   "pygments_lexer": "ipython3",
   "version": "3.10.10"
  }
 },
 "nbformat": 4,
 "nbformat_minor": 2
}
