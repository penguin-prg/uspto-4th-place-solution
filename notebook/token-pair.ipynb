{
 "cells": [
  {
   "cell_type": "code",
   "execution_count": 1,
   "metadata": {},
   "outputs": [
    {
     "name": "stdout",
     "output_type": "stream",
     "text": [
      "KAGGLE_ENV=False\n",
      "ENV_NAME='local'\n"
     ]
    }
   ],
   "source": [
    "import os\n",
    "from tqdm import tqdm\n",
    "\n",
    "KAGGLE_ENV = not os.path.exists(\"/kaggle/.vscode\")\n",
    "ENV_NAME = \"kaggle\" if KAGGLE_ENV else \"local\"\n",
    "print(f\"{KAGGLE_ENV=}\")\n",
    "print(f\"{ENV_NAME=}\")\n",
    "\n",
    "if KAGGLE_ENV:\n",
    "    !pip install -U -q plyvel --no-index --find-links=file:///kaggle/input/uspto-gen-wheel/plyvel\n",
    "\n",
    "    move_dirs = (\n",
    "        [\n",
    "        \"/kaggle/input/preprocess-all-token-single\",\n",
    "        \"/kaggle/input/uspto-rare-tokens-dataset\",\n",
    "        ] \n",
    "        + [f\"/kaggle/input/complete-db-{i}\" for i in range(15)]\n",
    "        + [f\"/kaggle/input/complete-db-v2-{i}\" for i in range(5)]\n",
    "        + [f\"/kaggle/input/uspto-ratio-db-{i}\" for i in range(20)]\n",
    "    )\n",
    "\n",
    "    !mkdir /kaggle/tmp\n",
    "    for move_dir in tqdm(move_dirs):\n",
    "        !cp -r {move_dir} /kaggle/tmp/{move_dir.split(\"/\")[-1]}\n",
    "    !ls /kaggle/tmp"
   ]
  },
  {
   "cell_type": "code",
   "execution_count": 2,
   "metadata": {},
   "outputs": [],
   "source": [
    "import os\n",
    "import sys\n",
    "\n",
    "if KAGGLE_ENV:\n",
    "    PACKAGE_DIR = \"/kaggle/input/uspto-src/src\"\n",
    "else:\n",
    "    PACKAGE_DIR = \"/kaggle/src\"\n",
    "sys.path.append(PACKAGE_DIR)\n",
    "sys.path.append(os.path.join(PACKAGE_DIR, \"Penguin-ML-Library\"))"
   ]
  },
  {
   "cell_type": "code",
   "execution_count": 19,
   "metadata": {},
   "outputs": [
    {
     "name": "stderr",
     "output_type": "stream",
     "text": [
      "set seed: 46\n"
     ]
    },
    {
     "name": "stdout",
     "output_type": "stream",
     "text": [
      "exp_0001\n"
     ]
    }
   ],
   "source": [
    "import json\n",
    "import multiprocessing\n",
    "import random\n",
    "import warnings\n",
    "from collections import Counter\n",
    "from typing import List, Set, Tuple\n",
    "\n",
    "import matplotlib.pyplot as plt\n",
    "import numpy as np\n",
    "import plyvel\n",
    "import polars as pl\n",
    "import yaml\n",
    "from penguinml.utils.logger import get_logger, init_logger\n",
    "from penguinml.utils.set_seed import seed_base\n",
    "from penguinml.utils.timer import Timer\n",
    "from tqdm import tqdm\n",
    "\n",
    "import whoosh_utils\n",
    "from const import INF, KEY2QUERY, NUM_CPU, QUERY2KEY\n",
    "from db import CompleteDB, SingleTokenDB, TokinezedDB\n",
    "from solver import HitBlock, SimulatedAnnealing, State\n",
    "from utils import compute_ap, evaluate\n",
    "\n",
    "warnings.filterwarnings(\"ignore\")\n",
    "MODEL_NAME = \"baseline\"\n",
    "CFG = yaml.safe_load(open(os.path.join(PACKAGE_DIR, \"config.yaml\"), \"r\"))\n",
    "print(CFG[MODEL_NAME][\"execution\"][\"exp_id\"])\n",
    "CFG[\"output_dir\"] = f\"/kaggle/output/{CFG[MODEL_NAME]['execution']['exp_id']}\"\n",
    "# !rm -r {CFG[\"output_dir\"]}\n",
    "os.makedirs(CFG[\"output_dir\"], exist_ok=True)\n",
    "\n",
    "init_logger(\"log.log\")\n",
    "logger = get_logger(\"main\")\n",
    "seed_base(CFG[MODEL_NAME][\"execution\"][\"seed\"])"
   ]
  },
  {
   "cell_type": "code",
   "execution_count": 6,
   "metadata": {},
   "outputs": [],
   "source": [
    "DANGER_TYPE = \"all\"\n",
    "# DANGER_TYPE = \"2hop\"\n",
    "assert DANGER_TYPE in [\"all\", \"2hop\"]\n",
    "\n",
    "if KAGGLE_ENV:\n",
    "    TRAIN_PATH = \"/kaggle/input/uspto-train-index-2500/train2500_seed0.parquet\"\n",
    "    #     TRAIN_PATH = \"/kaggle/input/uspto-explainable-ai/test.csv\"\n",
    "    TRAIN_INDEX_PATH = \"/kaggle/input/uspto-train-index-2500/index_2500_200k\"\n",
    "    NN_DF_PATH = \"/kaggle/input/uspto-explainable-ai/nearest_neighbors.csv\"\n",
    "\n",
    "    # database\n",
    "    PATENT2RARE_TOKENS_PATH = \"/kaggle/tmp/uspto-rare-tokens-dataset/db\"\n",
    "\n",
    "    COMPLETE_DB_PATH = [f\"/kaggle/tmp/complete-db-{i}/complete-db-{i}/db\" for i in range(15)]\n",
    "    COMPLETE_INDEX_PATH = [f\"/kaggle/input/uspto-complete-index-{i}/index.lz4\" for i in range(15)]\n",
    "\n",
    "    COMPLETE_DB_V2_PATH = [f\"/kaggle/tmp/complete-db-v2-{i}/db\" for i in range(5)]\n",
    "    COMPLETE_INDEX_V2_PATH = [f\"/kaggle/input/complete-db-index-v2-{i}/index.lz4\" for i in range(5)]\n",
    "\n",
    "    CPC_TOKEN2RANGE_SPLIT = 20\n",
    "    CPC_TOKEN2RANGE_DB_PATHES = [\n",
    "        f\"/kaggle/tmp/uspto-ratio-db-{i}/ratio-db-{i}/db\" for i in range(CPC_TOKEN2RANGE_SPLIT)\n",
    "    ]\n",
    "    CPC_TOKEN_INDEX_PATHES = [\n",
    "        f\"/kaggle/input/uspto-ratio-db-index-{i}/index.txt\" for i in range(CPC_TOKEN2RANGE_SPLIT)\n",
    "    ]\n",
    "\n",
    "    SINGLE_TOKEN_DB_PATH = \"/kaggle/tmp/preprocess-all-token-single/db/db\"\n",
    "    SINGLE_TOKEN_INDEX_PATH = \"/kaggle/tmp/preprocess-all-token-single/index.lz4\"\n",
    "\n",
    "    TRAIN_MODE = \"train\" in TRAIN_PATH\n",
    "    VISUALIZE = False\n",
    "else:\n",
    "    TRAIN_PATH = \"/kaggle/input/uspto-train-data-2500/train2500_seed0.parquet\"\n",
    "    TRAIN_INDEX_PATH = \"/kaggle/input/train-index-2500/index_2500_200k\"\n",
    "    NN_DF_PATH = \"/kaggle/input/uspto-boolean-search-optimization/nearest_neighbors.csv\"\n",
    "\n",
    "    # database\n",
    "    PATENT2RARE_TOKENS_PATH = \"/kaggle/input/rare-tokens/db\"\n",
    "\n",
    "    COMPLETE_DB_PATH = [\n",
    "        f\"/kaggle/input/preprocess-complete/split/complete-db-{i}/db\" for i in range(15)\n",
    "    ]\n",
    "    COMPLETE_INDEX_PATH = [\n",
    "        f\"/kaggle/input/preprocess-complete/split/complete-db-{i}/index.lz4\" for i in range(15)\n",
    "    ]\n",
    "\n",
    "    COMPLETE_DB_V2_PATH = [\n",
    "        f\"/kaggle/input/preprocess-complete-v2/split/complete-db-{i}/db\" for i in range(5)\n",
    "    ]\n",
    "    COMPLETE_INDEX_V2_PATH = [\n",
    "        f\"/kaggle/input/preprocess-complete-v2/split/complete-db-{i}/index.lz4\" for i in range(5)\n",
    "    ]\n",
    "\n",
    "    TOKENIZED_SPLIT = 10\n",
    "    TOKENIZED_DB_PATHES = [\n",
    "        f\"/kaggle/input/all-index-per-patent/split/tokenized-db-{i}/db\"\n",
    "        for i in range(TOKENIZED_SPLIT)\n",
    "    ]\n",
    "    TOKENIZED_INDEX_PATHES = [\n",
    "        f\"/kaggle/input/all-index-per-patent/split/tokenized-db-{i}/index.lz4\"\n",
    "        for i in range(TOKENIZED_SPLIT)\n",
    "    ]\n",
    "\n",
    "    CPC_TOKEN2RANGE_SPLIT = 20\n",
    "    CPC_TOKEN2RANGE_DB_PATHES = [\n",
    "        f\"/kaggle/input/preprocess-cands-ratio/split/ratio-db-{i}/db\"\n",
    "        for i in range(CPC_TOKEN2RANGE_SPLIT)\n",
    "    ]\n",
    "    CPC_TOKEN_INDEX_PATHES = [\n",
    "        f\"/kaggle/input/preprocess-cands-ratio/split/ratio-db-{i}/index.txt\"\n",
    "        for i in range(CPC_TOKEN2RANGE_SPLIT)\n",
    "    ]\n",
    "\n",
    "    SINGLE_TOKEN_DB_PATH = \"/kaggle/input/preprocess-all-token-single/db\"\n",
    "    SINGLE_TOKEN_INDEX_PATH = \"/kaggle/input/preprocess-all-token-single/index.lz4\"\n",
    "\n",
    "    TRAIN_MODE = True\n",
    "    VISUALIZE = False"
   ]
  },
  {
   "cell_type": "code",
   "execution_count": 5,
   "metadata": {},
   "outputs": [],
   "source": [
    "if TRAIN_PATH.split(\".\")[-1] == \"parquet\":\n",
    "    train = pl.read_parquet(TRAIN_PATH)\n",
    "else:\n",
    "    train = pl.read_csv(TRAIN_PATH)"
   ]
  },
  {
   "cell_type": "code",
   "execution_count": 9,
   "metadata": {},
   "outputs": [],
   "source": [
    "tokenized_db = TokinezedDB(TOKENIZED_DB_PATHES, TOKENIZED_INDEX_PATHES)"
   ]
  },
  {
   "cell_type": "code",
   "execution_count": 17,
   "metadata": {},
   "outputs": [],
   "source": [
    "with open(\"/kaggle/input/token-counts/token_counts.json\", \"r\") as f:\n",
    "    token_counts = json.load(f)"
   ]
  },
  {
   "cell_type": "code",
   "execution_count": 35,
   "metadata": {},
   "outputs": [
    {
     "name": "stderr",
     "output_type": "stream",
     "text": [
      "1it [00:00,  4.15it/s]"
     ]
    },
    {
     "name": "stdout",
     "output_type": "stream",
     "text": [
      "detd:transpyloric 21 184\n",
      "detd:lcpufas 24 280\n",
      "detd:arasco 16 145\n",
      "detd:dhasco 18 252\n",
      "detd:enfamil 12 214\n",
      "detd:lcpufa 25 355\n",
      "detd:chito 13 375\n",
      "detd:aribino 15 84\n",
      "detd:siallyl 13 100\n",
      "detd:fuco 13 452\n",
      "detd:gentio 14 466\n",
      "detd:reconstituteable 11 49\n",
      "detd:lactoflavin 11 349\n",
      "detd:ovoflavin 11 81\n",
      "detd:nicmn 11 73\n",
      "detd:folacin 14 468\n",
      "detd:pteroylglutamic 11 349\n",
      "detd:deoxyadenosylcobalamin 12 232\n",
      "detd:hydroxycobalamin 11 345\n",
      "detd:picolonate 12 153\n",
      "detd:nonabsorbed 12 355\n",
      "------------\n",
      "ab:wales 11 357\n",
      "------------\n"
     ]
    },
    {
     "name": "stderr",
     "output_type": "stream",
     "text": [
      "3it [00:00,  6.23it/s]"
     ]
    },
    {
     "name": "stdout",
     "output_type": "stream",
     "text": [
      "------------\n"
     ]
    },
    {
     "name": "stderr",
     "output_type": "stream",
     "text": [
      "4it [00:01,  3.39it/s]"
     ]
    },
    {
     "name": "stdout",
     "output_type": "stream",
     "text": [
      "detd:doranz 12 300\n",
      "detd:cocchi 14 323\n",
      "detd:l1.2 17 420\n",
      "detd:lestr 11 225\n",
      "------------\n",
      "------------\n"
     ]
    },
    {
     "name": "stderr",
     "output_type": "stream",
     "text": [
      "6it [00:01,  4.21it/s]"
     ]
    },
    {
     "name": "stdout",
     "output_type": "stream",
     "text": [
      "detd:tresiba 19 272\n",
      "detd:pediatria 15 36\n",
      "detd:determir 15 92\n",
      "detd:gerich 12 222\n",
      "------------\n"
     ]
    },
    {
     "name": "stderr",
     "output_type": "stream",
     "text": [
      "7it [00:01,  4.14it/s]"
     ]
    },
    {
     "name": "stdout",
     "output_type": "stream",
     "text": [
      "------------\n",
      "------------\n"
     ]
    },
    {
     "name": "stderr",
     "output_type": "stream",
     "text": [
      "9it [00:01,  5.30it/s]"
     ]
    },
    {
     "name": "stdout",
     "output_type": "stream",
     "text": [
      "------------\n",
      "------------\n"
     ]
    },
    {
     "name": "stderr",
     "output_type": "stream",
     "text": [
      "12it [00:02,  5.57it/s]"
     ]
    },
    {
     "name": "stdout",
     "output_type": "stream",
     "text": [
      "detd:phosphoramadite 16 353\n",
      "------------\n",
      "------------\n"
     ]
    },
    {
     "name": "stderr",
     "output_type": "stream",
     "text": [
      "14it [00:02,  6.12it/s]"
     ]
    },
    {
     "name": "stdout",
     "output_type": "stream",
     "text": [
      "------------\n",
      "------------\n"
     ]
    },
    {
     "name": "stderr",
     "output_type": "stream",
     "text": [
      "15it [00:02,  5.32it/s]"
     ]
    },
    {
     "name": "stdout",
     "output_type": "stream",
     "text": [
      "ti:platelets 11 411\n",
      "detd:benzenepentacarboxylic 11 307\n",
      "detd:benzenehexacarboxylic 11 306\n",
      "detd:cyclopentanediacetic 13 65\n",
      "detd:amnoethanesulfonic 11 12\n",
      "detd:emta 13 381\n",
      "detd:endca 13 27\n",
      "detd:cholamine 13 241\n",
      "detd:triscarboxylic 13 29\n",
      "detd:methyltricarballylic 13 34\n",
      "detd:amminoethane 11 14\n",
      "detd:aggregometry 23 438\n",
      "detd:plateletpheresis 12 340\n",
      "detd:polysucrose 13 475\n",
      "detd:gpvi 13 391\n",
      "detd:gpiiia 14 362\n",
      "------------\n",
      "------------\n"
     ]
    },
    {
     "name": "stderr",
     "output_type": "stream",
     "text": [
      "18it [00:03,  5.18it/s]"
     ]
    },
    {
     "name": "stdout",
     "output_type": "stream",
     "text": [
      "------------\n",
      "------------\n"
     ]
    },
    {
     "name": "stderr",
     "output_type": "stream",
     "text": [
      "20it [00:03,  6.34it/s]"
     ]
    },
    {
     "name": "stdout",
     "output_type": "stream",
     "text": [
      "------------\n",
      "------------\n"
     ]
    },
    {
     "name": "stderr",
     "output_type": "stream",
     "text": [
      "21it [00:03,  6.59it/s]"
     ]
    },
    {
     "name": "stdout",
     "output_type": "stream",
     "text": [
      "------------\n",
      "detd:sentrin 13 334\n",
      "detd:prka 11 482\n",
      "detd:chromobox 11 368\n"
     ]
    },
    {
     "name": "stderr",
     "output_type": "stream",
     "text": [
      "22it [00:04,  2.67it/s]"
     ]
    },
    {
     "name": "stdout",
     "output_type": "stream",
     "text": [
      "------------\n"
     ]
    },
    {
     "name": "stderr",
     "output_type": "stream",
     "text": [
      "24it [00:05,  3.34it/s]"
     ]
    },
    {
     "name": "stdout",
     "output_type": "stream",
     "text": [
      "detd:expensify 15 99\n",
      "detd:gusto 15 382\n",
      "detd:generitech 15 90\n",
      "detd:expensing 15 291\n",
      "detd:operationalizing 15 397\n",
      "detd:value_1 12 165\n",
      "------------\n",
      "------------\n"
     ]
    },
    {
     "name": "stderr",
     "output_type": "stream",
     "text": [
      "26it [00:05,  4.32it/s]"
     ]
    },
    {
     "name": "stdout",
     "output_type": "stream",
     "text": [
      "------------\n",
      "------------\n"
     ]
    },
    {
     "name": "stderr",
     "output_type": "stream",
     "text": [
      "27it [00:05,  4.45it/s]"
     ]
    },
    {
     "name": "stdout",
     "output_type": "stream",
     "text": [
      "detd:bistrifluoromethylbenzidine 11 28\n",
      "detd:bistrifluoromethoxylbenzidine 11 1\n",
      "detd:bistrifluoromethyldiphenyl 11 4\n",
      "detd:trifluoromethylphenyloxyl 11 1\n",
      "detd:naphthaloyl 12 235\n",
      "detd:biphenyldicarbonyl 15 144\n",
      "detd:diaminodiphenic 13 12\n",
      "detd:bisphenylfluorene 17 38\n",
      "detd:pfmb 21 57\n",
      "detd:ffda 11 38\n",
      "detd:dadp 11 460\n",
      "clm:ozo 20 28\n",
      "clm:perfluorobiphenyl 11 135\n",
      "detd:tfdb 15 259\n",
      "------------\n",
      "------------\n"
     ]
    },
    {
     "name": "stderr",
     "output_type": "stream",
     "text": [
      "30it [00:06,  4.87it/s]"
     ]
    },
    {
     "name": "stdout",
     "output_type": "stream",
     "text": [
      "clm:propenylene 14 185\n",
      "clm:leukotrienes 31 289\n",
      "detd:biosyntheses 32 485\n",
      "detd:thioethoxide 16 294\n",
      "detd:diphenylphosphide 16 309\n",
      "detd:aharony 21 138\n",
      "detd:forder 34 264\n",
      "detd:heparinisation 34 58\n",
      "detd:humes 23 488\n",
      "detd:aked 22 244\n",
      "detd:nsaia 34 61\n",
      "detd:meck 23 180\n",
      "ab:sulphinyl 31 103\n",
      "ab:sulphonyl 31 348\n",
      "clm:sulphinyl 24 422\n",
      "detd:peroxysulphate 30 59\n",
      "detd:peroxymonosulphate 30 188\n",
      "detd:intrapouch 20 18\n",
      "detd:sp62 32 266\n",
      "detd:hydroxytetrahydropyran 14 357\n",
      "detd:ylsulphonyl 11 433\n",
      "ab:alkynylene 12 299\n",
      "clm:propynylene 12 36\n",
      "detd:propylsulphinyl 19 288\n",
      "detd:butylsulphinyl 18 172\n",
      "detd:aryldi 13 133\n",
      "detd:pentaoxacyclopentadecane 13 160\n",
      "ab:heterocyclene 16 21\n",
      "detd:ynylene 12 146\n",
      "detd:cyanopropoxy 16 303\n",
      "detd:carbamoylmethoxy 15 478\n",
      "detd:methylaminoethoxy 12 463\n",
      "detd:methoxycarbonylethoxy 15 183\n",
      "detd:alkylsulphide 12 70\n",
      "detd:diarylphosphide 12 61\n",
      "detd:2.sup.b 15 492\n",
      "detd:3.sup.c 15 201\n",
      "detd:4.sup.d 14 98\n",
      "detd:5.sup.e 14 74\n",
      "detd:6.sup.f 14 46\n",
      "detd:7.sup.g 12 29\n",
      "detd:8.sup.h 11 31\n",
      "detd:methylallyloxy 11 255\n",
      "detd:bromomethylnaphthalene 12 288\n",
      "detd:isopropylsulphonyl 11 339\n",
      "------------\n",
      "ab:arrowhead 15 492\n",
      "detd:fletchings 11 250\n",
      "detd:broadheads 18 406\n",
      "ab:broadhead 14 263\n",
      "clm:broadhead 16 326\n",
      "ti:broadhead 11 252\n",
      "------------\n"
     ]
    },
    {
     "name": "stderr",
     "output_type": "stream",
     "text": [
      "32it [00:06,  5.74it/s]"
     ]
    },
    {
     "name": "stdout",
     "output_type": "stream",
     "text": [
      "------------\n",
      "------------\n"
     ]
    },
    {
     "name": "stderr",
     "output_type": "stream",
     "text": [
      "33it [00:07,  5.68it/s]"
     ]
    },
    {
     "name": "stdout",
     "output_type": "stream",
     "text": [
      "------------\n"
     ]
    },
    {
     "name": "stderr",
     "output_type": "stream",
     "text": [
      "35it [00:07,  5.22it/s]"
     ]
    },
    {
     "name": "stdout",
     "output_type": "stream",
     "text": [
      "------------\n",
      "------------\n"
     ]
    },
    {
     "name": "stderr",
     "output_type": "stream",
     "text": [
      "37it [00:07,  5.13it/s]"
     ]
    },
    {
     "name": "stdout",
     "output_type": "stream",
     "text": [
      "------------\n",
      "------------\n"
     ]
    },
    {
     "name": "stderr",
     "output_type": "stream",
     "text": [
      "39it [00:08,  5.45it/s]"
     ]
    },
    {
     "name": "stdout",
     "output_type": "stream",
     "text": [
      "ti:urethanes 11 298\n",
      "ab:urethanes 14 443\n",
      "------------\n",
      "ti:fibrinogen 15 281\n",
      "------------\n"
     ]
    },
    {
     "name": "stderr",
     "output_type": "stream",
     "text": [
      "40it [00:08,  5.25it/s]"
     ]
    },
    {
     "name": "stdout",
     "output_type": "stream",
     "text": [
      "------------\n",
      "------------\n"
     ]
    },
    {
     "name": "stderr",
     "output_type": "stream",
     "text": [
      "43it [00:08,  5.94it/s]"
     ]
    },
    {
     "name": "stdout",
     "output_type": "stream",
     "text": [
      "detd:macapp 14 123\n",
      "detd:menubar 13 297\n",
      "detd:autoscroll 11 76\n",
      "------------\n",
      "------------\n"
     ]
    },
    {
     "name": "stderr",
     "output_type": "stream",
     "text": [
      "44it [00:09,  5.57it/s]"
     ]
    },
    {
     "name": "stdout",
     "output_type": "stream",
     "text": [
      "detd:cloudlet 16 466\n",
      "detd:cloudran 16 261\n",
      "------------\n"
     ]
    },
    {
     "name": "stderr",
     "output_type": "stream",
     "text": [
      "46it [00:09,  4.97it/s]"
     ]
    },
    {
     "name": "stdout",
     "output_type": "stream",
     "text": [
      "detd:completable 15 226\n",
      "ti:drones 11 262\n",
      "ab:atc 11 279\n",
      "------------\n",
      "ab:palatability 21 372\n",
      "clm:palatability 13 401\n",
      "clm:farinaceous 13 369\n",
      "------------\n"
     ]
    },
    {
     "name": "stderr",
     "output_type": "stream",
     "text": [
      "48it [00:09,  5.72it/s]"
     ]
    },
    {
     "name": "stdout",
     "output_type": "stream",
     "text": [
      "------------\n",
      "------------\n"
     ]
    },
    {
     "name": "stderr",
     "output_type": "stream",
     "text": [
      "49it [00:10,  6.40it/s]"
     ]
    },
    {
     "name": "stdout",
     "output_type": "stream",
     "text": [
      "------------\n",
      "------------\n"
     ]
    },
    {
     "name": "stderr",
     "output_type": "stream",
     "text": [
      "51it [00:10,  4.93it/s]"
     ]
    },
    {
     "name": "stdout",
     "output_type": "stream",
     "text": [
      "detd:orthotist 11 201\n",
      "------------\n",
      "------------\n"
     ]
    },
    {
     "name": "stderr",
     "output_type": "stream",
     "text": [
      "\n"
     ]
    }
   ],
   "source": [
    "for i, target_ids in tqdm(enumerate(train.iter_rows())):\n",
    "    target_ids = target_ids[1:]\n",
    "    token2patents = {}\n",
    "    for target in target_ids:\n",
    "        tokens = tokenized_db.get(target)\n",
    "        for key, this_tokens in tokens.items():\n",
    "            for token in this_tokens:\n",
    "                token = f\"{KEY2QUERY[key]}:{token}\"\n",
    "                if token not in token2patents:\n",
    "                    token2patents[token] = set()\n",
    "                token2patents[token].add(target)\n",
    "\n",
    "    for token, patents in token2patents.items():\n",
    "        inner_count = len(patents)\n",
    "        key, _token = token.split(\":\")\n",
    "        all_count = token_counts[QUERY2KEY[key]][_token]\n",
    "        outer_count = all_count - inner_count\n",
    "\n",
    "        if outer_count < 500 and inner_count > 10:\n",
    "            print(token, inner_count, outer_count)\n",
    "    print(\"------------\")\n",
    "\n",
    "    if i > 50:\n",
    "        break"
   ]
  },
  {
   "cell_type": "code",
   "execution_count": null,
   "metadata": {},
   "outputs": [],
   "source": []
  },
  {
   "cell_type": "code",
   "execution_count": null,
   "metadata": {},
   "outputs": [],
   "source": []
  },
  {
   "cell_type": "code",
   "execution_count": null,
   "metadata": {},
   "outputs": [],
   "source": []
  },
  {
   "cell_type": "code",
   "execution_count": null,
   "metadata": {},
   "outputs": [],
   "source": []
  }
 ],
 "metadata": {
  "kernelspec": {
   "display_name": "base",
   "language": "python",
   "name": "python3"
  },
  "language_info": {
   "codemirror_mode": {
    "name": "ipython",
    "version": 3
   },
   "file_extension": ".py",
   "mimetype": "text/x-python",
   "name": "python",
   "nbconvert_exporter": "python",
   "pygments_lexer": "ipython3",
   "version": "3.10.10"
  }
 },
 "nbformat": 4,
 "nbformat_minor": 2
}
