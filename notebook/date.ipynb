{
 "cells": [
  {
   "cell_type": "code",
   "execution_count": 10,
   "metadata": {},
   "outputs": [],
   "source": [
    "import numpy as np\n",
    "import polars as pl"
   ]
  },
  {
   "cell_type": "code",
   "execution_count": 11,
   "metadata": {},
   "outputs": [
    {
     "data": {
      "text/html": [
       "<div><style>\n",
       ".dataframe > thead > tr > th,\n",
       ".dataframe > tbody > tr > td {\n",
       "  text-align: right;\n",
       "  white-space: pre-wrap;\n",
       "}\n",
       "</style>\n",
       "<small>shape: (2, 5)</small><table border=\"1\" class=\"dataframe\"><thead><tr><th>publication_number</th><th>publication_date</th><th>filing_date</th><th>family_id</th><th>cpc_codes</th></tr><tr><td>str</td><td>datetime[μs]</td><td>datetime[μs]</td><td>f64</td><td>list[str]</td></tr></thead><tbody><tr><td>&quot;US-1-A&quot;</td><td>1836-07-13 00:00:00</td><td>null</td><td>2.060279e6</td><td>[&quot;B61C11/04&quot;]</td></tr><tr><td>&quot;US-1-P&quot;</td><td>1931-08-18 00:00:00</td><td>1930-08-06 00:00:00</td><td>4.9893162e7</td><td>[&quot;A01H5/02&quot;, &quot;A01H6/749&quot;]</td></tr></tbody></table></div>"
      ],
      "text/plain": [
       "shape: (2, 5)\n",
       "┌────────────────────┬─────────────────────┬──────────────┬─────────────┬───────────────┐\n",
       "│ publication_number ┆ publication_date    ┆ filing_date  ┆ family_id   ┆ cpc_codes     │\n",
       "│ ---                ┆ ---                 ┆ ---          ┆ ---         ┆ ---           │\n",
       "│ str                ┆ datetime[μs]        ┆ datetime[μs] ┆ f64         ┆ list[str]     │\n",
       "╞════════════════════╪═════════════════════╪══════════════╪═════════════╪═══════════════╡\n",
       "│ US-1-A             ┆ 1836-07-13 00:00:00 ┆ null         ┆ 2.060279e6  ┆ [\"B61C11/04\"] │\n",
       "│ US-1-P             ┆ 1931-08-18 00:00:00 ┆ 1930-08-06   ┆ 4.9893162e7 ┆ [\"A01H5/02\",  │\n",
       "│                    ┆                     ┆ 00:00:00     ┆             ┆ \"A01H6/749\"]  │\n",
       "└────────────────────┴─────────────────────┴──────────────┴─────────────┴───────────────┘"
      ]
     },
     "execution_count": 11,
     "metadata": {},
     "output_type": "execute_result"
    }
   ],
   "source": [
    "metadata = pl.read_parquet(\n",
    "    \"/kaggle/input/uspto-boolean-search-optimization/patent_metadata.parquet\"\n",
    ")\n",
    "metadata.head(2)"
   ]
  },
  {
   "cell_type": "code",
   "execution_count": 13,
   "metadata": {},
   "outputs": [
    {
     "data": {
      "text/html": [
       "<div><style>\n",
       ".dataframe > thead > tr > th,\n",
       ".dataframe > tbody > tr > td {\n",
       "  text-align: right;\n",
       "  white-space: pre-wrap;\n",
       "}\n",
       "</style>\n",
       "<small>shape: (2, 6)</small><table border=\"1\" class=\"dataframe\"><thead><tr><th>publication_number</th><th>publication_date</th><th>filing_date</th><th>family_id</th><th>cpc_codes</th><th>year</th></tr><tr><td>str</td><td>datetime[μs]</td><td>datetime[μs]</td><td>f64</td><td>list[str]</td><td>i32</td></tr></thead><tbody><tr><td>&quot;US-1-A&quot;</td><td>1836-07-13 00:00:00</td><td>null</td><td>2.060279e6</td><td>[&quot;B61C11/04&quot;]</td><td>1836</td></tr><tr><td>&quot;US-1-P&quot;</td><td>1931-08-18 00:00:00</td><td>1930-08-06 00:00:00</td><td>4.9893162e7</td><td>[&quot;A01H5/02&quot;, &quot;A01H6/749&quot;]</td><td>1931</td></tr></tbody></table></div>"
      ],
      "text/plain": [
       "shape: (2, 6)\n",
       "┌───────────────────────┬──────────────────────┬──────────────┬─────────────┬───────────────┬──────┐\n",
       "│ publication_number    ┆ publication_date     ┆ filing_date  ┆ family_id   ┆ cpc_codes     ┆ year │\n",
       "│ ---                   ┆ ---                  ┆ ---          ┆ ---         ┆ ---           ┆ ---  │\n",
       "│ str                   ┆ datetime[μs]         ┆ datetime[μs] ┆ f64         ┆ list[str]     ┆ i32  │\n",
       "╞═══════════════════════╪══════════════════════╪══════════════╪═════════════╪═══════════════╪══════╡\n",
       "│ US-1-A                ┆ 1836-07-13 00:00:00  ┆ null         ┆ 2.060279e6  ┆ [\"B61C11/04\"] ┆ 1836 │\n",
       "│ US-1-P                ┆ 1931-08-18 00:00:00  ┆ 1930-08-06   ┆ 4.9893162e7 ┆ [\"A01H5/02\",  ┆ 1931 │\n",
       "│                       ┆                      ┆ 00:00:00     ┆             ┆ \"A01H6/749\"]  ┆      │\n",
       "└───────────────────────┴──────────────────────┴──────────────┴─────────────┴───────────────┴──────┘"
      ]
     },
     "execution_count": 13,
     "metadata": {},
     "output_type": "execute_result"
    }
   ],
   "source": [
    "metadata = metadata.with_columns(pl.col(\"publication_date\").dt.year().alias(\"year\"))\n",
    "metadata.head(2)"
   ]
  },
  {
   "cell_type": "code",
   "execution_count": 14,
   "metadata": {},
   "outputs": [
    {
     "data": {
      "text/plain": [
       "0.7107250865962624"
      ]
     },
     "execution_count": 14,
     "metadata": {},
     "output_type": "execute_result"
    }
   ],
   "source": [
    "(metadata[\"year\"] >= 1975).mean()"
   ]
  },
  {
   "cell_type": "code",
   "execution_count": 15,
   "metadata": {},
   "outputs": [
    {
     "name": "stdout",
     "output_type": "stream",
     "text": [
      "9457935\n"
     ]
    }
   ],
   "source": [
    "val_patens = set(metadata.filter(pl.col(\"year\") >= 1975)[\"publication_number\"].to_list())\n",
    "print(len(val_patens))"
   ]
  },
  {
   "cell_type": "code",
   "execution_count": null,
   "metadata": {},
   "outputs": [],
   "source": []
  },
  {
   "cell_type": "code",
   "execution_count": null,
   "metadata": {},
   "outputs": [],
   "source": []
  }
 ],
 "metadata": {
  "kernelspec": {
   "display_name": "base",
   "language": "python",
   "name": "python3"
  },
  "language_info": {
   "codemirror_mode": {
    "name": "ipython",
    "version": 3
   },
   "file_extension": ".py",
   "mimetype": "text/x-python",
   "name": "python",
   "nbconvert_exporter": "python",
   "pygments_lexer": "ipython3",
   "version": "3.10.10"
  }
 },
 "nbformat": 4,
 "nbformat_minor": 2
}
