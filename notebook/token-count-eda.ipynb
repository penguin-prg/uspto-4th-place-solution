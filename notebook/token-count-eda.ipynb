{
 "cells": [
  {
   "cell_type": "code",
   "execution_count": null,
   "metadata": {},
   "outputs": [],
   "source": []
  },
  {
   "cell_type": "code",
   "execution_count": 1,
   "metadata": {},
   "outputs": [],
   "source": [
    "import json\n",
    "\n",
    "token_counts = json.load(open(\"/kaggle/input/token-counts/token_counts.json\", \"r\"))"
   ]
  },
  {
   "cell_type": "code",
   "execution_count": 2,
   "metadata": {},
   "outputs": [],
   "source": [
    "import matplotlib.pyplot as plt\n",
    "import numpy as np"
   ]
  },
  {
   "cell_type": "code",
   "execution_count": 3,
   "metadata": {},
   "outputs": [
    {
     "name": "stdout",
     "output_type": "stream",
     "text": [
      "title 418338\n",
      "abstract 788285\n",
      "description 68132608\n",
      "claims 2450926\n"
     ]
    }
   ],
   "source": [
    "keys = list(token_counts.keys())\n",
    "for key in keys:\n",
    "    print(key, len(token_counts[key]))"
   ]
  },
  {
   "cell_type": "code",
   "execution_count": 4,
   "metadata": {},
   "outputs": [
    {
     "name": "stdout",
     "output_type": "stream",
     "text": [
      "title 0.985592989400915\n",
      "abstract 0.9817781639889126\n",
      "description 0.9982233323579804\n",
      "claims 0.9906859693030308\n"
     ]
    }
   ],
   "source": [
    "for key in keys:\n",
    "    print(key, np.mean([v < 1000 for v in token_counts[key].values()]))"
   ]
  },
  {
   "cell_type": "code",
   "execution_count": 5,
   "metadata": {},
   "outputs": [
    {
     "name": "stdout",
     "output_type": "stream",
     "text": [
      "title 0.9787970492759444\n",
      "abstract 0.975251336762719\n",
      "description 0.997221198401799\n",
      "claims 0.9870514246452158\n"
     ]
    }
   ],
   "source": [
    "for key in keys:\n",
    "    print(key, np.mean([v < 500 for v in token_counts[key].values()]))"
   ]
  },
  {
   "cell_type": "code",
   "execution_count": 6,
   "metadata": {},
   "outputs": [
    {
     "name": "stdout",
     "output_type": "stream",
     "text": [
      "title 0.06044222221683449\n",
      "abstract 0.019478565271576057\n",
      "description 0.030340978167350142\n",
      "claims 0.017728826342179087\n"
     ]
    }
   ],
   "source": [
    "for key in keys:\n",
    "    small = 0\n",
    "    total = 0\n",
    "    for v in token_counts[key].values():\n",
    "        if v < 500:\n",
    "            small += v\n",
    "        total += v\n",
    "    print(key, small / total)"
   ]
  },
  {
   "cell_type": "code",
   "execution_count": 7,
   "metadata": {},
   "outputs": [
    {
     "name": "stdout",
     "output_type": "stream",
     "text": [
      "title 0.08804256911161243\n",
      "abstract 0.02835528577496577\n",
      "description 0.03578364469075501\n",
      "claims 0.023895821445538538\n"
     ]
    }
   ],
   "source": [
    "for key in keys:\n",
    "    small = 0\n",
    "    total = 0\n",
    "    for v in token_counts[key].values():\n",
    "        if v < 1000:\n",
    "            small += v\n",
    "        total += v\n",
    "    print(key, small / total)"
   ]
  },
  {
   "cell_type": "code",
   "execution_count": 8,
   "metadata": {},
   "outputs": [
    {
     "name": "stdout",
     "output_type": "stream",
     "text": [
      "title 0.2095654318720953\n",
      "abstract 0.07250007494626255\n",
      "description 0.054197081680447574\n",
      "claims 0.051562191822673485\n"
     ]
    }
   ],
   "source": [
    "for key in keys:\n",
    "    small = 0\n",
    "    total = 0\n",
    "    for v in token_counts[key].values():\n",
    "        if v < 5000:\n",
    "            small += v\n",
    "        total += v\n",
    "    print(key, small / total)"
   ]
  },
  {
   "cell_type": "code",
   "execution_count": 9,
   "metadata": {},
   "outputs": [
    {
     "name": "stdout",
     "output_type": "stream",
     "text": [
      "title 0.5665806086761527\n",
      "abstract 0.27323787953468687\n",
      "description 0.11260797797021486\n",
      "claims 0.17369578608284483\n"
     ]
    }
   ],
   "source": [
    "for key in keys:\n",
    "    small = 0\n",
    "    total = 0\n",
    "    for v in token_counts[key].values():\n",
    "        if v < 50000:\n",
    "            small += v\n",
    "        total += v\n",
    "    print(key, small / total)"
   ]
  },
  {
   "cell_type": "code",
   "execution_count": null,
   "metadata": {},
   "outputs": [],
   "source": []
  }
 ],
 "metadata": {
  "kernelspec": {
   "display_name": "base",
   "language": "python",
   "name": "python3"
  },
  "language_info": {
   "codemirror_mode": {
    "name": "ipython",
    "version": 3
   },
   "file_extension": ".py",
   "mimetype": "text/x-python",
   "name": "python",
   "nbconvert_exporter": "python",
   "pygments_lexer": "ipython3",
   "version": "3.10.10"
  }
 },
 "nbformat": 4,
 "nbformat_minor": 2
}
